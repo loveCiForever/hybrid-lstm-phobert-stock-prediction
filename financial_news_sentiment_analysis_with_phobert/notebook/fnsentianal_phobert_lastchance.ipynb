{
  "cells": [
    {
      "cell_type": "markdown",
      "metadata": {
        "id": "z4iUYRg8CuUC"
      },
      "source": [
        "# Phân Loại Cảm Xúc Văn Bản Tài Chính Sử Dụng PhoBERT\n",
        "\n",
        "- **Tổng quan**: Notebook này trình bày quy trình xây dựng mô hình phân loại cảm xúc trên các văn bản tài chính tiếng Việt.\n",
        "\n",
        "- **Lưu ý**: Các bước thu thập và tiền xử lý dữ liệu sẽ được tiến hành tại local environment (Notebook này không trình bày).\n",
        "\n",
        "- **Dữ liệu**:\n",
        "  * Dữ liệu được sử dụng có nhãn được gán dựa vào 3 phương pháp sau:\n",
        "    1. Biến động giá trị tuyệt đối (Absolute value fluctuation): *updating content*\n",
        "    2. Lợi nhuận bất thường (Abnormal Return) và hệ số Alpha: *updating content*\n",
        "    3. Giám sát yếu và Snorkel: *updating content*\n",
        "  * Các lớp nhãn của bộ dữ liệu:\n",
        "    1. Tích cực (0)\n",
        "    2. Tiêu cực (1)\n",
        "    3. Trung tính (2)\n",
        "  * Định dạng dữ liệu:\n",
        "    ```\n",
        "     # | Column            | Dtype          | Meaning\n",
        "    ---| ----------------- | -------------- | ---------------------------------------------       \n",
        "     0 | symbol            | object         | Mã cổ phiếu được nhắc đến\n",
        "     1 | publish_date      | datetime64[ns] | Ngày đăng tải bài viết\n",
        "     2 | context_segmented | object         | Nội dung đã được tiền xử lý và tách từ\n",
        "     3 | price_before      | float64        | Giá cổ phiếu trước khi bài viết đăng tải\n",
        "     4 | price_after       | float64        | Giá cổ phiếu sau khi bài viết đăng tải\n",
        "     5 | index_before      | float64        | Chỉ số thị trường trước khi bài viết đăng tải\n",
        "     6 | index_after       | float64        | Chỉ số thị trường sau khi bài viết đăng tải\n",
        "     7 | status            | object         | Trạng thái đầy đủ dữ liệu\n",
        "     8 | label_vol         | int64          | Nhãn dựa vào biến động giá trị tuyệt đối\n",
        "     9 | label_alpha       | int64          | Nhãn dựa vào lợi nhuận bất thường\n",
        "    ```\n",
        "\n",
        "- **Các bước tiến hành**:\n",
        "  1. Cài đặt các thư viện và hằng số quan trọng\n",
        "  2. Xử lý dữ liệu sẵn sàng huấn luyện mô hình\n",
        "  3. Huấn luyện mô hình\n",
        "  4. Đánh giá mô hình\n",
        "  5. Sử dụng\n"
      ]
    },
    {
      "cell_type": "markdown",
      "metadata": {
        "id": "1H1qQhfNkftb"
      },
      "source": [
        "# 1. Cài đặt các thư viện, hằng số quan trọng và hàm phụ trợ"
      ]
    },
    {
      "cell_type": "markdown",
      "metadata": {
        "id": "efIAcyC-HBe6"
      },
      "source": [
        "## 1.1. Thư viện"
      ]
    },
    {
      "cell_type": "code",
      "execution_count": 1,
      "metadata": {
        "colab": {
          "base_uri": "https://localhost:8080/"
        },
        "collapsed": true,
        "id": "c7qEoYz_jf9p",
        "outputId": "959753d8-c333-429c-be5c-e586d89332c7"
      },
      "outputs": [
        {
          "output_type": "stream",
          "name": "stdout",
          "text": [
            "Requirement already satisfied: numpy==1.26.4 in /usr/local/lib/python3.11/dist-packages (1.26.4)\n"
          ]
        }
      ],
      "source": [
        "## Lưu ý cài đặt numpy đúng phiên bản này, sau đó khởi động lại Session\n",
        "!pip install numpy==1.26.4"
      ]
    },
    {
      "cell_type": "code",
      "execution_count": 2,
      "metadata": {
        "colab": {
          "base_uri": "https://localhost:8080/"
        },
        "id": "Vot5vgkPyqZL",
        "outputId": "81c9699a-3bc8-4c54-bb90-54aa02aed9ba"
      },
      "outputs": [
        {
          "output_type": "stream",
          "name": "stdout",
          "text": [
            "Requirement already satisfied: wandb in /usr/local/lib/python3.11/dist-packages (0.20.1)\n",
            "Requirement already satisfied: click!=8.0.0,>=7.1 in /usr/local/lib/python3.11/dist-packages (from wandb) (8.2.1)\n",
            "Requirement already satisfied: gitpython!=3.1.29,>=1.0.0 in /usr/local/lib/python3.11/dist-packages (from wandb) (3.1.44)\n",
            "Requirement already satisfied: packaging in /usr/local/lib/python3.11/dist-packages (from wandb) (24.2)\n",
            "Requirement already satisfied: platformdirs in /usr/local/lib/python3.11/dist-packages (from wandb) (4.3.8)\n",
            "Requirement already satisfied: protobuf!=4.21.0,!=5.28.0,<7,>=3.19.0 in /usr/local/lib/python3.11/dist-packages (from wandb) (5.29.5)\n",
            "Requirement already satisfied: psutil>=5.0.0 in /usr/local/lib/python3.11/dist-packages (from wandb) (5.9.5)\n",
            "Requirement already satisfied: pydantic<3 in /usr/local/lib/python3.11/dist-packages (from wandb) (2.11.7)\n",
            "Requirement already satisfied: pyyaml in /usr/local/lib/python3.11/dist-packages (from wandb) (6.0.2)\n",
            "Requirement already satisfied: requests<3,>=2.0.0 in /usr/local/lib/python3.11/dist-packages (from wandb) (2.32.3)\n",
            "Requirement already satisfied: sentry-sdk>=2.0.0 in /usr/local/lib/python3.11/dist-packages (from wandb) (2.32.0)\n",
            "Requirement already satisfied: setproctitle in /usr/local/lib/python3.11/dist-packages (from wandb) (1.3.6)\n",
            "Requirement already satisfied: typing-extensions<5,>=4.8 in /usr/local/lib/python3.11/dist-packages (from wandb) (4.14.0)\n",
            "Requirement already satisfied: gitdb<5,>=4.0.1 in /usr/local/lib/python3.11/dist-packages (from gitpython!=3.1.29,>=1.0.0->wandb) (4.0.12)\n",
            "Requirement already satisfied: annotated-types>=0.6.0 in /usr/local/lib/python3.11/dist-packages (from pydantic<3->wandb) (0.7.0)\n",
            "Requirement already satisfied: pydantic-core==2.33.2 in /usr/local/lib/python3.11/dist-packages (from pydantic<3->wandb) (2.33.2)\n",
            "Requirement already satisfied: typing-inspection>=0.4.0 in /usr/local/lib/python3.11/dist-packages (from pydantic<3->wandb) (0.4.1)\n",
            "Requirement already satisfied: charset-normalizer<4,>=2 in /usr/local/lib/python3.11/dist-packages (from requests<3,>=2.0.0->wandb) (3.4.2)\n",
            "Requirement already satisfied: idna<4,>=2.5 in /usr/local/lib/python3.11/dist-packages (from requests<3,>=2.0.0->wandb) (3.10)\n",
            "Requirement already satisfied: urllib3<3,>=1.21.1 in /usr/local/lib/python3.11/dist-packages (from requests<3,>=2.0.0->wandb) (2.4.0)\n",
            "Requirement already satisfied: certifi>=2017.4.17 in /usr/local/lib/python3.11/dist-packages (from requests<3,>=2.0.0->wandb) (2025.6.15)\n",
            "Requirement already satisfied: smmap<6,>=3.0.1 in /usr/local/lib/python3.11/dist-packages (from gitdb<5,>=4.0.1->gitpython!=3.1.29,>=1.0.0->wandb) (5.0.2)\n"
          ]
        }
      ],
      "source": [
        "!pip install wandb"
      ]
    },
    {
      "cell_type": "code",
      "execution_count": 3,
      "metadata": {
        "colab": {
          "base_uri": "https://localhost:8080/"
        },
        "collapsed": true,
        "id": "dRzgBsoekiMi",
        "outputId": "f0cf55c9-c9fc-4573-fb0c-08db0e5958ce"
      },
      "outputs": [
        {
          "output_type": "stream",
          "name": "stdout",
          "text": [
            "Requirement already satisfied: transformers in /usr/local/lib/python3.11/dist-packages (4.53.0)\n",
            "Requirement already satisfied: filelock in /usr/local/lib/python3.11/dist-packages (from transformers) (3.18.0)\n",
            "Requirement already satisfied: huggingface-hub<1.0,>=0.30.0 in /usr/local/lib/python3.11/dist-packages (from transformers) (0.33.1)\n",
            "Requirement already satisfied: numpy>=1.17 in /usr/local/lib/python3.11/dist-packages (from transformers) (1.26.4)\n",
            "Requirement already satisfied: packaging>=20.0 in /usr/local/lib/python3.11/dist-packages (from transformers) (24.2)\n",
            "Requirement already satisfied: pyyaml>=5.1 in /usr/local/lib/python3.11/dist-packages (from transformers) (6.0.2)\n",
            "Requirement already satisfied: regex!=2019.12.17 in /usr/local/lib/python3.11/dist-packages (from transformers) (2024.11.6)\n",
            "Requirement already satisfied: requests in /usr/local/lib/python3.11/dist-packages (from transformers) (2.32.3)\n",
            "Requirement already satisfied: tokenizers<0.22,>=0.21 in /usr/local/lib/python3.11/dist-packages (from transformers) (0.21.2)\n",
            "Requirement already satisfied: safetensors>=0.4.3 in /usr/local/lib/python3.11/dist-packages (from transformers) (0.5.3)\n",
            "Requirement already satisfied: tqdm>=4.27 in /usr/local/lib/python3.11/dist-packages (from transformers) (4.67.1)\n",
            "Requirement already satisfied: fsspec>=2023.5.0 in /usr/local/lib/python3.11/dist-packages (from huggingface-hub<1.0,>=0.30.0->transformers) (2025.3.2)\n",
            "Requirement already satisfied: typing-extensions>=3.7.4.3 in /usr/local/lib/python3.11/dist-packages (from huggingface-hub<1.0,>=0.30.0->transformers) (4.14.0)\n",
            "Requirement already satisfied: hf-xet<2.0.0,>=1.1.2 in /usr/local/lib/python3.11/dist-packages (from huggingface-hub<1.0,>=0.30.0->transformers) (1.1.5)\n",
            "Requirement already satisfied: charset-normalizer<4,>=2 in /usr/local/lib/python3.11/dist-packages (from requests->transformers) (3.4.2)\n",
            "Requirement already satisfied: idna<4,>=2.5 in /usr/local/lib/python3.11/dist-packages (from requests->transformers) (3.10)\n",
            "Requirement already satisfied: urllib3<3,>=1.21.1 in /usr/local/lib/python3.11/dist-packages (from requests->transformers) (2.4.0)\n",
            "Requirement already satisfied: certifi>=2017.4.17 in /usr/local/lib/python3.11/dist-packages (from requests->transformers) (2025.6.15)\n"
          ]
        }
      ],
      "source": [
        "!pip install transformers"
      ]
    },
    {
      "cell_type": "code",
      "execution_count": 4,
      "metadata": {
        "colab": {
          "base_uri": "https://localhost:8080/"
        },
        "collapsed": true,
        "id": "-B82W39QjG2Y",
        "outputId": "12024fb2-f134-49ba-bbac-42834af9e08e"
      },
      "outputs": [
        {
          "output_type": "stream",
          "name": "stdout",
          "text": [
            "Requirement already satisfied: datasets in /usr/local/lib/python3.11/dist-packages (2.14.4)\n",
            "Requirement already satisfied: numpy>=1.17 in /usr/local/lib/python3.11/dist-packages (from datasets) (1.26.4)\n",
            "Requirement already satisfied: pyarrow>=8.0.0 in /usr/local/lib/python3.11/dist-packages (from datasets) (18.1.0)\n",
            "Requirement already satisfied: dill<0.3.8,>=0.3.0 in /usr/local/lib/python3.11/dist-packages (from datasets) (0.3.7)\n",
            "Requirement already satisfied: pandas in /usr/local/lib/python3.11/dist-packages (from datasets) (2.2.2)\n",
            "Requirement already satisfied: requests>=2.19.0 in /usr/local/lib/python3.11/dist-packages (from datasets) (2.32.3)\n",
            "Requirement already satisfied: tqdm>=4.62.1 in /usr/local/lib/python3.11/dist-packages (from datasets) (4.67.1)\n",
            "Requirement already satisfied: xxhash in /usr/local/lib/python3.11/dist-packages (from datasets) (3.5.0)\n",
            "Requirement already satisfied: multiprocess in /usr/local/lib/python3.11/dist-packages (from datasets) (0.70.15)\n",
            "Requirement already satisfied: fsspec>=2021.11.1 in /usr/local/lib/python3.11/dist-packages (from fsspec[http]>=2021.11.1->datasets) (2025.3.2)\n",
            "Requirement already satisfied: aiohttp in /usr/local/lib/python3.11/dist-packages (from datasets) (3.11.15)\n",
            "Requirement already satisfied: huggingface-hub<1.0.0,>=0.14.0 in /usr/local/lib/python3.11/dist-packages (from datasets) (0.33.1)\n",
            "Requirement already satisfied: packaging in /usr/local/lib/python3.11/dist-packages (from datasets) (24.2)\n",
            "Requirement already satisfied: pyyaml>=5.1 in /usr/local/lib/python3.11/dist-packages (from datasets) (6.0.2)\n",
            "Requirement already satisfied: aiohappyeyeballs>=2.3.0 in /usr/local/lib/python3.11/dist-packages (from aiohttp->datasets) (2.6.1)\n",
            "Requirement already satisfied: aiosignal>=1.1.2 in /usr/local/lib/python3.11/dist-packages (from aiohttp->datasets) (1.3.2)\n",
            "Requirement already satisfied: attrs>=17.3.0 in /usr/local/lib/python3.11/dist-packages (from aiohttp->datasets) (25.3.0)\n",
            "Requirement already satisfied: frozenlist>=1.1.1 in /usr/local/lib/python3.11/dist-packages (from aiohttp->datasets) (1.7.0)\n",
            "Requirement already satisfied: multidict<7.0,>=4.5 in /usr/local/lib/python3.11/dist-packages (from aiohttp->datasets) (6.6.3)\n",
            "Requirement already satisfied: propcache>=0.2.0 in /usr/local/lib/python3.11/dist-packages (from aiohttp->datasets) (0.3.2)\n",
            "Requirement already satisfied: yarl<2.0,>=1.17.0 in /usr/local/lib/python3.11/dist-packages (from aiohttp->datasets) (1.20.1)\n",
            "Requirement already satisfied: filelock in /usr/local/lib/python3.11/dist-packages (from huggingface-hub<1.0.0,>=0.14.0->datasets) (3.18.0)\n",
            "Requirement already satisfied: typing-extensions>=3.7.4.3 in /usr/local/lib/python3.11/dist-packages (from huggingface-hub<1.0.0,>=0.14.0->datasets) (4.14.0)\n",
            "Requirement already satisfied: hf-xet<2.0.0,>=1.1.2 in /usr/local/lib/python3.11/dist-packages (from huggingface-hub<1.0.0,>=0.14.0->datasets) (1.1.5)\n",
            "Requirement already satisfied: charset-normalizer<4,>=2 in /usr/local/lib/python3.11/dist-packages (from requests>=2.19.0->datasets) (3.4.2)\n",
            "Requirement already satisfied: idna<4,>=2.5 in /usr/local/lib/python3.11/dist-packages (from requests>=2.19.0->datasets) (3.10)\n",
            "Requirement already satisfied: urllib3<3,>=1.21.1 in /usr/local/lib/python3.11/dist-packages (from requests>=2.19.0->datasets) (2.4.0)\n",
            "Requirement already satisfied: certifi>=2017.4.17 in /usr/local/lib/python3.11/dist-packages (from requests>=2.19.0->datasets) (2025.6.15)\n",
            "Requirement already satisfied: python-dateutil>=2.8.2 in /usr/local/lib/python3.11/dist-packages (from pandas->datasets) (2.9.0.post0)\n",
            "Requirement already satisfied: pytz>=2020.1 in /usr/local/lib/python3.11/dist-packages (from pandas->datasets) (2025.2)\n",
            "Requirement already satisfied: tzdata>=2022.7 in /usr/local/lib/python3.11/dist-packages (from pandas->datasets) (2025.2)\n",
            "Requirement already satisfied: six>=1.5 in /usr/local/lib/python3.11/dist-packages (from python-dateutil>=2.8.2->pandas->datasets) (1.17.0)\n"
          ]
        }
      ],
      "source": [
        "!pip install datasets"
      ]
    },
    {
      "cell_type": "code",
      "execution_count": 5,
      "metadata": {
        "colab": {
          "base_uri": "https://localhost:8080/"
        },
        "collapsed": true,
        "id": "8X7vdYixjIaY",
        "outputId": "81517651-9216-4ca8-c22b-f087f7f285ab"
      },
      "outputs": [
        {
          "output_type": "stream",
          "name": "stdout",
          "text": [
            "Requirement already satisfied: torch in /usr/local/lib/python3.11/dist-packages (2.6.0+cu124)\n",
            "Requirement already satisfied: filelock in /usr/local/lib/python3.11/dist-packages (from torch) (3.18.0)\n",
            "Requirement already satisfied: typing-extensions>=4.10.0 in /usr/local/lib/python3.11/dist-packages (from torch) (4.14.0)\n",
            "Requirement already satisfied: networkx in /usr/local/lib/python3.11/dist-packages (from torch) (3.5)\n",
            "Requirement already satisfied: jinja2 in /usr/local/lib/python3.11/dist-packages (from torch) (3.1.6)\n",
            "Requirement already satisfied: fsspec in /usr/local/lib/python3.11/dist-packages (from torch) (2025.3.2)\n",
            "Collecting nvidia-cuda-nvrtc-cu12==12.4.127 (from torch)\n",
            "  Downloading nvidia_cuda_nvrtc_cu12-12.4.127-py3-none-manylinux2014_x86_64.whl.metadata (1.5 kB)\n",
            "Collecting nvidia-cuda-runtime-cu12==12.4.127 (from torch)\n",
            "  Downloading nvidia_cuda_runtime_cu12-12.4.127-py3-none-manylinux2014_x86_64.whl.metadata (1.5 kB)\n",
            "Collecting nvidia-cuda-cupti-cu12==12.4.127 (from torch)\n",
            "  Downloading nvidia_cuda_cupti_cu12-12.4.127-py3-none-manylinux2014_x86_64.whl.metadata (1.6 kB)\n",
            "Collecting nvidia-cudnn-cu12==9.1.0.70 (from torch)\n",
            "  Downloading nvidia_cudnn_cu12-9.1.0.70-py3-none-manylinux2014_x86_64.whl.metadata (1.6 kB)\n",
            "Collecting nvidia-cublas-cu12==12.4.5.8 (from torch)\n",
            "  Downloading nvidia_cublas_cu12-12.4.5.8-py3-none-manylinux2014_x86_64.whl.metadata (1.5 kB)\n",
            "Collecting nvidia-cufft-cu12==11.2.1.3 (from torch)\n",
            "  Downloading nvidia_cufft_cu12-11.2.1.3-py3-none-manylinux2014_x86_64.whl.metadata (1.5 kB)\n",
            "Collecting nvidia-curand-cu12==10.3.5.147 (from torch)\n",
            "  Downloading nvidia_curand_cu12-10.3.5.147-py3-none-manylinux2014_x86_64.whl.metadata (1.5 kB)\n",
            "Collecting nvidia-cusolver-cu12==11.6.1.9 (from torch)\n",
            "  Downloading nvidia_cusolver_cu12-11.6.1.9-py3-none-manylinux2014_x86_64.whl.metadata (1.6 kB)\n",
            "Collecting nvidia-cusparse-cu12==12.3.1.170 (from torch)\n",
            "  Downloading nvidia_cusparse_cu12-12.3.1.170-py3-none-manylinux2014_x86_64.whl.metadata (1.6 kB)\n",
            "Requirement already satisfied: nvidia-cusparselt-cu12==0.6.2 in /usr/local/lib/python3.11/dist-packages (from torch) (0.6.2)\n",
            "Requirement already satisfied: nvidia-nccl-cu12==2.21.5 in /usr/local/lib/python3.11/dist-packages (from torch) (2.21.5)\n",
            "Requirement already satisfied: nvidia-nvtx-cu12==12.4.127 in /usr/local/lib/python3.11/dist-packages (from torch) (12.4.127)\n",
            "Collecting nvidia-nvjitlink-cu12==12.4.127 (from torch)\n",
            "  Downloading nvidia_nvjitlink_cu12-12.4.127-py3-none-manylinux2014_x86_64.whl.metadata (1.5 kB)\n",
            "Requirement already satisfied: triton==3.2.0 in /usr/local/lib/python3.11/dist-packages (from torch) (3.2.0)\n",
            "Requirement already satisfied: sympy==1.13.1 in /usr/local/lib/python3.11/dist-packages (from torch) (1.13.1)\n",
            "Requirement already satisfied: mpmath<1.4,>=1.1.0 in /usr/local/lib/python3.11/dist-packages (from sympy==1.13.1->torch) (1.3.0)\n",
            "Requirement already satisfied: MarkupSafe>=2.0 in /usr/local/lib/python3.11/dist-packages (from jinja2->torch) (3.0.2)\n",
            "Downloading nvidia_cublas_cu12-12.4.5.8-py3-none-manylinux2014_x86_64.whl (363.4 MB)\n",
            "\u001b[2K   \u001b[90m━━━━━━━━━━━━━━━━━━━━━━━━━━━━━━━━━━━━━━━━\u001b[0m \u001b[32m363.4/363.4 MB\u001b[0m \u001b[31m3.1 MB/s\u001b[0m eta \u001b[36m0:00:00\u001b[0m\n",
            "\u001b[?25hDownloading nvidia_cuda_cupti_cu12-12.4.127-py3-none-manylinux2014_x86_64.whl (13.8 MB)\n",
            "\u001b[2K   \u001b[90m━━━━━━━━━━━━━━━━━━━━━━━━━━━━━━━━━━━━━━━━\u001b[0m \u001b[32m13.8/13.8 MB\u001b[0m \u001b[31m111.4 MB/s\u001b[0m eta \u001b[36m0:00:00\u001b[0m\n",
            "\u001b[?25hDownloading nvidia_cuda_nvrtc_cu12-12.4.127-py3-none-manylinux2014_x86_64.whl (24.6 MB)\n",
            "\u001b[2K   \u001b[90m━━━━━━━━━━━━━━━━━━━━━━━━━━━━━━━━━━━━━━━━\u001b[0m \u001b[32m24.6/24.6 MB\u001b[0m \u001b[31m91.7 MB/s\u001b[0m eta \u001b[36m0:00:00\u001b[0m\n",
            "\u001b[?25hDownloading nvidia_cuda_runtime_cu12-12.4.127-py3-none-manylinux2014_x86_64.whl (883 kB)\n",
            "\u001b[2K   \u001b[90m━━━━━━━━━━━━━━━━━━━━━━━━━━━━━━━━━━━━━━━━\u001b[0m \u001b[32m883.7/883.7 kB\u001b[0m \u001b[31m55.8 MB/s\u001b[0m eta \u001b[36m0:00:00\u001b[0m\n",
            "\u001b[?25hDownloading nvidia_cudnn_cu12-9.1.0.70-py3-none-manylinux2014_x86_64.whl (664.8 MB)\n",
            "\u001b[2K   \u001b[90m━━━━━━━━━━━━━━━━━━━━━━━━━━━━━━━━━━━━━━━━\u001b[0m \u001b[32m664.8/664.8 MB\u001b[0m \u001b[31m2.5 MB/s\u001b[0m eta \u001b[36m0:00:00\u001b[0m\n",
            "\u001b[?25hDownloading nvidia_cufft_cu12-11.2.1.3-py3-none-manylinux2014_x86_64.whl (211.5 MB)\n",
            "\u001b[2K   \u001b[90m━━━━━━━━━━━━━━━━━━━━━━━━━━━━━━━━━━━━━━━━\u001b[0m \u001b[32m211.5/211.5 MB\u001b[0m \u001b[31m4.6 MB/s\u001b[0m eta \u001b[36m0:00:00\u001b[0m\n",
            "\u001b[?25hDownloading nvidia_curand_cu12-10.3.5.147-py3-none-manylinux2014_x86_64.whl (56.3 MB)\n",
            "\u001b[2K   \u001b[90m━━━━━━━━━━━━━━━━━━━━━━━━━━━━━━━━━━━━━━━━\u001b[0m \u001b[32m56.3/56.3 MB\u001b[0m \u001b[31m35.0 MB/s\u001b[0m eta \u001b[36m0:00:00\u001b[0m\n",
            "\u001b[?25hDownloading nvidia_cusolver_cu12-11.6.1.9-py3-none-manylinux2014_x86_64.whl (127.9 MB)\n",
            "\u001b[2K   \u001b[90m━━━━━━━━━━━━━━━━━━━━━━━━━━━━━━━━━━━━━━━━\u001b[0m \u001b[32m127.9/127.9 MB\u001b[0m \u001b[31m18.0 MB/s\u001b[0m eta \u001b[36m0:00:00\u001b[0m\n",
            "\u001b[?25hDownloading nvidia_cusparse_cu12-12.3.1.170-py3-none-manylinux2014_x86_64.whl (207.5 MB)\n",
            "\u001b[2K   \u001b[90m━━━━━━━━━━━━━━━━━━━━━━━━━━━━━━━━━━━━━━━━\u001b[0m \u001b[32m207.5/207.5 MB\u001b[0m \u001b[31m4.3 MB/s\u001b[0m eta \u001b[36m0:00:00\u001b[0m\n",
            "\u001b[?25hDownloading nvidia_nvjitlink_cu12-12.4.127-py3-none-manylinux2014_x86_64.whl (21.1 MB)\n",
            "\u001b[2K   \u001b[90m━━━━━━━━━━━━━━━━━━━━━━━━━━━━━━━━━━━━━━━━\u001b[0m \u001b[32m21.1/21.1 MB\u001b[0m \u001b[31m86.8 MB/s\u001b[0m eta \u001b[36m0:00:00\u001b[0m\n",
            "\u001b[?25hInstalling collected packages: nvidia-nvjitlink-cu12, nvidia-curand-cu12, nvidia-cufft-cu12, nvidia-cuda-runtime-cu12, nvidia-cuda-nvrtc-cu12, nvidia-cuda-cupti-cu12, nvidia-cublas-cu12, nvidia-cusparse-cu12, nvidia-cudnn-cu12, nvidia-cusolver-cu12\n",
            "  Attempting uninstall: nvidia-nvjitlink-cu12\n",
            "    Found existing installation: nvidia-nvjitlink-cu12 12.5.82\n",
            "    Uninstalling nvidia-nvjitlink-cu12-12.5.82:\n",
            "      Successfully uninstalled nvidia-nvjitlink-cu12-12.5.82\n",
            "  Attempting uninstall: nvidia-curand-cu12\n",
            "    Found existing installation: nvidia-curand-cu12 10.3.6.82\n",
            "    Uninstalling nvidia-curand-cu12-10.3.6.82:\n",
            "      Successfully uninstalled nvidia-curand-cu12-10.3.6.82\n",
            "  Attempting uninstall: nvidia-cufft-cu12\n",
            "    Found existing installation: nvidia-cufft-cu12 11.2.3.61\n",
            "    Uninstalling nvidia-cufft-cu12-11.2.3.61:\n",
            "      Successfully uninstalled nvidia-cufft-cu12-11.2.3.61\n",
            "  Attempting uninstall: nvidia-cuda-runtime-cu12\n",
            "    Found existing installation: nvidia-cuda-runtime-cu12 12.5.82\n",
            "    Uninstalling nvidia-cuda-runtime-cu12-12.5.82:\n",
            "      Successfully uninstalled nvidia-cuda-runtime-cu12-12.5.82\n",
            "  Attempting uninstall: nvidia-cuda-nvrtc-cu12\n",
            "    Found existing installation: nvidia-cuda-nvrtc-cu12 12.5.82\n",
            "    Uninstalling nvidia-cuda-nvrtc-cu12-12.5.82:\n",
            "      Successfully uninstalled nvidia-cuda-nvrtc-cu12-12.5.82\n",
            "  Attempting uninstall: nvidia-cuda-cupti-cu12\n",
            "    Found existing installation: nvidia-cuda-cupti-cu12 12.5.82\n",
            "    Uninstalling nvidia-cuda-cupti-cu12-12.5.82:\n",
            "      Successfully uninstalled nvidia-cuda-cupti-cu12-12.5.82\n",
            "  Attempting uninstall: nvidia-cublas-cu12\n",
            "    Found existing installation: nvidia-cublas-cu12 12.5.3.2\n",
            "    Uninstalling nvidia-cublas-cu12-12.5.3.2:\n",
            "      Successfully uninstalled nvidia-cublas-cu12-12.5.3.2\n",
            "  Attempting uninstall: nvidia-cusparse-cu12\n",
            "    Found existing installation: nvidia-cusparse-cu12 12.5.1.3\n",
            "    Uninstalling nvidia-cusparse-cu12-12.5.1.3:\n",
            "      Successfully uninstalled nvidia-cusparse-cu12-12.5.1.3\n",
            "  Attempting uninstall: nvidia-cudnn-cu12\n",
            "    Found existing installation: nvidia-cudnn-cu12 9.3.0.75\n",
            "    Uninstalling nvidia-cudnn-cu12-9.3.0.75:\n",
            "      Successfully uninstalled nvidia-cudnn-cu12-9.3.0.75\n",
            "  Attempting uninstall: nvidia-cusolver-cu12\n",
            "    Found existing installation: nvidia-cusolver-cu12 11.6.3.83\n",
            "    Uninstalling nvidia-cusolver-cu12-11.6.3.83:\n",
            "      Successfully uninstalled nvidia-cusolver-cu12-11.6.3.83\n",
            "Successfully installed nvidia-cublas-cu12-12.4.5.8 nvidia-cuda-cupti-cu12-12.4.127 nvidia-cuda-nvrtc-cu12-12.4.127 nvidia-cuda-runtime-cu12-12.4.127 nvidia-cudnn-cu12-9.1.0.70 nvidia-cufft-cu12-11.2.1.3 nvidia-curand-cu12-10.3.5.147 nvidia-cusolver-cu12-11.6.1.9 nvidia-cusparse-cu12-12.3.1.170 nvidia-nvjitlink-cu12-12.4.127\n"
          ]
        }
      ],
      "source": [
        "!pip install torch"
      ]
    },
    {
      "cell_type": "code",
      "execution_count": 6,
      "metadata": {
        "colab": {
          "base_uri": "https://localhost:8080/"
        },
        "collapsed": true,
        "id": "NvzgNq2pjIvR",
        "outputId": "9d485de2-7955-4ca4-c7f1-659cb991a3fb"
      },
      "outputs": [
        {
          "output_type": "stream",
          "name": "stdout",
          "text": [
            "Requirement already satisfied: scikit-learn in /usr/local/lib/python3.11/dist-packages (1.6.1)\n",
            "Requirement already satisfied: numpy>=1.19.5 in /usr/local/lib/python3.11/dist-packages (from scikit-learn) (1.26.4)\n",
            "Requirement already satisfied: scipy>=1.6.0 in /usr/local/lib/python3.11/dist-packages (from scikit-learn) (1.15.3)\n",
            "Requirement already satisfied: joblib>=1.2.0 in /usr/local/lib/python3.11/dist-packages (from scikit-learn) (1.5.1)\n",
            "Requirement already satisfied: threadpoolctl>=3.1.0 in /usr/local/lib/python3.11/dist-packages (from scikit-learn) (3.6.0)\n"
          ]
        }
      ],
      "source": [
        "!pip install scikit-learn"
      ]
    },
    {
      "cell_type": "code",
      "execution_count": 7,
      "metadata": {
        "id": "o5wY2LjORBxX"
      },
      "outputs": [],
      "source": [
        "import os\n",
        "import pandas as pd\n",
        "import torch\n",
        "import numpy as np\n",
        "import re\n",
        "import unicodedata\n",
        "import matplotlib.pyplot as plt\n",
        "import seaborn as sns\n",
        "import logging\n",
        "from google.colab import drive\n",
        "from torch import nn\n",
        "from datasets import load_dataset, DatasetDict, Dataset\n",
        "from transformers import (\n",
        "  AutoTokenizer,\n",
        "  AutoModelForSequenceClassification,\n",
        "  TrainingArguments,\n",
        "  Trainer\n",
        ")\n",
        "from sklearn.metrics import accuracy_score, precision_recall_fscore_support"
      ]
    },
    {
      "cell_type": "code",
      "execution_count": 8,
      "metadata": {
        "id": "9eBVNIk9l8uh"
      },
      "outputs": [],
      "source": [
        "os.environ[\"CUDA_LAUNCH_BLOCKING\"] = \"1\""
      ]
    },
    {
      "cell_type": "markdown",
      "metadata": {
        "id": "Wetbh6hmLlP2"
      },
      "source": [
        "## 1.2. Hàm phụ trợ"
      ]
    },
    {
      "cell_type": "code",
      "execution_count": 11,
      "metadata": {
        "colab": {
          "base_uri": "https://localhost:8080/"
        },
        "id": "FhJNYFVQLqDf",
        "outputId": "d250a878-d050-433d-9a6e-fd899862efbb"
      },
      "outputs": [
        {
          "output_type": "stream",
          "name": "stderr",
          "text": [
            "WARNING:root:Đây là thông báo warning\n",
            "ERROR:root:Đây là thông báo error\n",
            "CRITICAL:root:Đây là thông báo critical\n"
          ]
        }
      ],
      "source": [
        "import logging\n",
        "logging.basicConfig(level=logging.DEBUG)\n",
        "\n",
        "logging.debug('Đây là thông báo debug')\n",
        "logging.info('Đây là thông báo info')\n",
        "logging.warning('Đây là thông báo warning')\n",
        "logging.error('Đây là thông báo error')\n",
        "logging.critical('Đây là thông báo critical')"
      ]
    },
    {
      "cell_type": "markdown",
      "metadata": {
        "id": "IkjCuWCks_SO"
      },
      "source": [
        "## 1.3. Hằng số"
      ]
    },
    {
      "cell_type": "code",
      "execution_count": 12,
      "metadata": {
        "id": "LM7g2MwytCEO"
      },
      "outputs": [],
      "source": [
        "POSITIVE = 0\n",
        "NEGATIVE = 1\n",
        "NEUTRAL = 2\n",
        "\n",
        "version = \"500_pages_batch_64\""
      ]
    },
    {
      "cell_type": "markdown",
      "metadata": {
        "id": "fgzqYN21n9Ce"
      },
      "source": [
        "# 2. Xử lý dữ liệu sẵn sàng huấn luyện mô hình"
      ]
    },
    {
      "cell_type": "markdown",
      "metadata": {
        "id": "E9YZRpH7jXu7"
      },
      "source": [
        "## 2.1. Kết nối drive"
      ]
    },
    {
      "cell_type": "code",
      "execution_count": 13,
      "metadata": {
        "colab": {
          "base_uri": "https://localhost:8080/"
        },
        "id": "mPp8exru21Xt",
        "outputId": "2d29ce79-9401-4df6-b57e-387ee70524b1"
      },
      "outputs": [
        {
          "output_type": "stream",
          "name": "stdout",
          "text": [
            "Mounted at /content/drive\n"
          ]
        }
      ],
      "source": [
        "# Lưu ý thư viện này chỉ sử dụng được trên nền tảng GoogleColab\n",
        "# Đối với môi trường local hoặc JupyterNotebook thì ...\n",
        "from google.colab import drive\n",
        "drive.mount('/content/drive')"
      ]
    },
    {
      "cell_type": "code",
      "execution_count": 14,
      "metadata": {
        "id": "6A2p0PjlqtrZ"
      },
      "outputs": [],
      "source": [
        "project_path = \"/content/drive/MyDrive/phobert_news_sentiment_analysis\"\n",
        "os.makedirs(project_path, exist_ok=True)\n",
        "\n",
        "data_path = os.path.join(project_path, \"data/labeled/dataset.csv\")\n",
        "df = pd.read_csv(data_path)"
      ]
    },
    {
      "cell_type": "markdown",
      "metadata": {
        "id": "UBp9ZdtX60vC"
      },
      "source": [
        "## 2.2. Kiểm tra dữ liệu thô"
      ]
    },
    {
      "cell_type": "code",
      "execution_count": 15,
      "metadata": {
        "colab": {
          "base_uri": "https://localhost:8080/",
          "height": 744
        },
        "id": "242e7fd0",
        "outputId": "44d7bd71-97a1-42bf-b141-584f8d987c8f"
      },
      "outputs": [
        {
          "output_type": "stream",
          "name": "stdout",
          "text": [
            "<class 'pandas.core.frame.DataFrame'>\n",
            "RangeIndex: 132225 entries, 0 to 132224\n",
            "Data columns (total 10 columns):\n",
            " #   Column             Non-Null Count   Dtype  \n",
            "---  ------             --------------   -----  \n",
            " 0   symbol             132225 non-null  object \n",
            " 1   publish_date       132225 non-null  object \n",
            " 2   context_segmented  132225 non-null  object \n",
            " 3   price_before       132225 non-null  float64\n",
            " 4   price_after        132225 non-null  float64\n",
            " 5   index_before       132225 non-null  float64\n",
            " 6   index_after        132225 non-null  float64\n",
            " 7   status             132225 non-null  object \n",
            " 8   label_vol          132225 non-null  int64  \n",
            " 9   label_alpha        132225 non-null  int64  \n",
            "dtypes: float64(4), int64(2), object(4)\n",
            "memory usage: 10.1+ MB\n"
          ]
        },
        {
          "output_type": "display_data",
          "data": {
            "text/plain": [
              "       symbol publish_date  \\\n",
              "131440    GAS   2017-09-15   \n",
              "50919     SSI   2023-01-29   \n",
              "56269     HPG   2022-09-11   \n",
              "94945     SHB   2020-03-14   \n",
              "131552    FPT   2017-09-13   \n",
              "\n",
              "                                                                                                                                                                                                                                                         context_segmented  \\\n",
              "131440                                                                      Việc các Bluechips như GAS , FPT , MSN , PLX , SAB hay các cổ_phiếu ngân_hàng VCB , BID , CTG.giảm mạnh đã khiến VnIndex giảm điểm , bất_chấp nỗ_lực của VPB , VJC , ROS , VIC , DHG , BVH , .   \n",
              "50919   Một phần nhờ dòng vốn ngoại chảy vào , thị_giá HPG tăng hơn 19% sau chưa đầy 1 tháng giao_dịch , chốt phiên 27/1 đạt 21.500 đồng / cp . Bên cạnh đó , mã cổ_phiếu VIC và SSI cũng được khối ngoại \" gom \" tại mỗi cổ_phiếu hơn 450 tỷ đồng trong gần 1 tháng qua .   \n",
              "56269                                       Tuy_nhiên , danh_mục không hẳn là nguyên_nhân chính tạo ra sự khác_biệt . Bởi , cũng tham_chiếu theo danh_mục với tỷ_trọng lớn được phân_bổ vào các cổ_phiếu hàng_đầu trong nhóm VN30 như VIC , VHM , HPG , VNM , NVL , MSN ..   \n",
              "94945         Trong khi đó , PVS bị khối ngoại bán ròng mạnh nhất với giá_trị 46,3 tỷ đồng . Tiếp sau đó là SHB , cổ_phiếu này cũng bị bán ròng 22,7 tỷ đồng . Ở sàn UPCoM , khối ngoại bán ròng trở_lại 14,7 tỷ đồng , tương_ứng khối_lượng bán ròng 1,9 triệu cổ_phiếu .   \n",
              "131552                                                   Do mức cổ_phần chuyển_nhượng nhỏ hơn . Và do_đó , không rõ_ràng liệu FPT có_thể ghi_nhận lợi_nhuận từ bán 30% cổ_phần này là tăng vốn chủ_sở_hữu trên bảng_cân_đối hay là lợi_nhuận tài_chính trên báo_cáo KQKD .   \n",
              "\n",
              "        price_before  price_after  index_before  index_after status  \\\n",
              "131440         40.61        40.85        789.41       793.70     ok   \n",
              "50919          15.74        15.77       1130.65      1113.95     ok   \n",
              "56269          18.03        18.03       1275.64      1275.60     ok   \n",
              "94945           4.96         4.96        716.65       698.18     ok   \n",
              "131552         14.62        14.69        782.54       789.41     ok   \n",
              "\n",
              "        label_vol  label_alpha  \n",
              "131440          2            2  \n",
              "50919           2            0  \n",
              "56269           2            2  \n",
              "94945           2            0  \n",
              "131552          2            2  "
            ],
            "text/html": [
              "\n",
              "  <div id=\"df-1e9a2fca-eed0-41d8-a0c7-c3cac385c2df\" class=\"colab-df-container\">\n",
              "    <div>\n",
              "<style scoped>\n",
              "    .dataframe tbody tr th:only-of-type {\n",
              "        vertical-align: middle;\n",
              "    }\n",
              "\n",
              "    .dataframe tbody tr th {\n",
              "        vertical-align: top;\n",
              "    }\n",
              "\n",
              "    .dataframe thead th {\n",
              "        text-align: right;\n",
              "    }\n",
              "</style>\n",
              "<table border=\"1\" class=\"dataframe\">\n",
              "  <thead>\n",
              "    <tr style=\"text-align: right;\">\n",
              "      <th></th>\n",
              "      <th>symbol</th>\n",
              "      <th>publish_date</th>\n",
              "      <th>context_segmented</th>\n",
              "      <th>price_before</th>\n",
              "      <th>price_after</th>\n",
              "      <th>index_before</th>\n",
              "      <th>index_after</th>\n",
              "      <th>status</th>\n",
              "      <th>label_vol</th>\n",
              "      <th>label_alpha</th>\n",
              "    </tr>\n",
              "  </thead>\n",
              "  <tbody>\n",
              "    <tr>\n",
              "      <th>131440</th>\n",
              "      <td>GAS</td>\n",
              "      <td>2017-09-15</td>\n",
              "      <td>Việc các Bluechips như GAS , FPT , MSN , PLX , SAB hay các cổ_phiếu ngân_hàng VCB , BID , CTG.giảm mạnh đã khiến VnIndex giảm điểm , bất_chấp nỗ_lực của VPB , VJC , ROS , VIC , DHG , BVH , .</td>\n",
              "      <td>40.61</td>\n",
              "      <td>40.85</td>\n",
              "      <td>789.41</td>\n",
              "      <td>793.70</td>\n",
              "      <td>ok</td>\n",
              "      <td>2</td>\n",
              "      <td>2</td>\n",
              "    </tr>\n",
              "    <tr>\n",
              "      <th>50919</th>\n",
              "      <td>SSI</td>\n",
              "      <td>2023-01-29</td>\n",
              "      <td>Một phần nhờ dòng vốn ngoại chảy vào , thị_giá HPG tăng hơn 19% sau chưa đầy 1 tháng giao_dịch , chốt phiên 27/1 đạt 21.500 đồng / cp . Bên cạnh đó , mã cổ_phiếu VIC và SSI cũng được khối ngoại \" gom \" tại mỗi cổ_phiếu hơn 450 tỷ đồng trong gần 1 tháng qua .</td>\n",
              "      <td>15.74</td>\n",
              "      <td>15.77</td>\n",
              "      <td>1130.65</td>\n",
              "      <td>1113.95</td>\n",
              "      <td>ok</td>\n",
              "      <td>2</td>\n",
              "      <td>0</td>\n",
              "    </tr>\n",
              "    <tr>\n",
              "      <th>56269</th>\n",
              "      <td>HPG</td>\n",
              "      <td>2022-09-11</td>\n",
              "      <td>Tuy_nhiên , danh_mục không hẳn là nguyên_nhân chính tạo ra sự khác_biệt . Bởi , cũng tham_chiếu theo danh_mục với tỷ_trọng lớn được phân_bổ vào các cổ_phiếu hàng_đầu trong nhóm VN30 như VIC , VHM , HPG , VNM , NVL , MSN ..</td>\n",
              "      <td>18.03</td>\n",
              "      <td>18.03</td>\n",
              "      <td>1275.64</td>\n",
              "      <td>1275.60</td>\n",
              "      <td>ok</td>\n",
              "      <td>2</td>\n",
              "      <td>2</td>\n",
              "    </tr>\n",
              "    <tr>\n",
              "      <th>94945</th>\n",
              "      <td>SHB</td>\n",
              "      <td>2020-03-14</td>\n",
              "      <td>Trong khi đó , PVS bị khối ngoại bán ròng mạnh nhất với giá_trị 46,3 tỷ đồng . Tiếp sau đó là SHB , cổ_phiếu này cũng bị bán ròng 22,7 tỷ đồng . Ở sàn UPCoM , khối ngoại bán ròng trở_lại 14,7 tỷ đồng , tương_ứng khối_lượng bán ròng 1,9 triệu cổ_phiếu .</td>\n",
              "      <td>4.96</td>\n",
              "      <td>4.96</td>\n",
              "      <td>716.65</td>\n",
              "      <td>698.18</td>\n",
              "      <td>ok</td>\n",
              "      <td>2</td>\n",
              "      <td>0</td>\n",
              "    </tr>\n",
              "    <tr>\n",
              "      <th>131552</th>\n",
              "      <td>FPT</td>\n",
              "      <td>2017-09-13</td>\n",
              "      <td>Do mức cổ_phần chuyển_nhượng nhỏ hơn . Và do_đó , không rõ_ràng liệu FPT có_thể ghi_nhận lợi_nhuận từ bán 30% cổ_phần này là tăng vốn chủ_sở_hữu trên bảng_cân_đối hay là lợi_nhuận tài_chính trên báo_cáo KQKD .</td>\n",
              "      <td>14.62</td>\n",
              "      <td>14.69</td>\n",
              "      <td>782.54</td>\n",
              "      <td>789.41</td>\n",
              "      <td>ok</td>\n",
              "      <td>2</td>\n",
              "      <td>2</td>\n",
              "    </tr>\n",
              "  </tbody>\n",
              "</table>\n",
              "</div>\n",
              "    <div class=\"colab-df-buttons\">\n",
              "\n",
              "  <div class=\"colab-df-container\">\n",
              "    <button class=\"colab-df-convert\" onclick=\"convertToInteractive('df-1e9a2fca-eed0-41d8-a0c7-c3cac385c2df')\"\n",
              "            title=\"Convert this dataframe to an interactive table.\"\n",
              "            style=\"display:none;\">\n",
              "\n",
              "  <svg xmlns=\"http://www.w3.org/2000/svg\" height=\"24px\" viewBox=\"0 -960 960 960\">\n",
              "    <path d=\"M120-120v-720h720v720H120Zm60-500h600v-160H180v160Zm220 220h160v-160H400v160Zm0 220h160v-160H400v160ZM180-400h160v-160H180v160Zm440 0h160v-160H620v160ZM180-180h160v-160H180v160Zm440 0h160v-160H620v160Z\"/>\n",
              "  </svg>\n",
              "    </button>\n",
              "\n",
              "  <style>\n",
              "    .colab-df-container {\n",
              "      display:flex;\n",
              "      gap: 12px;\n",
              "    }\n",
              "\n",
              "    .colab-df-convert {\n",
              "      background-color: #E8F0FE;\n",
              "      border: none;\n",
              "      border-radius: 50%;\n",
              "      cursor: pointer;\n",
              "      display: none;\n",
              "      fill: #1967D2;\n",
              "      height: 32px;\n",
              "      padding: 0 0 0 0;\n",
              "      width: 32px;\n",
              "    }\n",
              "\n",
              "    .colab-df-convert:hover {\n",
              "      background-color: #E2EBFA;\n",
              "      box-shadow: 0px 1px 2px rgba(60, 64, 67, 0.3), 0px 1px 3px 1px rgba(60, 64, 67, 0.15);\n",
              "      fill: #174EA6;\n",
              "    }\n",
              "\n",
              "    .colab-df-buttons div {\n",
              "      margin-bottom: 4px;\n",
              "    }\n",
              "\n",
              "    [theme=dark] .colab-df-convert {\n",
              "      background-color: #3B4455;\n",
              "      fill: #D2E3FC;\n",
              "    }\n",
              "\n",
              "    [theme=dark] .colab-df-convert:hover {\n",
              "      background-color: #434B5C;\n",
              "      box-shadow: 0px 1px 3px 1px rgba(0, 0, 0, 0.15);\n",
              "      filter: drop-shadow(0px 1px 2px rgba(0, 0, 0, 0.3));\n",
              "      fill: #FFFFFF;\n",
              "    }\n",
              "  </style>\n",
              "\n",
              "    <script>\n",
              "      const buttonEl =\n",
              "        document.querySelector('#df-1e9a2fca-eed0-41d8-a0c7-c3cac385c2df button.colab-df-convert');\n",
              "      buttonEl.style.display =\n",
              "        google.colab.kernel.accessAllowed ? 'block' : 'none';\n",
              "\n",
              "      async function convertToInteractive(key) {\n",
              "        const element = document.querySelector('#df-1e9a2fca-eed0-41d8-a0c7-c3cac385c2df');\n",
              "        const dataTable =\n",
              "          await google.colab.kernel.invokeFunction('convertToInteractive',\n",
              "                                                    [key], {});\n",
              "        if (!dataTable) return;\n",
              "\n",
              "        const docLinkHtml = 'Like what you see? Visit the ' +\n",
              "          '<a target=\"_blank\" href=https://colab.research.google.com/notebooks/data_table.ipynb>data table notebook</a>'\n",
              "          + ' to learn more about interactive tables.';\n",
              "        element.innerHTML = '';\n",
              "        dataTable['output_type'] = 'display_data';\n",
              "        await google.colab.output.renderOutput(dataTable, element);\n",
              "        const docLink = document.createElement('div');\n",
              "        docLink.innerHTML = docLinkHtml;\n",
              "        element.appendChild(docLink);\n",
              "      }\n",
              "    </script>\n",
              "  </div>\n",
              "\n",
              "\n",
              "    <div id=\"df-f2dfc8db-a2c0-43cc-8dc8-af0e1fa649f5\">\n",
              "      <button class=\"colab-df-quickchart\" onclick=\"quickchart('df-f2dfc8db-a2c0-43cc-8dc8-af0e1fa649f5')\"\n",
              "                title=\"Suggest charts\"\n",
              "                style=\"display:none;\">\n",
              "\n",
              "<svg xmlns=\"http://www.w3.org/2000/svg\" height=\"24px\"viewBox=\"0 0 24 24\"\n",
              "     width=\"24px\">\n",
              "    <g>\n",
              "        <path d=\"M19 3H5c-1.1 0-2 .9-2 2v14c0 1.1.9 2 2 2h14c1.1 0 2-.9 2-2V5c0-1.1-.9-2-2-2zM9 17H7v-7h2v7zm4 0h-2V7h2v10zm4 0h-2v-4h2v4z\"/>\n",
              "    </g>\n",
              "</svg>\n",
              "      </button>\n",
              "\n",
              "<style>\n",
              "  .colab-df-quickchart {\n",
              "      --bg-color: #E8F0FE;\n",
              "      --fill-color: #1967D2;\n",
              "      --hover-bg-color: #E2EBFA;\n",
              "      --hover-fill-color: #174EA6;\n",
              "      --disabled-fill-color: #AAA;\n",
              "      --disabled-bg-color: #DDD;\n",
              "  }\n",
              "\n",
              "  [theme=dark] .colab-df-quickchart {\n",
              "      --bg-color: #3B4455;\n",
              "      --fill-color: #D2E3FC;\n",
              "      --hover-bg-color: #434B5C;\n",
              "      --hover-fill-color: #FFFFFF;\n",
              "      --disabled-bg-color: #3B4455;\n",
              "      --disabled-fill-color: #666;\n",
              "  }\n",
              "\n",
              "  .colab-df-quickchart {\n",
              "    background-color: var(--bg-color);\n",
              "    border: none;\n",
              "    border-radius: 50%;\n",
              "    cursor: pointer;\n",
              "    display: none;\n",
              "    fill: var(--fill-color);\n",
              "    height: 32px;\n",
              "    padding: 0;\n",
              "    width: 32px;\n",
              "  }\n",
              "\n",
              "  .colab-df-quickchart:hover {\n",
              "    background-color: var(--hover-bg-color);\n",
              "    box-shadow: 0 1px 2px rgba(60, 64, 67, 0.3), 0 1px 3px 1px rgba(60, 64, 67, 0.15);\n",
              "    fill: var(--button-hover-fill-color);\n",
              "  }\n",
              "\n",
              "  .colab-df-quickchart-complete:disabled,\n",
              "  .colab-df-quickchart-complete:disabled:hover {\n",
              "    background-color: var(--disabled-bg-color);\n",
              "    fill: var(--disabled-fill-color);\n",
              "    box-shadow: none;\n",
              "  }\n",
              "\n",
              "  .colab-df-spinner {\n",
              "    border: 2px solid var(--fill-color);\n",
              "    border-color: transparent;\n",
              "    border-bottom-color: var(--fill-color);\n",
              "    animation:\n",
              "      spin 1s steps(1) infinite;\n",
              "  }\n",
              "\n",
              "  @keyframes spin {\n",
              "    0% {\n",
              "      border-color: transparent;\n",
              "      border-bottom-color: var(--fill-color);\n",
              "      border-left-color: var(--fill-color);\n",
              "    }\n",
              "    20% {\n",
              "      border-color: transparent;\n",
              "      border-left-color: var(--fill-color);\n",
              "      border-top-color: var(--fill-color);\n",
              "    }\n",
              "    30% {\n",
              "      border-color: transparent;\n",
              "      border-left-color: var(--fill-color);\n",
              "      border-top-color: var(--fill-color);\n",
              "      border-right-color: var(--fill-color);\n",
              "    }\n",
              "    40% {\n",
              "      border-color: transparent;\n",
              "      border-right-color: var(--fill-color);\n",
              "      border-top-color: var(--fill-color);\n",
              "    }\n",
              "    60% {\n",
              "      border-color: transparent;\n",
              "      border-right-color: var(--fill-color);\n",
              "    }\n",
              "    80% {\n",
              "      border-color: transparent;\n",
              "      border-right-color: var(--fill-color);\n",
              "      border-bottom-color: var(--fill-color);\n",
              "    }\n",
              "    90% {\n",
              "      border-color: transparent;\n",
              "      border-bottom-color: var(--fill-color);\n",
              "    }\n",
              "  }\n",
              "</style>\n",
              "\n",
              "      <script>\n",
              "        async function quickchart(key) {\n",
              "          const quickchartButtonEl =\n",
              "            document.querySelector('#' + key + ' button');\n",
              "          quickchartButtonEl.disabled = true;  // To prevent multiple clicks.\n",
              "          quickchartButtonEl.classList.add('colab-df-spinner');\n",
              "          try {\n",
              "            const charts = await google.colab.kernel.invokeFunction(\n",
              "                'suggestCharts', [key], {});\n",
              "          } catch (error) {\n",
              "            console.error('Error during call to suggestCharts:', error);\n",
              "          }\n",
              "          quickchartButtonEl.classList.remove('colab-df-spinner');\n",
              "          quickchartButtonEl.classList.add('colab-df-quickchart-complete');\n",
              "        }\n",
              "        (() => {\n",
              "          let quickchartButtonEl =\n",
              "            document.querySelector('#df-f2dfc8db-a2c0-43cc-8dc8-af0e1fa649f5 button');\n",
              "          quickchartButtonEl.style.display =\n",
              "            google.colab.kernel.accessAllowed ? 'block' : 'none';\n",
              "        })();\n",
              "      </script>\n",
              "    </div>\n",
              "\n",
              "    </div>\n",
              "  </div>\n"
            ],
            "application/vnd.google.colaboratory.intrinsic+json": {
              "type": "dataframe",
              "repr_error": "0"
            }
          },
          "metadata": {}
        }
      ],
      "source": [
        "df.info()\n",
        "\n",
        "pd.set_option('display.max_colwidth', None)\n",
        "display(df.sample(5))\n",
        "pd.reset_option('display.max_colwidth')"
      ]
    },
    {
      "cell_type": "markdown",
      "metadata": {
        "id": "o74UcupeGE_j"
      },
      "source": [
        "## 2.3. Chia bộ dữ liệu gốc cho nhiệm vụ Huấn luyện - Kiểm thử - Tinh chỉnh"
      ]
    },
    {
      "cell_type": "code",
      "execution_count": 17,
      "metadata": {
        "colab": {
          "base_uri": "https://localhost:8080/"
        },
        "id": "ui1GGaeHmx1M",
        "outputId": "f1cc0f86-0f23-479c-961a-51a4091a71fe"
      },
      "outputs": [
        {
          "output_type": "stream",
          "name": "stdout",
          "text": [
            "Total samples \t| 132225\n",
            "Testing set \t| 119003 (90.0%)\n",
            "Traing set \t| 11569 (8.7%\n",
            "Validation set \t| 1653 (1.3%)\n"
          ]
        }
      ],
      "source": [
        "from datasets import DatasetDict\n",
        "\n",
        "dataset = Dataset.from_pandas(df.reset_index(drop=True))\n",
        "\n",
        "# training : testing : validation = 7 : 2 : 1\n",
        "test_and_train_val_dataset = dataset.train_test_split(test_size=0.9, seed=42)\n",
        "test_dataset = test_and_train_val_dataset['test']\n",
        "train_val = test_and_train_val_dataset['train']\n",
        "\n",
        "traing_and_val_dataset = train_val.train_test_split(test_size=0.125, seed=42)\n",
        "val_dataset = traing_and_val_dataset['test']\n",
        "train_dataset = traing_and_val_dataset['train']\n",
        "\n",
        "print(f\"Total samples \\t| {len(dataset)}\")\n",
        "print(f\"Testing set \\t| {len(test_dataset)} ({len(test_dataset)/len(dataset)*100:.1f}%)\")\n",
        "print(f\"Traing set \\t| {len(train_dataset)} ({len(train_dataset)/len(dataset)*100:.1f}%\")\n",
        "print(f\"Validation set \\t| {len(val_dataset)} ({len(val_dataset)/len(dataset)*100:.1f}%)\")\n",
        "\n",
        "dataset_splits = DatasetDict({\n",
        "  'train': train_dataset,\n",
        "  'validation': val_dataset,\n",
        "  'test': test_dataset\n",
        "})"
      ]
    },
    {
      "cell_type": "code",
      "execution_count": null,
      "metadata": {
        "colab": {
          "base_uri": "https://localhost:8080/"
        },
        "id": "i9TZeZff2ljK",
        "outputId": "2f9fd7b6-063d-46bd-bc8e-1393e1cb7aea"
      },
      "outputs": [
        {
          "output_type": "stream",
          "name": "stdout",
          "text": [
            "--- Sample from TRAIN split ---\n",
            "Sample 1:\n",
            "  Symbol: SHB\n",
            "  Publish Date: 2021-06-08\n",
            "  Context Segmented: SHB - Ngân_hàng TMCP Sài_Gòn – Hà_Nội - Ông Đỗ_Quang_Vinh , con ông Đỗ_Quang_Hiển – Chủ_tịch HĐQT đăng_ký mua 500.000 cổ_phiếu SHB từ ngày 10/6 đến 08/7 theo phương_thức thoả_thuận và khớp lệnh . Hiện_tại , ông Vinh chưa nắm giữ bất_kỳ cổ_phiếu SHB nào .\n",
            "  Price Before: 14.87\n",
            "  Price After: 15.51\n",
            "  Index Before: 1484.1\n",
            "  Index After: 1457.76\n",
            "  Status: ok\n",
            "  Label Vol: 0\n",
            "  Label Alpha: 0\n",
            "--------------------\n",
            "\n",
            "\n",
            "--- Sample from VALIDATION split ---\n",
            "Sample 1:\n",
            "  Symbol: MWG\n",
            "  Publish Date: 2022-04-14\n",
            "  Context Segmented: Theo đó , MWG sẽ chuyển_nhượng toàn_bộ số cổ_phần đang sở_hữu trong BHX cho công_ty mới thành_lập nói trên , giá_trị chuyển_nhượng là 12.795 tỷ đồng .\n",
            "  Price Before: 76.25\n",
            "  Price After: 78.2\n",
            "  Index Before: 1525.39\n",
            "  Index After: 1493.74\n",
            "  Status: ok\n",
            "  Label Vol: 0\n",
            "  Label Alpha: 0\n",
            "--------------------\n",
            "\n",
            "\n",
            "--- Sample from TEST split ---\n",
            "Sample 1:\n",
            "  Symbol: STB\n",
            "  Publish Date: 2022-06-26\n",
            "  Context Segmented: Hai mã MWG và VHM cũng đều bị bán ròng trên 100 tỷ đồng . Ở chiều ngược_lại , STB được mua ròng mạnh nhất với giá_trị 195 tỷ đồng . GAS và VNM đứng sau với giá_trị mua ròng lần_lượt 156 tỷ đồng và 154 tỷ đồng .\n",
            "  Price Before: 21.2\n",
            "  Price After: 21.5\n",
            "  Index Before: 1235.47\n",
            "  Index After: 1256.67\n",
            "  Status: ok\n",
            "  Label Vol: 0\n",
            "  Label Alpha: 2\n",
            "--------------------\n",
            "\n",
            "\n"
          ]
        }
      ],
      "source": [
        "\n",
        "for split_name, dataset_split in dataset_splits.items():\n",
        "  print(f\"--- Sample from {split_name.upper()} split ---\")\n",
        "  for i in range(min(1, len(dataset_split))):\n",
        "    sample = dataset_split[i]\n",
        "    print(f\"Sample {i+1}:\")\n",
        "    print(f\"  Symbol: {sample['symbol']}\")\n",
        "    print(f\"  Publish Date: {sample['publish_date']}\")\n",
        "    print(f\"  Context Segmented: {sample['context_segmented']}\")\n",
        "    print(f\"  Price Before: {sample['price_before']}\")\n",
        "    print(f\"  Price After: {sample['price_after']}\")\n",
        "    print(f\"  Index Before: {sample['index_before']}\")\n",
        "    print(f\"  Index After: {sample['index_after']}\")\n",
        "    print(f\"  Status: {sample['status']}\")\n",
        "    print(f\"  Label Vol: {sample['label_vol']}\")\n",
        "    print(f\"  Label Alpha: {sample['label_alpha']}\")\n",
        "    print(\"-\" * 20)\n",
        "  print(\"\\n\")"
      ]
    },
    {
      "cell_type": "code",
      "execution_count": 20,
      "metadata": {
        "colab": {
          "base_uri": "https://localhost:8080/",
          "height": 1000
        },
        "id": "jgknkiPS3e3n",
        "outputId": "82736844-5192-402e-8a76-b5adba90f413"
      },
      "outputs": [
        {
          "output_type": "display_data",
          "data": {
            "text/plain": [
              "<Figure size 600x400 with 1 Axes>"
            ],
            "image/png": "[encoded data removed]"
          },
          "metadata": {}
        },
        {
          "output_type": "display_data",
          "data": {
            "text/plain": [
              "<Figure size 600x400 with 1 Axes>"
            ],
            "image/png": "[encoded data removed]"
          },
          "metadata": {}
        },
        {
          "output_type": "display_data",
          "data": {
            "text/plain": [
              "<Figure size 600x400 with 1 Axes>"
            ],
            "image/png": "[encoded data removed]"
          },
          "metadata": {}
        }
      ],
      "source": [
        "import matplotlib.pyplot as plt\n",
        "import numpy as np\n",
        "\n",
        "def plot_label_distribution(dataset_splits, label_col=\"label_vol\", title_prefix=\"Phân bố nhãn\"):\n",
        "  label_names = {0: \"Tích cực\", 1: \"Tiêu cực\", 2: \"Trung tính\"}\n",
        "  colors = ['#2E8B8B', '#FF6F61', '#F7C94C']\n",
        "\n",
        "  for split_name, dataset_split in dataset_splits.items():\n",
        "    labels = [sample[label_col] for sample in dataset_split]\n",
        "    labels_tensor = torch.tensor(labels)\n",
        "    unique_labels, counts = torch.unique(labels_tensor, return_counts=True)\n",
        "\n",
        "    label_count_dict = {int(label): int(count) for label, count in zip(unique_labels, counts)}\n",
        "    total = sum(label_count_dict.values())\n",
        "\n",
        "\n",
        "    sorted_labels = sorted(label_count_dict.keys())\n",
        "    sorted_counts = [label_count_dict.get(label, 0) for label in sorted_labels]\n",
        "    sorted_names = [label_names[label] for label in sorted_labels]\n",
        "    sorted_colors = [colors[label] for label in sorted_labels]\n",
        "\n",
        "    plt.figure(figsize=(6, 4))\n",
        "    bars = plt.bar(sorted_names, sorted_counts, color=sorted_colors)\n",
        "    plt.ylabel(\"Số lượng mẫu\")\n",
        "    plt.title(f\"{title_prefix} - Tập {split_name.capitalize()}\")\n",
        "    plt.xticks(sorted_names)\n",
        "\n",
        "    for bar in bars:\n",
        "      height = bar.get_height()\n",
        "      percentage = (height / total) * 100 if total > 0 else 0\n",
        "      plt.text(bar.get_x() + bar.get_width()/2., height,\n",
        "                f'{height}\\n({percentage:.1f}%)',\n",
        "                ha='center', va='bottom')\n",
        "\n",
        "    plt.margins(x=0.1, y=0.2)\n",
        "    plt.show()\n",
        "\n",
        "plot_label_distribution(dataset_splits, label_col=\"label_vol\")"
      ]
    },
    {
      "cell_type": "code",
      "execution_count": 37,
      "metadata": {
        "colab": {
          "base_uri": "https://localhost:8080/",
          "height": 1000,
          "referenced_widgets": [
            "d968dd8af04b4fe99728811b54032990",
            "9264f756235b48a7861191d3774b1ee9",
            "d2dcc34ee00a4a50929231ef1ab20936",
            "3e3619734baa45af8044a799f34a6a52",
            "21f6a69472644ce1b725527d60dec56c",
            "504b3ec6f3914a0581bcff0a9ce9655e",
            "7e435d5c908b4800b9476138b036e5e5",
            "cfe8f4600fd2431fab5e56a17369e905",
            "3c1df787bbe5473ea8bd1b2d2a25ae57",
            "a4e9bda01c3d481482c34ecb8df464e1",
            "c83e870643ea49838a2ce507d9e7779d",
            "e675f189ba68426ba050b9d22af36fcc",
            "4f2a4b1af9984a6fab66a764b4c54b6d",
            "491aa23bc5864a368061cda1d006f3cd",
            "f59876b1dea24eb790a31d7df0495022",
            "f942e8d910c448b7b746e7fc8dadb91d",
            "81d1869bc03f46d8ae8ed601b4c39e73",
            "62e4cb14d3444760818c3f9ebc46f1e1",
            "ff9d1e5cd78d4cbd9a1cae22e1894c21",
            "f11e2253f8164e4a87f857aa2502fce8",
            "d02971f090e74196bc06691c45521b70",
            "82c40e79166a4d8db9d4eed2bab3e74a",
            "3f538a350128445da69a6f84dab4602d",
            "caebe8b9eae648b28a314fcea609894e",
            "446901a972de48959261822c4044ca72",
            "64a6d1a6832849a381f91f21ca82f4bd",
            "294dd4c93d684f7dab75289f0616d5ca",
            "0423a480e41c40a9950dfa8d67fae41b",
            "c4ee79ba3db443f28d6586b3b0f1c502",
            "fb2c98a53592431f9cb9c1a3cec010b2",
            "6dd5cbfd44904529a5edb22e89e71fcb",
            "e8c9e815f741426ea9c3713e97e4f8b1",
            "458973ba176a418bb65ce58af98b6e7d"
          ]
        },
        "id": "zDzYRNRwdoA4",
        "outputId": "d375d38e-fcdd-4279-be31-f454a6a3fadb"
      },
      "outputs": [
        {
          "output_type": "display_data",
          "data": {
            "text/plain": [
              "Filter:   0%|          | 0/11569 [00:00<?, ? examples/s]"
            ],
            "application/vnd.jupyter.widget-view+json": {
              "version_major": 2,
              "version_minor": 0,
              "model_id": "d968dd8af04b4fe99728811b54032990"
            }
          },
          "metadata": {}
        },
        {
          "output_type": "stream",
          "name": "stdout",
          "text": [
            "Lớp mục tiêu: 0, số lượng hiện tại: 4439\n",
            "Thực hiện undersampling lớp 0 xuống còn 3900 mẫu.\n"
          ]
        },
        {
          "output_type": "display_data",
          "data": {
            "text/plain": [
              "Filter:   0%|          | 0/11569 [00:00<?, ? examples/s]"
            ],
            "application/vnd.jupyter.widget-view+json": {
              "version_major": 2,
              "version_minor": 0,
              "model_id": "e675f189ba68426ba050b9d22af36fcc"
            }
          },
          "metadata": {}
        },
        {
          "output_type": "display_data",
          "data": {
            "text/plain": [
              "Filter:   0%|          | 0/11569 [00:00<?, ? examples/s]"
            ],
            "application/vnd.jupyter.widget-view+json": {
              "version_major": 2,
              "version_minor": 0,
              "model_id": "3f538a350128445da69a6f84dab4602d"
            }
          },
          "metadata": {}
        },
        {
          "output_type": "stream",
          "name": "stderr",
          "text": [
            "/usr/local/lib/python3.11/dist-packages/datasets/table.py:1395: FutureWarning: promote has been superseded by promote_options='default'.\n",
            "  block_group = [InMemoryTable(cls._concat_blocks(list(block_group), axis=axis))]\n",
            "/usr/local/lib/python3.11/dist-packages/datasets/table.py:1421: FutureWarning: promote has been superseded by promote_options='default'.\n",
            "  table = cls._concat_blocks(blocks, axis=0)\n"
          ]
        },
        {
          "output_type": "stream",
          "name": "stdout",
          "text": [
            "\n",
            "Undersampling hoàn tất!\n",
            "Kích thước tập train mới: 11030\n",
            "\n",
            "--- Phân bố nhãn sau khi undersampling ---\n"
          ]
        },
        {
          "output_type": "display_data",
          "data": {
            "text/plain": [
              "<Figure size 600x400 with 1 Axes>"
            ],
            "image/png": "[encoded data removed]"
          },
          "metadata": {}
        },
        {
          "output_type": "display_data",
          "data": {
            "text/plain": [
              "<Figure size 600x400 with 1 Axes>"
            ],
            "image/png": "[encoded data removed]"
          },
          "metadata": {}
        },
        {
          "output_type": "display_data",
          "data": {
            "text/plain": [
              "<Figure size 600x400 with 1 Axes>"
            ],
            "image/png": "[encoded data removed]"
          },
          "metadata": {}
        }
      ],
      "source": [
        "import numpy as np\n",
        "from datasets import concatenate_datasets\n",
        "\n",
        "target_class_label = 0\n",
        "target_size = 3900\n",
        "target_split_name = 'train'\n",
        "label_column = 'label_vol'\n",
        "\n",
        "\n",
        "train_dataset = dataset_splits[target_split_name]\n",
        "try:\n",
        "    current_size = len(train_dataset.filter(lambda x: x[label_column] == target_class_label))\n",
        "    print(f\"Lớp mục tiêu: {target_class_label}, số lượng hiện tại: {current_size}\")\n",
        "\n",
        "    if target_size < current_size:\n",
        "        print(f\"Thực hiện undersampling lớp {target_class_label} xuống còn {target_size} mẫu.\")\n",
        "\n",
        "        target_class_dataset = train_dataset.filter(lambda x: x[label_column] == target_class_label)\n",
        "        other_classes_dataset = train_dataset.filter(lambda x: x[label_column] != target_class_label)\n",
        "\n",
        "        undersampled_target_dataset = target_class_dataset.shuffle(seed=42).select(range(target_size))\n",
        "\n",
        "        new_train_dataset = concatenate_datasets([other_classes_dataset, undersampled_target_dataset])\n",
        "        new_train_dataset = new_train_dataset.shuffle(seed=42)\n",
        "\n",
        "        dataset_splits[target_split_name] = new_train_dataset\n",
        "\n",
        "        print(\"\\nUndersampling hoàn tất!\")\n",
        "        print(f\"Kích thước tập train mới: {len(dataset_splits[target_split_name])}\")\n",
        "\n",
        "        print(\"\\n--- Phân bố nhãn sau khi undersampling ---\")\n",
        "        plot_label_distribution(dataset_splits, label_col=label_column)\n",
        "\n",
        "    else:\n",
        "        print(f\"\\nLỖI: Kích thước mục tiêu ({target_size}) phải nhỏ hơn số lượng hiện tại ({current_size}).\")\n",
        "        print(\"Undersampling không được thực hiện.\")\n",
        "\n",
        "except Exception as e:\n",
        "    print(f\"Đã xảy ra lỗi: {e}. Vui lòng kiểm tra lại tên cột nhãn và giá trị của các nhãn.\")"
      ]
    },
    {
      "cell_type": "markdown",
      "metadata": {
        "id": "-f4tH1cmoIOX"
      },
      "source": [
        "# 3. Huấn luyện mô hình"
      ]
    },
    {
      "cell_type": "markdown",
      "metadata": {
        "id": "_hLGjxjPy55r"
      },
      "source": [
        "## 3.1. Kết nối với Wandb để lưu hiệu suất mô hình"
      ]
    },
    {
      "cell_type": "code",
      "execution_count": 21,
      "metadata": {
        "colab": {
          "base_uri": "https://localhost:8080/",
          "height": 191
        },
        "id": "uE6591BJy4v0",
        "outputId": "cee1dd1c-cec0-4db2-a0d5-1eb955e78ba4"
      },
      "outputs": [
        {
          "output_type": "display_data",
          "data": {
            "text/plain": [
              "<IPython.core.display.Javascript object>"
            ],
            "application/javascript": [
              "\n",
              "        window._wandbApiKey = new Promise((resolve, reject) => {\n",
              "            function loadScript(url) {\n",
              "            return new Promise(function(resolve, reject) {\n",
              "                let newScript = document.createElement(\"script\");\n",
              "                newScript.onerror = reject;\n",
              "                newScript.onload = resolve;\n",
              "                document.body.appendChild(newScript);\n",
              "                newScript.src = url;\n",
              "            });\n",
              "            }\n",
              "            loadScript(\"https://cdn.jsdelivr.net/npm/postmate/build/postmate.min.js\").then(() => {\n",
              "            const iframe = document.createElement('iframe')\n",
              "            iframe.style.cssText = \"width:0;height:0;border:none\"\n",
              "            document.body.appendChild(iframe)\n",
              "            const handshake = new Postmate({\n",
              "                container: iframe,\n",
              "                url: 'https://wandb.ai/authorize'\n",
              "            });\n",
              "            const timeout = setTimeout(() => reject(\"Couldn't auto authenticate\"), 5000)\n",
              "            handshake.then(function(child) {\n",
              "                child.on('authorize', data => {\n",
              "                    clearTimeout(timeout)\n",
              "                    resolve(data)\n",
              "                });\n",
              "            });\n",
              "            })\n",
              "        });\n",
              "    "
            ]
          },
          "metadata": {}
        },
        {
          "output_type": "stream",
          "name": "stderr",
          "text": [
            "\u001b[34m\u001b[1mwandb\u001b[0m: Logging into wandb.ai. (Learn how to deploy a W&B server locally: https://wandb.me/wandb-server)\n",
            "\u001b[34m\u001b[1mwandb\u001b[0m: You can find your API key in your browser here: https://wandb.ai/authorize\n",
            "wandb: Paste an API key from your profile and hit enter:"
          ]
        },
        {
          "name": "stdout",
          "output_type": "stream",
          "text": [
            " ··········\n"
          ]
        },
        {
          "output_type": "stream",
          "name": "stderr",
          "text": [
            "\u001b[34m\u001b[1mwandb\u001b[0m: \u001b[33mWARNING\u001b[0m If you're specifying your api key in code, ensure this code is not shared publicly.\n",
            "\u001b[34m\u001b[1mwandb\u001b[0m: \u001b[33mWARNING\u001b[0m Consider setting the WANDB_API_KEY environment variable, or running `wandb login` from the command line.\n",
            "\u001b[34m\u001b[1mwandb\u001b[0m: No netrc file found, creating one.\n",
            "\u001b[34m\u001b[1mwandb\u001b[0m: Appending key for api.wandb.ai to your netrc file: /root/.netrc\n",
            "\u001b[34m\u001b[1mwandb\u001b[0m: Currently logged in as: \u001b[33mquanghuy71847\u001b[0m (\u001b[33mquanghuy71847-ton-duc-thang-university\u001b[0m) to \u001b[32mhttps://api.wandb.ai\u001b[0m. Use \u001b[1m`wandb login --relogin`\u001b[0m to force relogin\n"
          ]
        },
        {
          "output_type": "execute_result",
          "data": {
            "text/plain": [
              "True"
            ]
          },
          "metadata": {},
          "execution_count": 21
        }
      ],
      "source": [
        "import wandb\n",
        "\n",
        "wandb.login()"
      ]
    },
    {
      "cell_type": "markdown",
      "metadata": {
        "id": "RmE-7rtaHOzT"
      },
      "source": [
        "## 3.2. Cài đặt phần cứng"
      ]
    },
    {
      "cell_type": "code",
      "execution_count": 23,
      "metadata": {
        "colab": {
          "base_uri": "https://localhost:8080/"
        },
        "collapsed": true,
        "id": "qohY3Rp6MvEn",
        "outputId": "bda00998-5a10-4efc-adf0-41bd0350d9ea"
      },
      "outputs": [
        {
          "output_type": "stream",
          "name": "stdout",
          "text": [
            "There are 1 GPU(s) available.\n",
            "Use the GPU: Tesla T4\n"
          ]
        }
      ],
      "source": [
        "if torch.cuda.is_available():\n",
        "  device = torch.device(\"cuda\")\n",
        "\n",
        "  print('There are %d GPU(s) available.' % torch.cuda.device_count())\n",
        "  print('Use the GPU:', torch.cuda.get_device_name(0))\n",
        "else:\n",
        "  print('No GPU available, using the CPU instead.')\n",
        "  device = torch.device(\"cpu\")"
      ]
    },
    {
      "cell_type": "markdown",
      "metadata": {
        "id": "BgCuBkqNHel3"
      },
      "source": [
        "## 3.3. Tải mô hình"
      ]
    },
    {
      "cell_type": "code",
      "execution_count": 24,
      "metadata": {
        "colab": {
          "base_uri": "https://localhost:8080/"
        },
        "collapsed": true,
        "id": "Q-rRsVCZ2_dS",
        "outputId": "68096ae9-faab-4f2f-c33e-f86784f21fc0"
      },
      "outputs": [
        {
          "output_type": "stream",
          "name": "stderr",
          "text": [
            "Some weights of RobertaForSequenceClassification were not initialized from the model checkpoint at vinai/phobert-base and are newly initialized: ['classifier.dense.bias', 'classifier.dense.weight', 'classifier.out_proj.bias', 'classifier.out_proj.weight']\n",
            "You should probably TRAIN this model on a down-stream task to be able to use it for predictions and inference.\n"
          ]
        },
        {
          "output_type": "execute_result",
          "data": {
            "text/plain": [
              "RobertaForSequenceClassification(\n",
              "  (roberta): RobertaModel(\n",
              "    (embeddings): RobertaEmbeddings(\n",
              "      (word_embeddings): Embedding(64001, 768, padding_idx=1)\n",
              "      (position_embeddings): Embedding(258, 768, padding_idx=1)\n",
              "      (token_type_embeddings): Embedding(1, 768)\n",
              "      (LayerNorm): LayerNorm((768,), eps=1e-05, elementwise_affine=True)\n",
              "      (dropout): Dropout(p=0.1, inplace=False)\n",
              "    )\n",
              "    (encoder): RobertaEncoder(\n",
              "      (layer): ModuleList(\n",
              "        (0-11): 12 x RobertaLayer(\n",
              "          (attention): RobertaAttention(\n",
              "            (self): RobertaSdpaSelfAttention(\n",
              "              (query): Linear(in_features=768, out_features=768, bias=True)\n",
              "              (key): Linear(in_features=768, out_features=768, bias=True)\n",
              "              (value): Linear(in_features=768, out_features=768, bias=True)\n",
              "              (dropout): Dropout(p=0.1, inplace=False)\n",
              "            )\n",
              "            (output): RobertaSelfOutput(\n",
              "              (dense): Linear(in_features=768, out_features=768, bias=True)\n",
              "              (LayerNorm): LayerNorm((768,), eps=1e-05, elementwise_affine=True)\n",
              "              (dropout): Dropout(p=0.1, inplace=False)\n",
              "            )\n",
              "          )\n",
              "          (intermediate): RobertaIntermediate(\n",
              "            (dense): Linear(in_features=768, out_features=3072, bias=True)\n",
              "            (intermediate_act_fn): GELUActivation()\n",
              "          )\n",
              "          (output): RobertaOutput(\n",
              "            (dense): Linear(in_features=3072, out_features=768, bias=True)\n",
              "            (LayerNorm): LayerNorm((768,), eps=1e-05, elementwise_affine=True)\n",
              "            (dropout): Dropout(p=0.1, inplace=False)\n",
              "          )\n",
              "        )\n",
              "      )\n",
              "    )\n",
              "  )\n",
              "  (classifier): RobertaClassificationHead(\n",
              "    (dense): Linear(in_features=768, out_features=768, bias=True)\n",
              "    (dropout): Dropout(p=0.1, inplace=False)\n",
              "    (out_proj): Linear(in_features=768, out_features=3, bias=True)\n",
              "  )\n",
              ")"
            ]
          },
          "metadata": {},
          "execution_count": 24
        }
      ],
      "source": [
        "from transformers import AutoModelForSequenceClassification\n",
        "model = AutoModelForSequenceClassification.from_pretrained(\n",
        "  \"vinai/phobert-base\",\n",
        "  num_labels=3\n",
        ")\n",
        "model.to(device)"
      ]
    },
    {
      "cell_type": "markdown",
      "metadata": {
        "id": "F7hiuctCjZl7"
      },
      "source": [
        "## 3.4. Tokenization"
      ]
    },
    {
      "cell_type": "code",
      "execution_count": 25,
      "metadata": {
        "colab": {
          "base_uri": "https://localhost:8080/",
          "height": 130,
          "referenced_widgets": [
            "a0042319871044718c01d21379a3cfcd",
            "49ae83f542fd4861b2f51a96c8e59882",
            "36a8b709500d4cfe88b8de893fc33899",
            "ffdbb18eb4ad495a8bbd39d694a573fc",
            "951aa2e6129d409d975f63f2fda8e407",
            "7584641ca1ea40b9b79c579b3ffbfa4d",
            "0a0ffd24f250457daf1fc255217ca354",
            "05bf554e29e94331a3949daff82738c9",
            "cd9eb2de24014b38b938276dfaf4e6bc",
            "694426ec07c540898328b866edf8ddd0",
            "930cacf284d54befb87a3477c13fab36",
            "5cf4e17e7c8c41799b511e97c1ae668c",
            "8f8c180c2fa7410cb8214d8678db8155",
            "9a78289b015740488985224435e9e869",
            "4d24a70270e04bfc8266eb37f8bfbbf9",
            "68d821b6f739473599aa611524df50d4",
            "92b5182151cd4d75970274161a24ff75",
            "188cf0c0014f4e3eb3f6d694bee85d44",
            "be4c59f9d9f548509ea016d330400a27",
            "6d75063b7f9f4ad0aeb6ea146b866c97",
            "b01bcb392f684936a6dc8a931c0b8afa",
            "16e0794a2cc14960819b0e978a8c1d18",
            "95e7f91ce6804562872c1ef70c50ebe6",
            "e3429de7a7bd4d4b852e888fed7c9e87",
            "796f53f7a1724a38b2cf7e90635e4836",
            "a6b140b95f314ea592a6ce7377892c92",
            "55f736aef9e049bf9d6331e519e3889d",
            "b431189ae0484d30a3db3fe6867f5e91",
            "93ccc2d669424c86bf834ba5e82caac3",
            "ca36a094c99f4129a3f303ed378fdde8",
            "212121c694cb4ef29bad63422fbdeebb",
            "0d5d729d79c04a62a9c2f74a6c91d684",
            "1e430422dbaf42678be44861b0477197"
          ]
        },
        "id": "tGJ5NuITjRKq",
        "outputId": "c167d7c1-bd36-42ff-a747-5b0e10aa7f56"
      },
      "outputs": [
        {
          "output_type": "display_data",
          "data": {
            "text/plain": [
              "vocab.txt: 0.00B [00:00, ?B/s]"
            ],
            "application/vnd.jupyter.widget-view+json": {
              "version_major": 2,
              "version_minor": 0,
              "model_id": "a0042319871044718c01d21379a3cfcd"
            }
          },
          "metadata": {}
        },
        {
          "output_type": "display_data",
          "data": {
            "text/plain": [
              "bpe.codes: 0.00B [00:00, ?B/s]"
            ],
            "application/vnd.jupyter.widget-view+json": {
              "version_major": 2,
              "version_minor": 0,
              "model_id": "5cf4e17e7c8c41799b511e97c1ae668c"
            }
          },
          "metadata": {}
        },
        {
          "output_type": "display_data",
          "data": {
            "text/plain": [
              "tokenizer.json: 0.00B [00:00, ?B/s]"
            ],
            "application/vnd.jupyter.widget-view+json": {
              "version_major": 2,
              "version_minor": 0,
              "model_id": "95e7f91ce6804562872c1ef70c50ebe6"
            }
          },
          "metadata": {}
        },
        {
          "output_type": "execute_result",
          "data": {
            "text/plain": [
              "0"
            ]
          },
          "metadata": {},
          "execution_count": 25
        }
      ],
      "source": [
        "tokenizer = AutoTokenizer.from_pretrained(\"vinai/phobert-base\", use_fast=True)\n",
        "tokenizer.add_special_tokens({'pad_token': '<pad>'})"
      ]
    },
    {
      "cell_type": "code",
      "execution_count": 26,
      "metadata": {
        "colab": {
          "base_uri": "https://localhost:8080/"
        },
        "id": "a7G0WAiYoHFk",
        "outputId": "e8a6b645-feca-4e02-a414-19b6e6518976"
      },
      "outputs": [
        {
          "output_type": "execute_result",
          "data": {
            "text/plain": [
              "Embedding(64001, 768, padding_idx=1)"
            ]
          },
          "metadata": {},
          "execution_count": 26
        }
      ],
      "source": [
        "model.resize_token_embeddings(len(tokenizer))"
      ]
    },
    {
      "cell_type": "code",
      "execution_count": 27,
      "metadata": {
        "id": "HV602zE0jlZR"
      },
      "outputs": [],
      "source": [
        "max_len = 256\n",
        "\n",
        "def preprocess_function(examples):\n",
        "  return tokenizer(\n",
        "    examples[\"context_segmented\"],\n",
        "    truncation=True,\n",
        "    padding=\"max_length\",\n",
        "    max_length=max_len,\n",
        "    return_attention_mask=True,\n",
        "    return_token_type_ids=True\n",
        "  )\n"
      ]
    },
    {
      "cell_type": "code",
      "execution_count": 38,
      "metadata": {
        "colab": {
          "base_uri": "https://localhost:8080/",
          "height": 113,
          "referenced_widgets": [
            "bcf514bfd5af42ac9ab0c141d67b7de1",
            "4bf62da750184598b90e63467e817896",
            "f9eb4d7e25a546a78b12106170bbbed0",
            "d204c6a8090d4bb8a2af73c159248b96",
            "6aa3a18d0a97497c9f319db66d5e2459",
            "0ab37247fa83457f82fc12305581695f",
            "609949109cd94a5087c768d2cc7be9b7",
            "e8de1ed7bf1147fe8030976103473ce6",
            "c6d3ddd2b87b4106bea91c05982cf490",
            "cf39ae6a760146b79b22f084ff1b2c9e",
            "f6550fbc9ec34be69308dd86d322edd9",
            "1c5cc23996be463fa74e7b0aa17eec5a",
            "1cc6cce9ee8d4786b35d9caa5f6566ea",
            "028d43c0be3949e496ce21460e3337eb",
            "8fc008caa65a4e33ae534be69bc70300",
            "d06b36cb196a4cc5aefcc64e6e1fb4db",
            "4abf85f62bd8409b93dbf4d59f4055a4",
            "03dae00845314230a227da117f5255f5",
            "2554784229a94b89aecb53f7d32d7a17",
            "3ab2b6cb75e44a048df88171b7202dd9",
            "22902904edb2499bb7c96346828af8e1",
            "f59df8b7021f4aa78eec03dd68904222",
            "c0b629a2b3c64543b233396026214dbb",
            "73630b8aa7814ec6827ae886d2b38142",
            "e64a0dffe36e4383af25c652b8d52cc1",
            "8c4c7af0d7f348709cb315e0a29fb57b",
            "b090815508ad42fa991c40de035929b8",
            "1a1c2e72fa1249a2afb6491ee4d9ebe7",
            "1ac65de194e44345a550edb9b5818041",
            "97a191bece2e428b8a3d22e39defb992",
            "71b0779b441d4baab2aa351e620fbf01",
            "2071e05858be4cda93405b11c53e4500",
            "1b761b9ab40f43dc895e02a87e32c082"
          ]
        },
        "id": "xlPIyrJ9joHh",
        "outputId": "54b18cf7-8aac-467a-e930-3b6817a64769"
      },
      "outputs": [
        {
          "output_type": "display_data",
          "data": {
            "text/plain": [
              "Map:   0%|          | 0/11030 [00:00<?, ? examples/s]"
            ],
            "application/vnd.jupyter.widget-view+json": {
              "version_major": 2,
              "version_minor": 0,
              "model_id": "bcf514bfd5af42ac9ab0c141d67b7de1"
            }
          },
          "metadata": {}
        },
        {
          "output_type": "display_data",
          "data": {
            "text/plain": [
              "Map:   0%|          | 0/1653 [00:00<?, ? examples/s]"
            ],
            "application/vnd.jupyter.widget-view+json": {
              "version_major": 2,
              "version_minor": 0,
              "model_id": "1c5cc23996be463fa74e7b0aa17eec5a"
            }
          },
          "metadata": {}
        },
        {
          "output_type": "display_data",
          "data": {
            "text/plain": [
              "Map:   0%|          | 0/119003 [00:00<?, ? examples/s]"
            ],
            "application/vnd.jupyter.widget-view+json": {
              "version_major": 2,
              "version_minor": 0,
              "model_id": "c0b629a2b3c64543b233396026214dbb"
            }
          },
          "metadata": {}
        }
      ],
      "source": [
        "tokenized_splits = dataset_splits.map(preprocess_function, batched=True)"
      ]
    },
    {
      "cell_type": "code",
      "execution_count": null,
      "metadata": {
        "colab": {
          "base_uri": "https://localhost:8080/"
        },
        "id": "Q3pUrqjUZuF4",
        "outputId": "2dbc545b-bc36-4004-fdd1-39eb405afa64"
      },
      "outputs": [
        {
          "output_type": "stream",
          "name": "stdout",
          "text": [
            "DatasetDict({\n",
            "    train: Dataset({\n",
            "        features: ['symbol', 'publish_date', 'context_segmented', 'price_before', 'price_after', 'index_before', 'index_after', 'status', 'label_vol', 'label_alpha', 'input_ids', 'token_type_ids', 'attention_mask'],\n",
            "        num_rows: 55751\n",
            "    })\n",
            "    validation: Dataset({\n",
            "        features: ['symbol', 'publish_date', 'context_segmented', 'price_before', 'price_after', 'index_before', 'index_after', 'status', 'label_vol', 'label_alpha', 'input_ids', 'token_type_ids', 'attention_mask'],\n",
            "        num_rows: 8264\n",
            "    })\n",
            "    test: Dataset({\n",
            "        features: ['symbol', 'publish_date', 'context_segmented', 'price_before', 'price_after', 'index_before', 'index_after', 'status', 'label_vol', 'label_alpha', 'input_ids', 'token_type_ids', 'attention_mask'],\n",
            "        num_rows: 66113\n",
            "    })\n",
            "})\n"
          ]
        }
      ],
      "source": [
        "print(tokenized_splits)"
      ]
    },
    {
      "cell_type": "code",
      "execution_count": 39,
      "metadata": {
        "id": "yA1fVnrtjpax"
      },
      "outputs": [],
      "source": [
        "tokenized_splits = tokenized_splits.rename_column(\"label_vol\", \"labels\")\n",
        "tokenized_splits = tokenized_splits.remove_columns(\n",
        "  [\"context_segmented\", \"symbol\", \"publish_date\", \"price_before\", \"price_after\", \"index_before\", \"index_after\", \"status\"]\n",
        ")\n",
        "\n",
        "tokenized_splits.set_format(\n",
        "  type=\"torch\",\n",
        "  columns=[\"input_ids\", \"attention_mask\", \"token_type_ids\", \"labels\"]\n",
        ")"
      ]
    },
    {
      "cell_type": "code",
      "source": [
        "plot_label_distribution(tokenized_splits, label_col=\"labels\")"
      ],
      "metadata": {
        "colab": {
          "base_uri": "https://localhost:8080/",
          "height": 1000
        },
        "id": "6XPaCOu0eexq",
        "outputId": "59ad3967-5de2-4ed0-f797-b955a0e12507"
      },
      "execution_count": 30,
      "outputs": [
        {
          "output_type": "display_data",
          "data": {
            "text/plain": [
              "<Figure size 600x400 with 1 Axes>"
            ],
            "image/png": "[encoded data removed]"
          },
          "metadata": {}
        },
        {
          "output_type": "display_data",
          "data": {
            "text/plain": [
              "<Figure size 600x400 with 1 Axes>"
            ],
            "image/png": "[encoded data removed]"
          },
          "metadata": {}
        },
        {
          "output_type": "display_data",
          "data": {
            "text/plain": [
              "<Figure size 600x400 with 1 Axes>"
            ],
            "image/png": "[encoded data removed]"
          },
          "metadata": {}
        }
      ]
    },
    {
      "cell_type": "markdown",
      "metadata": {
        "id": "WyNkNDXwOAZR"
      },
      "source": [
        "## 3.5. Tính toán các chỉ số"
      ]
    },
    {
      "cell_type": "code",
      "execution_count": 31,
      "metadata": {
        "id": "9zcf7zX6q9Le"
      },
      "outputs": [],
      "source": [
        "import matplotlib.pyplot as plt\n",
        "import seaborn as sns\n",
        "\n",
        "def plot_confusion_matrix(cm, class_names=[\"positive\", \"negative\", \"neutral\"]):\n",
        "  plt.figure(figsize=(6, 5))\n",
        "  sns.heatmap(cm, annot=True, fmt=\"d\", cmap=\"Blues\", xticklabels=class_names, yticklabels=class_names)\n",
        "  plt.xlabel(\"Predicted\")\n",
        "  plt.ylabel(\"Actual\")\n",
        "  plt.title(\"Confusion Matrix\")\n",
        "  plt.show()"
      ]
    },
    {
      "cell_type": "code",
      "execution_count": 32,
      "metadata": {
        "id": "HAyBqBzVNyw5"
      },
      "outputs": [],
      "source": [
        "import numpy as np\n",
        "from sklearn.metrics import accuracy_score, precision_recall_fscore_support, confusion_matrix\n",
        "\n",
        "\n",
        "def compute_metrics(eval_pred):\n",
        "  logits, labels = eval_pred\n",
        "  preds = np.argmax(logits, axis=-1)\n",
        "\n",
        "  acc = accuracy_score(labels, preds)\n",
        "\n",
        "  # Weighted average\n",
        "  precision_w, recall_w, f1_w, _ = precision_recall_fscore_support(\n",
        "    labels, preds, average='weighted'\n",
        "  )\n",
        "\n",
        "  # Macro average\n",
        "  f1_macro = precision_recall_fscore_support(\n",
        "    labels, preds, average='macro'\n",
        "  )[2]\n",
        "\n",
        "  # Per-class F1\n",
        "  precision_class, recall_class, f1_class, _ = precision_recall_fscore_support(\n",
        "    labels, preds, average=None, labels=[0, 1, 2]\n",
        "  )\n",
        "\n",
        "  cm = confusion_matrix(labels, preds, labels=[0, 1, 2])\n",
        "  plot_confusion_matrix(cm)\n",
        "\n",
        "  return {\n",
        "    \"accuracy\": acc,\n",
        "    \"precision_weighted\": precision_w,\n",
        "    \"recall_weighted\": recall_w,\n",
        "    \"f1_weighted\": f1_w,\n",
        "    \"f1_macro\": f1_macro,\n",
        "    \"f1_positive\": f1_class[0],\n",
        "    \"f1_negative\": f1_class[1],\n",
        "    \"f1_neutral\": f1_class[2]\n",
        "  }"
      ]
    },
    {
      "cell_type": "markdown",
      "metadata": {
        "id": "NwJM9IzhLD0Q"
      },
      "source": [
        "## 3.6. Khởi tạo TrainingArguments"
      ]
    },
    {
      "cell_type": "code",
      "execution_count": 43,
      "metadata": {
        "id": "3bJZ_ZObONZ6"
      },
      "outputs": [],
      "source": [
        "from transformers import TrainingArguments, Trainer\n",
        "\n",
        "training_args = TrainingArguments(\n",
        "  output_dir=project_path + \"/phobert-finetuned\",\n",
        "  logging_dir=project_path + \"/logs\",\n",
        "  eval_strategy=\"steps\",\n",
        "  eval_steps=100,\n",
        "  save_steps=1000,\n",
        "  logging_steps=100,\n",
        "  per_device_train_batch_size=32,\n",
        "  per_device_eval_batch_size=32,\n",
        "  num_train_epochs=3,\n",
        "  learning_rate=3e-5,\n",
        "  weight_decay=0.01,\n",
        "  load_best_model_at_end=True,\n",
        "  metric_for_best_model=\"accuracy\",\n",
        "  fp16=torch.cuda.is_available(),\n",
        "  save_total_limit=2,\n",
        "  seed=42,\n",
        "  report_to=\"wandb\",\n",
        "  run_name=\"batch_32_3e-5_label_vol_train_0.1_last_chance\"\n",
        ")"
      ]
    },
    {
      "cell_type": "markdown",
      "metadata": {
        "id": "eahqx35WLLlB"
      },
      "source": [
        "## 3.7. Khởi tạo Trainer"
      ]
    },
    {
      "cell_type": "code",
      "execution_count": 44,
      "metadata": {
        "colab": {
          "base_uri": "https://localhost:8080/",
          "height": 1000
        },
        "collapsed": true,
        "id": "GozZ5B_xLNZi",
        "outputId": "107fce03-6c88-49bb-cef1-3aa825535ca7"
      },
      "outputs": [
        {
          "output_type": "display_data",
          "data": {
            "text/plain": [
              "<IPython.core.display.HTML object>"
            ],
            "text/html": [
              "Tracking run with wandb version 0.20.1"
            ]
          },
          "metadata": {}
        },
        {
          "output_type": "display_data",
          "data": {
            "text/plain": [
              "<IPython.core.display.HTML object>"
            ],
            "text/html": [
              "Run data is saved locally in <code>/content/wandb/run-20250707_143414-zz7ku2ir</code>"
            ]
          },
          "metadata": {}
        },
        {
          "output_type": "display_data",
          "data": {
            "text/plain": [
              "<IPython.core.display.HTML object>"
            ],
            "text/html": [
              "Syncing run <strong><a href='https://wandb.ai/quanghuy71847-ton-duc-thang-university/huggingface/runs/zz7ku2ir' target=\"_blank\">batch_32_3e-5_label_vol_train_0.1_last_chance</a></strong> to <a href='https://wandb.ai/quanghuy71847-ton-duc-thang-university/huggingface' target=\"_blank\">Weights & Biases</a> (<a href='https://wandb.me/developer-guide' target=\"_blank\">docs</a>)<br>"
            ]
          },
          "metadata": {}
        },
        {
          "output_type": "display_data",
          "data": {
            "text/plain": [
              "<IPython.core.display.HTML object>"
            ],
            "text/html": [
              " View project at <a href='https://wandb.ai/quanghuy71847-ton-duc-thang-university/huggingface' target=\"_blank\">https://wandb.ai/quanghuy71847-ton-duc-thang-university/huggingface</a>"
            ]
          },
          "metadata": {}
        },
        {
          "output_type": "display_data",
          "data": {
            "text/plain": [
              "<IPython.core.display.HTML object>"
            ],
            "text/html": [
              " View run at <a href='https://wandb.ai/quanghuy71847-ton-duc-thang-university/huggingface/runs/zz7ku2ir' target=\"_blank\">https://wandb.ai/quanghuy71847-ton-duc-thang-university/huggingface/runs/zz7ku2ir</a>"
            ]
          },
          "metadata": {}
        },
        {
          "output_type": "display_data",
          "data": {
            "text/plain": [
              "<IPython.core.display.HTML object>"
            ],
            "text/html": [
              "\n",
              "    <div>\n",
              "      \n",
              "      <progress value='500' max='1035' style='width:300px; height:20px; vertical-align: middle;'></progress>\n",
              "      [ 500/1035 03:53 < 04:11, 2.13 it/s, Epoch 1/3]\n",
              "    </div>\n",
              "    <table border=\"1\" class=\"dataframe\">\n",
              "  <thead>\n",
              " <tr style=\"text-align: left;\">\n",
              "      <th>Step</th>\n",
              "      <th>Training Loss</th>\n",
              "      <th>Validation Loss</th>\n",
              "      <th>Accuracy</th>\n",
              "      <th>Precision Weighted</th>\n",
              "      <th>Recall Weighted</th>\n",
              "      <th>F1 Weighted</th>\n",
              "      <th>F1 Macro</th>\n",
              "      <th>F1 Positive</th>\n",
              "      <th>F1 Negative</th>\n",
              "      <th>F1 Neutral</th>\n",
              "    </tr>\n",
              "  </thead>\n",
              "  <tbody>\n",
              "    <tr>\n",
              "      <td>100</td>\n",
              "      <td>1.035500</td>\n",
              "      <td>1.092983</td>\n",
              "      <td>0.395039</td>\n",
              "      <td>0.457394</td>\n",
              "      <td>0.395039</td>\n",
              "      <td>0.380744</td>\n",
              "      <td>0.377646</td>\n",
              "      <td>0.386899</td>\n",
              "      <td>0.301736</td>\n",
              "      <td>0.444304</td>\n",
              "    </tr>\n",
              "    <tr>\n",
              "      <td>200</td>\n",
              "      <td>1.043700</td>\n",
              "      <td>1.040320</td>\n",
              "      <td>0.450091</td>\n",
              "      <td>0.434311</td>\n",
              "      <td>0.450091</td>\n",
              "      <td>0.416560</td>\n",
              "      <td>0.406112</td>\n",
              "      <td>0.559392</td>\n",
              "      <td>0.473230</td>\n",
              "      <td>0.185714</td>\n",
              "    </tr>\n",
              "    <tr>\n",
              "      <td>300</td>\n",
              "      <td>1.017800</td>\n",
              "      <td>1.033810</td>\n",
              "      <td>0.444041</td>\n",
              "      <td>0.484762</td>\n",
              "      <td>0.444041</td>\n",
              "      <td>0.433612</td>\n",
              "      <td>0.420979</td>\n",
              "      <td>0.532418</td>\n",
              "      <td>0.306502</td>\n",
              "      <td>0.424018</td>\n",
              "    </tr>\n",
              "    <tr>\n",
              "      <td>400</td>\n",
              "      <td>1.016300</td>\n",
              "      <td>1.044247</td>\n",
              "      <td>0.448881</td>\n",
              "      <td>0.476068</td>\n",
              "      <td>0.448881</td>\n",
              "      <td>0.453743</td>\n",
              "      <td>0.449875</td>\n",
              "      <td>0.500000</td>\n",
              "      <td>0.457198</td>\n",
              "      <td>0.392427</td>\n",
              "    </tr>\n",
              "    <tr>\n",
              "      <td>500</td>\n",
              "      <td>1.015300</td>\n",
              "      <td>1.030117</td>\n",
              "      <td>0.441016</td>\n",
              "      <td>0.492603</td>\n",
              "      <td>0.441016</td>\n",
              "      <td>0.427319</td>\n",
              "      <td>0.414794</td>\n",
              "      <td>0.519048</td>\n",
              "      <td>0.284800</td>\n",
              "      <td>0.440535</td>\n",
              "    </tr>\n",
              "  </tbody>\n",
              "</table><p>"
            ]
          },
          "metadata": {}
        },
        {
          "output_type": "display_data",
          "data": {
            "text/plain": [
              "<Figure size 600x500 with 2 Axes>"
            ],
            "image/png": "[encoded data removed]"
          },
          "metadata": {}
        },
        {
          "output_type": "display_data",
          "data": {
            "text/plain": [
              "<Figure size 600x500 with 2 Axes>"
            ],
            "image/png": "[encoded data removed]"
          },
          "metadata": {}
        },
        {
          "output_type": "display_data",
          "data": {
            "text/plain": [
              "<Figure size 600x500 with 2 Axes>"
            ],
            "image/png": "[encoded data removed]"
          },
          "metadata": {}
        },
        {
          "output_type": "display_data",
          "data": {
            "text/plain": [
              "<Figure size 600x500 with 2 Axes>"
            ],
            "image/png": "[encoded data removed]"
          },
          "metadata": {}
        },
        {
          "output_type": "display_data",
          "data": {
            "text/plain": [
              "<Figure size 600x500 with 2 Axes>"
            ],
            "image/png": "[encoded data removed]"
          },
          "metadata": {}
        },
        {
          "output_type": "display_data",
          "data": {
            "text/plain": [
              "<IPython.core.display.HTML object>"
            ],
            "text/html": []
          },
          "metadata": {}
        },
        {
          "output_type": "display_data",
          "data": {
            "text/plain": [
              "<IPython.core.display.HTML object>"
            ],
            "text/html": [
              "<br>    <style><br>        .wandb-row {<br>            display: flex;<br>            flex-direction: row;<br>            flex-wrap: wrap;<br>            justify-content: flex-start;<br>            width: 100%;<br>        }<br>        .wandb-col {<br>            display: flex;<br>            flex-direction: column;<br>            flex-basis: 100%;<br>            flex: 1;<br>            padding: 10px;<br>        }<br>    </style><br><div class=\"wandb-row\"><div class=\"wandb-col\"><h3>Run history:</h3><br/><table class=\"wandb\"><tr><td>eval/accuracy</td><td>▁█▇█▇</td></tr><tr><td>eval/f1_macro</td><td>▁▄▅█▅</td></tr><tr><td>eval/f1_negative</td><td>▂█▂▇▁</td></tr><tr><td>eval/f1_neutral</td><td>█▁▇▇█</td></tr><tr><td>eval/f1_positive</td><td>▁█▇▆▆</td></tr><tr><td>eval/f1_weighted</td><td>▁▄▆█▅</td></tr><tr><td>eval/loss</td><td>█▂▁▃▁</td></tr><tr><td>eval/precision_weighted</td><td>▄▁▇▆█</td></tr><tr><td>eval/recall_weighted</td><td>▁█▇█▇</td></tr><tr><td>eval/runtime</td><td>█▁▃▅▃</td></tr><tr><td>eval/samples_per_second</td><td>▁█▆▄▆</td></tr><tr><td>eval/steps_per_second</td><td>▁█▆▄▅</td></tr><tr><td>train/epoch</td><td>▁▁▃▃▄▄▆▆███</td></tr><tr><td>train/global_step</td><td>▁▁▃▃▅▅▆▆███</td></tr><tr><td>train/grad_norm</td><td>▄█▃▁▁</td></tr><tr><td>train/learning_rate</td><td>█▆▅▃▁</td></tr><tr><td>train/loss</td><td>▆█▂▁▁</td></tr></table><br/></div><div class=\"wandb-col\"><h3>Run summary:</h3><br/><table class=\"wandb\"><tr><td>eval/accuracy</td><td>0.44102</td></tr><tr><td>eval/f1_macro</td><td>0.41479</td></tr><tr><td>eval/f1_negative</td><td>0.2848</td></tr><tr><td>eval/f1_neutral</td><td>0.44053</td></tr><tr><td>eval/f1_positive</td><td>0.51905</td></tr><tr><td>eval/f1_weighted</td><td>0.42732</td></tr><tr><td>eval/loss</td><td>1.03012</td></tr><tr><td>eval/precision_weighted</td><td>0.4926</td></tr><tr><td>eval/recall_weighted</td><td>0.44102</td></tr><tr><td>eval/runtime</td><td>5.9603</td></tr><tr><td>eval/samples_per_second</td><td>277.335</td></tr><tr><td>eval/steps_per_second</td><td>8.724</td></tr><tr><td>total_flos</td><td>2103591774735360.0</td></tr><tr><td>train/epoch</td><td>1.44928</td></tr><tr><td>train/global_step</td><td>500</td></tr><tr><td>train/grad_norm</td><td>3.54056</td></tr><tr><td>train/learning_rate</td><td>2e-05</td></tr><tr><td>train/loss</td><td>1.0153</td></tr><tr><td>train_loss</td><td>1.02573</td></tr><tr><td>train_runtime</td><td>235.3651</td></tr><tr><td>train_samples_per_second</td><td>140.59</td></tr><tr><td>train_steps_per_second</td><td>4.397</td></tr></table><br/></div></div>"
            ]
          },
          "metadata": {}
        },
        {
          "output_type": "display_data",
          "data": {
            "text/plain": [
              "<IPython.core.display.HTML object>"
            ],
            "text/html": [
              " View run <strong style=\"color:#cdcd00\">batch_32_3e-5_label_vol_train_0.1_last_chance</strong> at: <a href='https://wandb.ai/quanghuy71847-ton-duc-thang-university/huggingface/runs/zz7ku2ir' target=\"_blank\">https://wandb.ai/quanghuy71847-ton-duc-thang-university/huggingface/runs/zz7ku2ir</a><br> View project at: <a href='https://wandb.ai/quanghuy71847-ton-duc-thang-university/huggingface' target=\"_blank\">https://wandb.ai/quanghuy71847-ton-duc-thang-university/huggingface</a><br>Synced 5 W&B file(s), 0 media file(s), 0 artifact file(s) and 0 other file(s)"
            ]
          },
          "metadata": {}
        },
        {
          "output_type": "display_data",
          "data": {
            "text/plain": [
              "<IPython.core.display.HTML object>"
            ],
            "text/html": [
              "Find logs at: <code>./wandb/run-20250707_143414-zz7ku2ir/logs</code>"
            ]
          },
          "metadata": {}
        }
      ],
      "source": [
        "from transformers import TrainingArguments, Trainer, DataCollatorWithPadding, EarlyStoppingCallback\n",
        "data_collator = DataCollatorWithPadding(tokenizer=tokenizer)\n",
        "\n",
        "trainer = Trainer(\n",
        "  model=model,\n",
        "  args=training_args,\n",
        "  train_dataset=tokenized_splits[\"train\"],\n",
        "  eval_dataset=tokenized_splits[\"validation\"],\n",
        "  compute_metrics=compute_metrics,\n",
        "  callbacks=[EarlyStoppingCallback(early_stopping_patience=3)],\n",
        "  data_collator=data_collator\n",
        ")\n",
        "\n",
        "trainer.train()\n",
        "\n",
        "wandb.finish()"
      ]
    },
    {
      "cell_type": "markdown",
      "metadata": {
        "id": "e2c49a53"
      },
      "source": [
        "## 3.8. Lưu mô hình đã huấn luyện"
      ]
    },
    {
      "cell_type": "code",
      "execution_count": 45,
      "metadata": {
        "colab": {
          "base_uri": "https://localhost:8080/"
        },
        "id": "13c11b9d",
        "outputId": "0f2c79a7-fcc8-44c2-a162-3b844fe9e8c0"
      },
      "outputs": [
        {
          "output_type": "execute_result",
          "data": {
            "text/plain": [
              "('/content/drive/MyDrive/phobert_news_sentiment_analysis/phobert-sentiment-model_v44444/tokenizer_config.json',\n",
              " '/content/drive/MyDrive/phobert_news_sentiment_analysis/phobert-sentiment-model_v44444/special_tokens_map.json',\n",
              " '/content/drive/MyDrive/phobert_news_sentiment_analysis/phobert-sentiment-model_v44444/vocab.txt',\n",
              " '/content/drive/MyDrive/phobert_news_sentiment_analysis/phobert-sentiment-model_v44444/bpe.codes',\n",
              " '/content/drive/MyDrive/phobert_news_sentiment_analysis/phobert-sentiment-model_v44444/added_tokens.json')"
            ]
          },
          "metadata": {},
          "execution_count": 45
        }
      ],
      "source": [
        "trainer.save_model(project_path + \"/phobert-sentiment-model_v555\")\n",
        "tokenizer.save_pretrained(project_path + \"/phobert-sentiment-model_v555\")"
      ]
    },
    {
      "cell_type": "markdown",
      "metadata": {
        "id": "ace7e057"
      },
      "source": [
        "# 4. Đánh giá mô hình"
      ]
    },
    {
      "cell_type": "code",
      "execution_count": null,
      "metadata": {
        "colab": {
          "base_uri": "https://localhost:8080/",
          "height": 1000
        },
        "id": "bc0adb31",
        "outputId": "69b5f566-31ed-4700-e0ae-7df0c1017ac6"
      },
      "outputs": [
        {
          "output_type": "display_data",
          "data": {
            "text/plain": [
              "<IPython.core.display.HTML object>"
            ],
            "text/html": [
              "Tracking run with wandb version 0.20.1"
            ]
          },
          "metadata": {}
        },
        {
          "output_type": "display_data",
          "data": {
            "text/plain": [
              "<IPython.core.display.HTML object>"
            ],
            "text/html": [
              "Run data is saved locally in <code>/content/wandb/run-20250707_083507-1hlu9a3v</code>"
            ]
          },
          "metadata": {}
        },
        {
          "output_type": "display_data",
          "data": {
            "text/plain": [
              "<IPython.core.display.HTML object>"
            ],
            "text/html": [
              "Syncing run <strong><a href='https://wandb.ai/quanghuy71847-ton-duc-thang-university/phobert_news_sentiment_analysis/runs/1hlu9a3v' target=\"_blank\">batch_64_3e-5_label_vol_train_0.5_pos_20k_neu_16k</a></strong> to <a href='https://wandb.ai/quanghuy71847-ton-duc-thang-university/phobert_news_sentiment_analysis' target=\"_blank\">Weights & Biases</a> (<a href='https://wandb.me/developer-guide' target=\"_blank\">docs</a>)<br>"
            ]
          },
          "metadata": {}
        },
        {
          "output_type": "display_data",
          "data": {
            "text/plain": [
              "<IPython.core.display.HTML object>"
            ],
            "text/html": [
              " View project at <a href='https://wandb.ai/quanghuy71847-ton-duc-thang-university/phobert_news_sentiment_analysis' target=\"_blank\">https://wandb.ai/quanghuy71847-ton-duc-thang-university/phobert_news_sentiment_analysis</a>"
            ]
          },
          "metadata": {}
        },
        {
          "output_type": "display_data",
          "data": {
            "text/plain": [
              "<IPython.core.display.HTML object>"
            ],
            "text/html": [
              " View run at <a href='https://wandb.ai/quanghuy71847-ton-duc-thang-university/phobert_news_sentiment_analysis/runs/1hlu9a3v' target=\"_blank\">https://wandb.ai/quanghuy71847-ton-duc-thang-university/phobert_news_sentiment_analysis/runs/1hlu9a3v</a>"
            ]
          },
          "metadata": {}
        },
        {
          "output_type": "display_data",
          "data": {
            "text/plain": [
              "<IPython.core.display.HTML object>"
            ],
            "text/html": [
              "\n",
              "    <div>\n",
              "      \n",
              "      <progress value='1034' max='1034' style='width:300px; height:20px; vertical-align: middle;'></progress>\n",
              "      [1034/1034 03:29]\n",
              "    </div>\n",
              "    "
            ]
          },
          "metadata": {}
        },
        {
          "output_type": "display_data",
          "data": {
            "text/plain": [
              "<Figure size 600x500 with 2 Axes>"
            ],
            "image/png": "[encoded data removed]"
          },
          "metadata": {}
        },
        {
          "output_type": "stream",
          "name": "stdout",
          "text": [
            "Kết quả đánh giá trên tập Test:\n",
            "{'eval_loss': 1.0963106155395508, 'eval_accuracy': 0.48503320073207995, 'eval_precision_weighted': 0.48183761197220254, 'eval_recall_weighted': 0.48503320073207995, 'eval_f1_weighted': 0.48295994895440525, 'eval_f1_macro': 0.479360137888828, 'eval_f1_positive': 0.5565884266790612, 'eval_f1_negative': 0.4815111088173819, 'eval_f1_neutral': 0.39998087817004085, 'eval_runtime': 209.5212, 'eval_samples_per_second': 315.543, 'eval_steps_per_second': 4.935, 'epoch': 3.0}\n"
          ]
        },
        {
          "output_type": "display_data",
          "data": {
            "text/plain": [
              "<IPython.core.display.HTML object>"
            ],
            "text/html": []
          },
          "metadata": {}
        },
        {
          "output_type": "display_data",
          "data": {
            "text/plain": [
              "<IPython.core.display.HTML object>"
            ],
            "text/html": [
              "<br>    <style><br>        .wandb-row {<br>            display: flex;<br>            flex-direction: row;<br>            flex-wrap: wrap;<br>            justify-content: flex-start;<br>            width: 100%;<br>        }<br>        .wandb-col {<br>            display: flex;<br>            flex-direction: column;<br>            flex-basis: 100%;<br>            flex: 1;<br>            padding: 10px;<br>        }<br>    </style><br><div class=\"wandb-row\"><div class=\"wandb-col\"><h3>Run history:</h3><br/><table class=\"wandb\"><tr><td>eval/accuracy</td><td>▁</td></tr><tr><td>eval/f1_macro</td><td>▁</td></tr><tr><td>eval/f1_negative</td><td>▁</td></tr><tr><td>eval/f1_neutral</td><td>▁</td></tr><tr><td>eval/f1_positive</td><td>▁</td></tr><tr><td>eval/f1_weighted</td><td>▁</td></tr><tr><td>eval/loss</td><td>▁</td></tr><tr><td>eval/precision_weighted</td><td>▁</td></tr><tr><td>eval/recall_weighted</td><td>▁</td></tr><tr><td>eval/runtime</td><td>▁</td></tr><tr><td>eval/samples_per_second</td><td>▁</td></tr><tr><td>eval/steps_per_second</td><td>▁</td></tr><tr><td>train/epoch</td><td>▁</td></tr><tr><td>train/global_step</td><td>▁</td></tr></table><br/></div><div class=\"wandb-col\"><h3>Run summary:</h3><br/><table class=\"wandb\"><tr><td>eval/accuracy</td><td>0.48503</td></tr><tr><td>eval/f1_macro</td><td>0.47936</td></tr><tr><td>eval/f1_negative</td><td>0.48151</td></tr><tr><td>eval/f1_neutral</td><td>0.39998</td></tr><tr><td>eval/f1_positive</td><td>0.55659</td></tr><tr><td>eval/f1_weighted</td><td>0.48296</td></tr><tr><td>eval/loss</td><td>1.09631</td></tr><tr><td>eval/precision_weighted</td><td>0.48184</td></tr><tr><td>eval/recall_weighted</td><td>0.48503</td></tr><tr><td>eval/runtime</td><td>209.5212</td></tr><tr><td>eval/samples_per_second</td><td>315.543</td></tr><tr><td>eval/steps_per_second</td><td>4.935</td></tr><tr><td>train/epoch</td><td>3</td></tr><tr><td>train/global_step</td><td>2466</td></tr></table><br/></div></div>"
            ]
          },
          "metadata": {}
        },
        {
          "output_type": "display_data",
          "data": {
            "text/plain": [
              "<IPython.core.display.HTML object>"
            ],
            "text/html": [
              " View run <strong style=\"color:#cdcd00\">batch_64_3e-5_label_vol_train_0.5_pos_20k_neu_16k</strong> at: <a href='https://wandb.ai/quanghuy71847-ton-duc-thang-university/phobert_news_sentiment_analysis/runs/1hlu9a3v' target=\"_blank\">https://wandb.ai/quanghuy71847-ton-duc-thang-university/phobert_news_sentiment_analysis/runs/1hlu9a3v</a><br> View project at: <a href='https://wandb.ai/quanghuy71847-ton-duc-thang-university/phobert_news_sentiment_analysis' target=\"_blank\">https://wandb.ai/quanghuy71847-ton-duc-thang-university/phobert_news_sentiment_analysis</a><br>Synced 5 W&B file(s), 0 media file(s), 0 artifact file(s) and 0 other file(s)"
            ]
          },
          "metadata": {}
        },
        {
          "output_type": "display_data",
          "data": {
            "text/plain": [
              "<IPython.core.display.HTML object>"
            ],
            "text/html": [
              "Find logs at: <code>./wandb/run-20250707_083507-1hlu9a3v/logs</code>"
            ]
          },
          "metadata": {}
        }
      ],
      "source": [
        "import wandb\n",
        "\n",
        "wandb.init(project=\"phobert_news_sentiment_analysis\",\n",
        "           name=\"batch_64_3e-5_label_vol_train_0.5_pos_20k_neu_16k\")\n",
        "\n",
        "test_results = trainer.evaluate(tokenized_splits[\"test\"])\n",
        "\n",
        "print(\"Kết quả đánh giá trên tập Test:\")\n",
        "print(test_results)\n",
        "\n",
        "wandb.finish()"
      ]
    },
    {
      "cell_type": "markdown",
      "metadata": {
        "id": "LuZbL35tLZ47"
      },
      "source": [
        "# 5. Sử dụng"
      ]
    },
    {
      "cell_type": "markdown",
      "metadata": {
        "id": "878a2704"
      },
      "source": [
        "## 5.1. Tải mô hình và sử dụng để dự đoán"
      ]
    },
    {
      "cell_type": "code",
      "execution_count": null,
      "metadata": {
        "id": "86aa6abd"
      },
      "outputs": [],
      "source": [
        "from transformers import AutoModelForSequenceClassification, AutoTokenizer\n",
        "import torch\n",
        "\n",
        "model_path = project_path + \"/phobert-sentiment-model\"\n",
        "\n",
        "loaded_tokenizer = AutoTokenizer.from_pretrained(model_path)\n",
        "loaded_model = AutoModelForSequenceClassification.from_pretrained(model_path)\n",
        "\n",
        "loaded_model.eval()\n",
        "if torch.cuda.is_available():\n",
        "    loaded_model.to(\"cuda\")\n",
        "    device = torch.device(\"cuda\")\n",
        "else:\n",
        "    device = torch.device(\"cpu\")"
      ]
    },
    {
      "cell_type": "markdown",
      "metadata": {
        "id": "a6e9fb76"
      },
      "source": [
        "## 5.2. Hàm dự đoán cảm xúc"
      ]
    },
    {
      "cell_type": "code",
      "execution_count": null,
      "metadata": {
        "id": "b8d2125d"
      },
      "outputs": [],
      "source": [
        "def predict_sentiment(text, tokenizer, model, device, max_len=256):\n",
        "    encoding = tokenizer(\n",
        "        text,\n",
        "        truncation=True,\n",
        "        padding=\"max_length\",\n",
        "        max_length=max_len,\n",
        "        return_attention_mask=True,\n",
        "        return_token_type_ids=True,\n",
        "        return_tensors=\"pt\"\n",
        "    )\n",
        "\n",
        "    input_ids = encoding[\"input_ids\"].to(device)\n",
        "    attention_mask = encoding[\"attention_mask\"].to(device)\n",
        "    token_type_ids = encoding[\"token_type_ids\"].to(device)\n",
        "\n",
        "    with torch.no_grad():\n",
        "        outputs = model(\n",
        "            input_ids=input_ids,\n",
        "            attention_mask=attention_mask,\n",
        "            token_type_ids=token_type_ids\n",
        "        )\n",
        "\n",
        "    logits = outputs.logits\n",
        "    probabilities = torch.softmax(logits, dim=1)\n",
        "\n",
        "    predicted_label_id = torch.argmax(probabilities, dim=1).item()\n",
        "\n",
        "    label_map = {0: \"pos\", 1: \"nega\", 2: \"neu\"}\n",
        "    predicted_label = label_map[predicted_label_id]\n",
        "\n",
        "    return predicted_label, probabilities[0].tolist()"
      ]
    },
    {
      "cell_type": "markdown",
      "metadata": {
        "id": "ccc897cf"
      },
      "source": [
        "## 5.3. Ví dụ sử dụng"
      ]
    },
    {
      "cell_type": "code",
      "execution_count": null,
      "metadata": {
        "colab": {
          "base_uri": "https://localhost:8080/"
        },
        "id": "95aa038e",
        "outputId": "08fd66dd-9ae4-40d8-f63a-815d9e86beae"
      },
      "outputs": [
        {
          "output_type": "stream",
          "name": "stdout",
          "text": [
            "Văn bản: 'Thị_trường gặp khủng_hoảng đại suy_thoái'\n",
            "Cảm xúc dự đoán: nega\n",
            "Xác suất cho từng lớp (Tích cực, Tiêu cực, Trung tính): [0.30327993631362915, 0.5268771648406982, 0.1698428839445114]\n",
            "\n",
            "Văn bản: 'Thị_trường đi lên mạnh_mẽ, nhóm ngành dầu_khí tăng cao đỉnh_điểm'\n",
            "Cảm xúc dự đoán: pos\n",
            "Xác suất cho từng lớp (Tích cực, Tiêu cực, Trung tính): [0.7656041383743286, 0.101288802921772, 0.13310708105564117]\n",
            "\n",
            "Văn bản: 'Thị_trường đi ngang, nhà đầu tư rút vốn'\n",
            "Cảm xúc dự đoán: nega\n",
            "Xác suất cho từng lớp (Tích cực, Tiêu cực, Trung tính): [0.33041393756866455, 0.37771904468536377, 0.29186704754829407]\n",
            "\n",
            "Văn bản: 'Theo sau là nhóm cổ_phiếu dầu_khí và dịch_vụ tiêu_dùng . Cổ_phiếu thực_phẩm tăng mạnh nhất trong phiên hôm_nay , với MSN tăng 3,5% , HAG tăng 1,6% , VNM tăng 3,6% , SAB tăng 0,6% , VHC tăng 3,2% . Theo sau là nhóm cổ_phiếu dầu_khí và dịch_vụ tiêu_dùng.'\n",
            "Cảm xúc dự đoán: pos\n",
            "Xác suất cho từng lớp (Tích cực, Tiêu cực, Trung tính): [0.7531614899635315, 0.02470616064965725, 0.22213231027126312]\n",
            "\n",
            "Văn bản: 'Thị_trường bình_thường, không thay_đổi'\n",
            "Cảm xúc dự đoán: neu\n",
            "Xác suất cho từng lớp (Tích cực, Tiêu cực, Trung tính): [0.3487023115158081, 0.22722108662128448, 0.4240766763687134]\n"
          ]
        }
      ],
      "source": [
        "sample_text = \"Thị_trường gặp khủng_hoảng đại suy_thoái\"\n",
        "predicted_label, probabilities = predict_sentiment(sample_text, loaded_tokenizer, loaded_model, device)\n",
        "\n",
        "print(f\"Văn bản: '{sample_text}'\")\n",
        "print(f\"Cảm xúc dự đoán: {predicted_label}\")\n",
        "print(f\"Xác suất cho từng lớp (Tích cực, Tiêu cực, Trung tính): {probabilities}\")\n",
        "\n",
        "sample_text_2 = \"Thị_trường đi lên mạnh_mẽ, nhóm ngành dầu_khí tăng cao đỉnh_điểm\"\n",
        "predicted_label_2, probabilities_2 = predict_sentiment(sample_text_2, loaded_tokenizer, loaded_model, device)\n",
        "\n",
        "print(f\"\\nVăn bản: '{sample_text_2}'\")\n",
        "print(f\"Cảm xúc dự đoán: {predicted_label_2}\")\n",
        "print(f\"Xác suất cho từng lớp (Tích cực, Tiêu cực, Trung tính): {probabilities_2}\")\n",
        "\n",
        "sample_text_3 = \"Thị_trường đi ngang, nhà đầu tư rút vốn\"\n",
        "predicted_label_3, probabilities_3 = predict_sentiment(sample_text_3, loaded_tokenizer, loaded_model, device)\n",
        "\n",
        "print(f\"\\nVăn bản: '{sample_text_3}'\")\n",
        "print(f\"Cảm xúc dự đoán: {predicted_label_3}\")\n",
        "print(f\"Xác suất cho từng lớp (Tích cực, Tiêu cực, Trung tính): {probabilities_3}\")\n",
        "\n",
        "\n",
        "# Test bằng data huấn luyện\n",
        "sample_text_4 = \"Theo sau là nhóm cổ_phiếu dầu_khí và dịch_vụ tiêu_dùng . Cổ_phiếu thực_phẩm tăng mạnh nhất trong phiên hôm_nay , với MSN tăng 3,5% , HAG tăng 1,6% , VNM tăng 3,6% , SAB tăng 0,6% , VHC tăng 3,2% . Theo sau là nhóm cổ_phiếu dầu_khí và dịch_vụ tiêu_dùng.\"\n",
        "predicted_label_4, probabilities_4 = predict_sentiment(sample_text_4, loaded_tokenizer, loaded_model, device)\n",
        "\n",
        "print(f\"\\nVăn bản: '{sample_text_4}'\")\n",
        "print(f\"Cảm xúc dự đoán: {predicted_label_4}\")\n",
        "print(f\"Xác suất cho từng lớp (Tích cực, Tiêu cực, Trung tính): {probabilities_4}\")\n",
        "\n",
        "sample_text_5 = \"Thị_trường bình_thường, không thay_đổi\"\n",
        "predicted_label_5, probabilities_5 = predict_sentiment(sample_text_5, loaded_tokenizer, loaded_model, device)\n",
        "\n",
        "print(f\"\\nVăn bản: '{sample_text_5}'\")\n",
        "print(f\"Cảm xúc dự đoán: {predicted_label_5}\")\n",
        "print(f\"Xác suất cho từng lớp (Tích cực, Tiêu cực, Trung tính): {probabilities_5}\")"
      ]
    },
    {
      "cell_type": "markdown",
      "metadata": {
        "id": "_M3zUPNwu71t"
      },
      "source": [
        "# Thông tin tác giả\n",
        "\n",
        "- Tên: Quang Huy (Victor) Nguyen\n",
        "- Email: quanghuy71847@gmail.com / 523h0140@student.tdtu.edu.vn\n",
        "- Tổ chức: Trường Đại Học Tôn Đức Thắng - Khoa Công Nghệ Thông Tin - Chuyên ngành Khoa Học Máy Tính\n",
        "- Bản quyền: © 2025 Quang Huy (Victor) Nguyen. Tất cả quyền được bảo lưu."
      ]
    },
    {
      "cell_type": "code",
      "source": [
        "project_path = \"/content/drive/MyDrive/phobert_news_sentiment_analysis\"\n",
        "os.makedirs(project_path, exist_ok=True)\n",
        "\n",
        "data_path = os.path.join(project_path, \"data/labeled/dataset.csv\")\n",
        "df = pd.read_csv(data_path)"
      ],
      "metadata": {
        "id": "U0LW1dvALWAg"
      },
      "execution_count": null,
      "outputs": []
    },
    {
      "cell_type": "code",
      "source": [
        "import pandas as pd\n",
        "from transformers import AutoModelForSequenceClassification, AutoTokenizer\n",
        "import torch\n",
        "\n",
        "# --- 1. Thiết lập các biến và đường dẫn ---\n",
        "# Đảm bảo biến project_path đã được định nghĩa từ các cell trước\n",
        "# ví dụ: project_path = \"/content/drive/MyDrive/phobert_news_sentiment_analysis\"\n",
        "model_path = project_path + \"/phobert-sentiment-model_v2\"\n",
        "\n",
        "# --- 2. Tải model và tokenizer đã được huấn luyện ---\n",
        "try:\n",
        "    loaded_tokenizer = AutoTokenizer.from_pretrained(model_path)\n",
        "    loaded_model = AutoModelForSequenceClassification.from_pretrained(model_path)\n",
        "    print(\"Tải model và tokenizer thành công!\")\n",
        "except Exception as e:\n",
        "    print(f\"Lỗi: Không thể tải model. Hãy chắc chắn đường dẫn '{model_path}' là chính xác. Lỗi chi tiết: {e}\")\n",
        "    # Dừng thực thi nếu không tải được model\n",
        "    exit()\n",
        "\n",
        "# --- 3. Thiết lập phần cứng (GPU hoặc CPU) ---\n",
        "loaded_model.eval()\n",
        "if torch.cuda.is_available():\n",
        "    device = torch.device(\"cuda\")\n",
        "    loaded_model.to(\"cuda\")\n",
        "    print(\"Sử dụng GPU để dự đoán.\")\n",
        "else:\n",
        "    device = torch.device(\"cpu\")\n",
        "    print(\"Sử dụng CPU để dự đoán.\")\n",
        "\n",
        "\n",
        "# --- 4. Định nghĩa lại hàm dự đoán (giống như trong notebook của bạn) ---\n",
        "def predict_sentiment(text, tokenizer, model, device, max_len=256):\n",
        "    encoding = tokenizer(\n",
        "        text,\n",
        "        truncation=True,\n",
        "        padding=\"max_length\",\n",
        "        max_length=max_len,\n",
        "        return_attention_mask=True,\n",
        "        return_token_type_ids=True,\n",
        "        return_tensors=\"pt\"\n",
        "    )\n",
        "\n",
        "    input_ids = encoding[\"input_ids\"].to(device)\n",
        "    attention_mask = encoding[\"attention_mask\"].to(device)\n",
        "    token_type_ids = encoding[\"token_type_ids\"].to(device)\n",
        "\n",
        "    with torch.no_grad():\n",
        "        outputs = model(\n",
        "            input_ids=input_ids,\n",
        "            attention_mask=attention_mask,\n",
        "            token_type_ids=token_type_ids\n",
        "        )\n",
        "\n",
        "    logits = outputs.logits\n",
        "    probabilities = torch.softmax(logits, dim=1).squeeze().tolist()\n",
        "\n",
        "    predicted_label_id = torch.argmax(torch.tensor(probabilities)).item()\n",
        "\n",
        "    label_map = {0: \"Tích cực\", 1: \"Tiêu cực\", 2: \"Trung tính\"}\n",
        "    predicted_label = label_map[predicted_label_id]\n",
        "\n",
        "    return predicted_label, probabilities[0], probabilities[1], probabilities[2]\n",
        "\n",
        "\n",
        "# --- 5. Tải file VCB.csv và thực hiện dự đoán ---\n",
        "try:\n",
        "    data_path_test = os.path.join(project_path, \"data/VCB.csv\")\n",
        "    df_vcb = pd.read_csv(data_path_test)\n",
        "    print(\"\\nTải file VCB.csv thành công. Bắt đầu dự đoán...\")\n",
        "\n",
        "    # Áp dụng hàm dự đoán cho cột 'context_segmented'\n",
        "    predictions = df_vcb['context_segmented'].apply(\n",
        "        lambda x: predict_sentiment(x, loaded_tokenizer, loaded_model, device)\n",
        "    )\n",
        "\n",
        "    # Thêm kết quả vào các cột mới trong DataFrame\n",
        "    df_vcb[['predicted_label', 'prob_positive', 'prob_negative', 'prob_neutral']] = pd.DataFrame(\n",
        "        predictions.tolist(), index=df_vcb.index\n",
        "    )\n",
        "\n",
        "    # --- 6. Lưu kết quả ra file CSV mới ---\n",
        "    output_path = 'VCB_predicted.csv'\n",
        "    df_vcb.to_csv(output_path, index=False, encoding='utf-8-sig')\n",
        "\n",
        "    print(f\"\\nDự đoán hoàn tất! Kết quả đã được lưu vào file: {output_path}\")\n",
        "    print(\"\\nXem trước 5 dòng đầu của kết quả:\")\n",
        "    print(df_vcb.head())\n",
        "\n",
        "except FileNotFoundError:\n",
        "    print(\"\\nLỗi: Không tìm thấy file 'VCB.csv'. Vui lòng tải file lên Colab hoặc cung cấp đúng đường dẫn.\")\n",
        "except Exception as e:\n",
        "    print(f\"Đã xảy ra lỗi trong quá trình xử lý: {e}\")"
      ],
      "metadata": {
        "colab": {
          "base_uri": "https://localhost:8080/"
        },
        "id": "AkDDivlkLNUQ",
        "outputId": "1dec61b1-10de-4515-e69b-5702cf299c5d"
      },
      "execution_count": null,
      "outputs": [
        {
          "output_type": "stream",
          "name": "stdout",
          "text": [
            "Tải model và tokenizer thành công!\n",
            "Sử dụng GPU để dự đoán.\n",
            "\n",
            "Tải file VCB.csv thành công. Bắt đầu dự đoán...\n",
            "\n",
            "Dự đoán hoàn tất! Kết quả đã được lưu vào file: VCB_predicted.csv\n",
            "\n",
            "Xem trước 5 dòng đầu của kết quả:\n",
            "  publish_date                                  context_segmented  \\\n",
            "0   2025-06-26  Dù_vậy , Vingroup và Vinhomes vẫn tiếp_tục nằm...   \n",
            "1   2025-06-18  Cổ_phiếu một ngân_hàng lớn như VCB của Vietcom...   \n",
            "2   2025-06-18  Do_đó , còn nhiều dư_địa với các cổ_phiếu ngân...   \n",
            "3   2025-06-17  Tiếp sau đó , cổ_phiếu VIC của Vingroup cũng đ...   \n",
            "4   2025-06-08  Khối ngoại mua ròng chủ_yếu MBB ( +89,4 triệu ...   \n",
            "\n",
            "  predicted_label  prob_positive  prob_negative  prob_neutral  \n",
            "0      Trung tính       0.223874       0.328465      0.447661  \n",
            "1        Tích cực       0.699311       0.071698      0.228991  \n",
            "2        Tích cực       0.468624       0.063617      0.467759  \n",
            "3        Tích cực       0.959292       0.010730      0.029979  \n",
            "4        Tiêu cực       0.241654       0.438752      0.319594  \n"
          ]
        }
      ]
    }
  ],
  "metadata": {
    "accelerator": "GPU",
    "colab": {
      "collapsed_sections": [
        "Wetbh6hmLlP2",
        "IkjCuWCks_SO",
        "RmE-7rtaHOzT",
        "BgCuBkqNHel3"
      ],
      "gpuType": "T4",
      "machine_shape": "hm",
      "provenance": [],
      "toc_visible": true
    },
    "kernelspec": {
      "display_name": "Python 3",
      "name": "python3"
    },
    "language_info": {
      "name": "python"
    },
    "widgets": {
      "application/vnd.jupyter.widget-state+json": {
        "d968dd8af04b4fe99728811b54032990": {
          "model_module": "@jupyter-widgets/controls",
          "model_name": "HBoxModel",
          "model_module_version": "1.5.0",
          "state": {
            "_dom_classes": [],
            "_model_module": "@jupyter-widgets/controls",
            "_model_module_version": "1.5.0",
            "_model_name": "HBoxModel",
            "_view_count": null,
            "_view_module": "@jupyter-widgets/controls",
            "_view_module_version": "1.5.0",
            "_view_name": "HBoxView",
            "box_style": "",
            "children": [
              "IPY_MODEL_9264f756235b48a7861191d3774b1ee9",
              "IPY_MODEL_d2dcc34ee00a4a50929231ef1ab20936",
              "IPY_MODEL_3e3619734baa45af8044a799f34a6a52"
            ],
            "layout": "IPY_MODEL_21f6a69472644ce1b725527d60dec56c"
          }
        },
        "9264f756235b48a7861191d3774b1ee9": {
          "model_module": "@jupyter-widgets/controls",
          "model_name": "HTMLModel",
          "model_module_version": "1.5.0",
          "state": {
            "_dom_classes": [],
            "_model_module": "@jupyter-widgets/controls",
            "_model_module_version": "1.5.0",
            "_model_name": "HTMLModel",
            "_view_count": null,
            "_view_module": "@jupyter-widgets/controls",
            "_view_module_version": "1.5.0",
            "_view_name": "HTMLView",
            "description": "",
            "description_tooltip": null,
            "layout": "IPY_MODEL_504b3ec6f3914a0581bcff0a9ce9655e",
            "placeholder": "​",
            "style": "IPY_MODEL_7e435d5c908b4800b9476138b036e5e5",
            "value": "Filter: 100%"
          }
        },
        "d2dcc34ee00a4a50929231ef1ab20936": {
          "model_module": "@jupyter-widgets/controls",
          "model_name": "FloatProgressModel",
          "model_module_version": "1.5.0",
          "state": {
            "_dom_classes": [],
            "_model_module": "@jupyter-widgets/controls",
            "_model_module_version": "1.5.0",
            "_model_name": "FloatProgressModel",
            "_view_count": null,
            "_view_module": "@jupyter-widgets/controls",
            "_view_module_version": "1.5.0",
            "_view_name": "ProgressView",
            "bar_style": "success",
            "description": "",
            "description_tooltip": null,
            "layout": "IPY_MODEL_cfe8f4600fd2431fab5e56a17369e905",
            "max": 11569,
            "min": 0,
            "orientation": "horizontal",
            "style": "IPY_MODEL_3c1df787bbe5473ea8bd1b2d2a25ae57",
            "value": 11569
          }
        },
        "3e3619734baa45af8044a799f34a6a52": {
          "model_module": "@jupyter-widgets/controls",
          "model_name": "HTMLModel",
          "model_module_version": "1.5.0",
          "state": {
            "_dom_classes": [],
            "_model_module": "@jupyter-widgets/controls",
            "_model_module_version": "1.5.0",
            "_model_name": "HTMLModel",
            "_view_count": null,
            "_view_module": "@jupyter-widgets/controls",
            "_view_module_version": "1.5.0",
            "_view_name": "HTMLView",
            "description": "",
            "description_tooltip": null,
            "layout": "IPY_MODEL_a4e9bda01c3d481482c34ecb8df464e1",
            "placeholder": "​",
            "style": "IPY_MODEL_c83e870643ea49838a2ce507d9e7779d",
            "value": " 11569/11569 [00:00&lt;00:00, 30388.65 examples/s]"
          }
        },
        "21f6a69472644ce1b725527d60dec56c": {
          "model_module": "@jupyter-widgets/base",
          "model_name": "LayoutModel",
          "model_module_version": "1.2.0",
          "state": {
            "_model_module": "@jupyter-widgets/base",
            "_model_module_version": "1.2.0",
            "_model_name": "LayoutModel",
            "_view_count": null,
            "_view_module": "@jupyter-widgets/base",
            "_view_module_version": "1.2.0",
            "_view_name": "LayoutView",
            "align_content": null,
            "align_items": null,
            "align_self": null,
            "border": null,
            "bottom": null,
            "display": null,
            "flex": null,
            "flex_flow": null,
            "grid_area": null,
            "grid_auto_columns": null,
            "grid_auto_flow": null,
            "grid_auto_rows": null,
            "grid_column": null,
            "grid_gap": null,
            "grid_row": null,
            "grid_template_areas": null,
            "grid_template_columns": null,
            "grid_template_rows": null,
            "height": null,
            "justify_content": null,
            "justify_items": null,
            "left": null,
            "margin": null,
            "max_height": null,
            "max_width": null,
            "min_height": null,
            "min_width": null,
            "object_fit": null,
            "object_position": null,
            "order": null,
            "overflow": null,
            "overflow_x": null,
            "overflow_y": null,
            "padding": null,
            "right": null,
            "top": null,
            "visibility": null,
            "width": null
          }
        },
        "504b3ec6f3914a0581bcff0a9ce9655e": {
          "model_module": "@jupyter-widgets/base",
          "model_name": "LayoutModel",
          "model_module_version": "1.2.0",
          "state": {
            "_model_module": "@jupyter-widgets/base",
            "_model_module_version": "1.2.0",
            "_model_name": "LayoutModel",
            "_view_count": null,
            "_view_module": "@jupyter-widgets/base",
            "_view_module_version": "1.2.0",
            "_view_name": "LayoutView",
            "align_content": null,
            "align_items": null,
            "align_self": null,
            "border": null,
            "bottom": null,
            "display": null,
            "flex": null,
            "flex_flow": null,
            "grid_area": null,
            "grid_auto_columns": null,
            "grid_auto_flow": null,
            "grid_auto_rows": null,
            "grid_column": null,
            "grid_gap": null,
            "grid_row": null,
            "grid_template_areas": null,
            "grid_template_columns": null,
            "grid_template_rows": null,
            "height": null,
            "justify_content": null,
            "justify_items": null,
            "left": null,
            "margin": null,
            "max_height": null,
            "max_width": null,
            "min_height": null,
            "min_width": null,
            "object_fit": null,
            "object_position": null,
            "order": null,
            "overflow": null,
            "overflow_x": null,
            "overflow_y": null,
            "padding": null,
            "right": null,
            "top": null,
            "visibility": null,
            "width": null
          }
        },
        "7e435d5c908b4800b9476138b036e5e5": {
          "model_module": "@jupyter-widgets/controls",
          "model_name": "DescriptionStyleModel",
          "model_module_version": "1.5.0",
          "state": {
            "_model_module": "@jupyter-widgets/controls",
            "_model_module_version": "1.5.0",
            "_model_name": "DescriptionStyleModel",
            "_view_count": null,
            "_view_module": "@jupyter-widgets/base",
            "_view_module_version": "1.2.0",
            "_view_name": "StyleView",
            "description_width": ""
          }
        },
        "cfe8f4600fd2431fab5e56a17369e905": {
          "model_module": "@jupyter-widgets/base",
          "model_name": "LayoutModel",
          "model_module_version": "1.2.0",
          "state": {
            "_model_module": "@jupyter-widgets/base",
            "_model_module_version": "1.2.0",
            "_model_name": "LayoutModel",
            "_view_count": null,
            "_view_module": "@jupyter-widgets/base",
            "_view_module_version": "1.2.0",
            "_view_name": "LayoutView",
            "align_content": null,
            "align_items": null,
            "align_self": null,
            "border": null,
            "bottom": null,
            "display": null,
            "flex": null,
            "flex_flow": null,
            "grid_area": null,
            "grid_auto_columns": null,
            "grid_auto_flow": null,
            "grid_auto_rows": null,
            "grid_column": null,
            "grid_gap": null,
            "grid_row": null,
            "grid_template_areas": null,
            "grid_template_columns": null,
            "grid_template_rows": null,
            "height": null,
            "justify_content": null,
            "justify_items": null,
            "left": null,
            "margin": null,
            "max_height": null,
            "max_width": null,
            "min_height": null,
            "min_width": null,
            "object_fit": null,
            "object_position": null,
            "order": null,
            "overflow": null,
            "overflow_x": null,
            "overflow_y": null,
            "padding": null,
            "right": null,
            "top": null,
            "visibility": null,
            "width": null
          }
        },
        "3c1df787bbe5473ea8bd1b2d2a25ae57": {
          "model_module": "@jupyter-widgets/controls",
          "model_name": "ProgressStyleModel",
          "model_module_version": "1.5.0",
          "state": {
            "_model_module": "@jupyter-widgets/controls",
            "_model_module_version": "1.5.0",
            "_model_name": "ProgressStyleModel",
            "_view_count": null,
            "_view_module": "@jupyter-widgets/base",
            "_view_module_version": "1.2.0",
            "_view_name": "StyleView",
            "bar_color": null,
            "description_width": ""
          }
        },
        "a4e9bda01c3d481482c34ecb8df464e1": {
          "model_module": "@jupyter-widgets/base",
          "model_name": "LayoutModel",
          "model_module_version": "1.2.0",
          "state": {
            "_model_module": "@jupyter-widgets/base",
            "_model_module_version": "1.2.0",
            "_model_name": "LayoutModel",
            "_view_count": null,
            "_view_module": "@jupyter-widgets/base",
            "_view_module_version": "1.2.0",
            "_view_name": "LayoutView",
            "align_content": null,
            "align_items": null,
            "align_self": null,
            "border": null,
            "bottom": null,
            "display": null,
            "flex": null,
            "flex_flow": null,
            "grid_area": null,
            "grid_auto_columns": null,
            "grid_auto_flow": null,
            "grid_auto_rows": null,
            "grid_column": null,
            "grid_gap": null,
            "grid_row": null,
            "grid_template_areas": null,
            "grid_template_columns": null,
            "grid_template_rows": null,
            "height": null,
            "justify_content": null,
            "justify_items": null,
            "left": null,
            "margin": null,
            "max_height": null,
            "max_width": null,
            "min_height": null,
            "min_width": null,
            "object_fit": null,
            "object_position": null,
            "order": null,
            "overflow": null,
            "overflow_x": null,
            "overflow_y": null,
            "padding": null,
            "right": null,
            "top": null,
            "visibility": null,
            "width": null
          }
        },
        "c83e870643ea49838a2ce507d9e7779d": {
          "model_module": "@jupyter-widgets/controls",
          "model_name": "DescriptionStyleModel",
          "model_module_version": "1.5.0",
          "state": {
            "_model_module": "@jupyter-widgets/controls",
            "_model_module_version": "1.5.0",
            "_model_name": "DescriptionStyleModel",
            "_view_count": null,
            "_view_module": "@jupyter-widgets/base",
            "_view_module_version": "1.2.0",
            "_view_name": "StyleView",
            "description_width": ""
          }
        },
        "e675f189ba68426ba050b9d22af36fcc": {
          "model_module": "@jupyter-widgets/controls",
          "model_name": "HBoxModel",
          "model_module_version": "1.5.0",
          "state": {
            "_dom_classes": [],
            "_model_module": "@jupyter-widgets/controls",
            "_model_module_version": "1.5.0",
            "_model_name": "HBoxModel",
            "_view_count": null,
            "_view_module": "@jupyter-widgets/controls",
            "_view_module_version": "1.5.0",
            "_view_name": "HBoxView",
            "box_style": "",
            "children": [
              "IPY_MODEL_4f2a4b1af9984a6fab66a764b4c54b6d",
              "IPY_MODEL_491aa23bc5864a368061cda1d006f3cd",
              "IPY_MODEL_f59876b1dea24eb790a31d7df0495022"
            ],
            "layout": "IPY_MODEL_f942e8d910c448b7b746e7fc8dadb91d"
          }
        },
        "4f2a4b1af9984a6fab66a764b4c54b6d": {
          "model_module": "@jupyter-widgets/controls",
          "model_name": "HTMLModel",
          "model_module_version": "1.5.0",
          "state": {
            "_dom_classes": [],
            "_model_module": "@jupyter-widgets/controls",
            "_model_module_version": "1.5.0",
            "_model_name": "HTMLModel",
            "_view_count": null,
            "_view_module": "@jupyter-widgets/controls",
            "_view_module_version": "1.5.0",
            "_view_name": "HTMLView",
            "description": "",
            "description_tooltip": null,
            "layout": "IPY_MODEL_81d1869bc03f46d8ae8ed601b4c39e73",
            "placeholder": "​",
            "style": "IPY_MODEL_62e4cb14d3444760818c3f9ebc46f1e1",
            "value": "Filter: 100%"
          }
        },
        "491aa23bc5864a368061cda1d006f3cd": {
          "model_module": "@jupyter-widgets/controls",
          "model_name": "FloatProgressModel",
          "model_module_version": "1.5.0",
          "state": {
            "_dom_classes": [],
            "_model_module": "@jupyter-widgets/controls",
            "_model_module_version": "1.5.0",
            "_model_name": "FloatProgressModel",
            "_view_count": null,
            "_view_module": "@jupyter-widgets/controls",
            "_view_module_version": "1.5.0",
            "_view_name": "ProgressView",
            "bar_style": "success",
            "description": "",
            "description_tooltip": null,
            "layout": "IPY_MODEL_ff9d1e5cd78d4cbd9a1cae22e1894c21",
            "max": 11569,
            "min": 0,
            "orientation": "horizontal",
            "style": "IPY_MODEL_f11e2253f8164e4a87f857aa2502fce8",
            "value": 11569
          }
        },
        "f59876b1dea24eb790a31d7df0495022": {
          "model_module": "@jupyter-widgets/controls",
          "model_name": "HTMLModel",
          "model_module_version": "1.5.0",
          "state": {
            "_dom_classes": [],
            "_model_module": "@jupyter-widgets/controls",
            "_model_module_version": "1.5.0",
            "_model_name": "HTMLModel",
            "_view_count": null,
            "_view_module": "@jupyter-widgets/controls",
            "_view_module_version": "1.5.0",
            "_view_name": "HTMLView",
            "description": "",
            "description_tooltip": null,
            "layout": "IPY_MODEL_d02971f090e74196bc06691c45521b70",
            "placeholder": "​",
            "style": "IPY_MODEL_82c40e79166a4d8db9d4eed2bab3e74a",
            "value": " 11569/11569 [00:00&lt;00:00, 29098.74 examples/s]"
          }
        },
        "f942e8d910c448b7b746e7fc8dadb91d": {
          "model_module": "@jupyter-widgets/base",
          "model_name": "LayoutModel",
          "model_module_version": "1.2.0",
          "state": {
            "_model_module": "@jupyter-widgets/base",
            "_model_module_version": "1.2.0",
            "_model_name": "LayoutModel",
            "_view_count": null,
            "_view_module": "@jupyter-widgets/base",
            "_view_module_version": "1.2.0",
            "_view_name": "LayoutView",
            "align_content": null,
            "align_items": null,
            "align_self": null,
            "border": null,
            "bottom": null,
            "display": null,
            "flex": null,
            "flex_flow": null,
            "grid_area": null,
            "grid_auto_columns": null,
            "grid_auto_flow": null,
            "grid_auto_rows": null,
            "grid_column": null,
            "grid_gap": null,
            "grid_row": null,
            "grid_template_areas": null,
            "grid_template_columns": null,
            "grid_template_rows": null,
            "height": null,
            "justify_content": null,
            "justify_items": null,
            "left": null,
            "margin": null,
            "max_height": null,
            "max_width": null,
            "min_height": null,
            "min_width": null,
            "object_fit": null,
            "object_position": null,
            "order": null,
            "overflow": null,
            "overflow_x": null,
            "overflow_y": null,
            "padding": null,
            "right": null,
            "top": null,
            "visibility": null,
            "width": null
          }
        },
        "81d1869bc03f46d8ae8ed601b4c39e73": {
          "model_module": "@jupyter-widgets/base",
          "model_name": "LayoutModel",
          "model_module_version": "1.2.0",
          "state": {
            "_model_module": "@jupyter-widgets/base",
            "_model_module_version": "1.2.0",
            "_model_name": "LayoutModel",
            "_view_count": null,
            "_view_module": "@jupyter-widgets/base",
            "_view_module_version": "1.2.0",
            "_view_name": "LayoutView",
            "align_content": null,
            "align_items": null,
            "align_self": null,
            "border": null,
            "bottom": null,
            "display": null,
            "flex": null,
            "flex_flow": null,
            "grid_area": null,
            "grid_auto_columns": null,
            "grid_auto_flow": null,
            "grid_auto_rows": null,
            "grid_column": null,
            "grid_gap": null,
            "grid_row": null,
            "grid_template_areas": null,
            "grid_template_columns": null,
            "grid_template_rows": null,
            "height": null,
            "justify_content": null,
            "justify_items": null,
            "left": null,
            "margin": null,
            "max_height": null,
            "max_width": null,
            "min_height": null,
            "min_width": null,
            "object_fit": null,
            "object_position": null,
            "order": null,
            "overflow": null,
            "overflow_x": null,
            "overflow_y": null,
            "padding": null,
            "right": null,
            "top": null,
            "visibility": null,
            "width": null
          }
        },
        "62e4cb14d3444760818c3f9ebc46f1e1": {
          "model_module": "@jupyter-widgets/controls",
          "model_name": "DescriptionStyleModel",
          "model_module_version": "1.5.0",
          "state": {
            "_model_module": "@jupyter-widgets/controls",
            "_model_module_version": "1.5.0",
            "_model_name": "DescriptionStyleModel",
            "_view_count": null,
            "_view_module": "@jupyter-widgets/base",
            "_view_module_version": "1.2.0",
            "_view_name": "StyleView",
            "description_width": ""
          }
        },
        "ff9d1e5cd78d4cbd9a1cae22e1894c21": {
          "model_module": "@jupyter-widgets/base",
          "model_name": "LayoutModel",
          "model_module_version": "1.2.0",
          "state": {
            "_model_module": "@jupyter-widgets/base",
            "_model_module_version": "1.2.0",
            "_model_name": "LayoutModel",
            "_view_count": null,
            "_view_module": "@jupyter-widgets/base",
            "_view_module_version": "1.2.0",
            "_view_name": "LayoutView",
            "align_content": null,
            "align_items": null,
            "align_self": null,
            "border": null,
            "bottom": null,
            "display": null,
            "flex": null,
            "flex_flow": null,
            "grid_area": null,
            "grid_auto_columns": null,
            "grid_auto_flow": null,
            "grid_auto_rows": null,
            "grid_column": null,
            "grid_gap": null,
            "grid_row": null,
            "grid_template_areas": null,
            "grid_template_columns": null,
            "grid_template_rows": null,
            "height": null,
            "justify_content": null,
            "justify_items": null,
            "left": null,
            "margin": null,
            "max_height": null,
            "max_width": null,
            "min_height": null,
            "min_width": null,
            "object_fit": null,
            "object_position": null,
            "order": null,
            "overflow": null,
            "overflow_x": null,
            "overflow_y": null,
            "padding": null,
            "right": null,
            "top": null,
            "visibility": null,
            "width": null
          }
        },
        "f11e2253f8164e4a87f857aa2502fce8": {
          "model_module": "@jupyter-widgets/controls",
          "model_name": "ProgressStyleModel",
          "model_module_version": "1.5.0",
          "state": {
            "_model_module": "@jupyter-widgets/controls",
            "_model_module_version": "1.5.0",
            "_model_name": "ProgressStyleModel",
            "_view_count": null,
            "_view_module": "@jupyter-widgets/base",
            "_view_module_version": "1.2.0",
            "_view_name": "StyleView",
            "bar_color": null,
            "description_width": ""
          }
        },
        "d02971f090e74196bc06691c45521b70": {
          "model_module": "@jupyter-widgets/base",
          "model_name": "LayoutModel",
          "model_module_version": "1.2.0",
          "state": {
            "_model_module": "@jupyter-widgets/base",
            "_model_module_version": "1.2.0",
            "_model_name": "LayoutModel",
            "_view_count": null,
            "_view_module": "@jupyter-widgets/base",
            "_view_module_version": "1.2.0",
            "_view_name": "LayoutView",
            "align_content": null,
            "align_items": null,
            "align_self": null,
            "border": null,
            "bottom": null,
            "display": null,
            "flex": null,
            "flex_flow": null,
            "grid_area": null,
            "grid_auto_columns": null,
            "grid_auto_flow": null,
            "grid_auto_rows": null,
            "grid_column": null,
            "grid_gap": null,
            "grid_row": null,
            "grid_template_areas": null,
            "grid_template_columns": null,
            "grid_template_rows": null,
            "height": null,
            "justify_content": null,
            "justify_items": null,
            "left": null,
            "margin": null,
            "max_height": null,
            "max_width": null,
            "min_height": null,
            "min_width": null,
            "object_fit": null,
            "object_position": null,
            "order": null,
            "overflow": null,
            "overflow_x": null,
            "overflow_y": null,
            "padding": null,
            "right": null,
            "top": null,
            "visibility": null,
            "width": null
          }
        },
        "82c40e79166a4d8db9d4eed2bab3e74a": {
          "model_module": "@jupyter-widgets/controls",
          "model_name": "DescriptionStyleModel",
          "model_module_version": "1.5.0",
          "state": {
            "_model_module": "@jupyter-widgets/controls",
            "_model_module_version": "1.5.0",
            "_model_name": "DescriptionStyleModel",
            "_view_count": null,
            "_view_module": "@jupyter-widgets/base",
            "_view_module_version": "1.2.0",
            "_view_name": "StyleView",
            "description_width": ""
          }
        },
        "3f538a350128445da69a6f84dab4602d": {
          "model_module": "@jupyter-widgets/controls",
          "model_name": "HBoxModel",
          "model_module_version": "1.5.0",
          "state": {
            "_dom_classes": [],
            "_model_module": "@jupyter-widgets/controls",
            "_model_module_version": "1.5.0",
            "_model_name": "HBoxModel",
            "_view_count": null,
            "_view_module": "@jupyter-widgets/controls",
            "_view_module_version": "1.5.0",
            "_view_name": "HBoxView",
            "box_style": "",
            "children": [
              "IPY_MODEL_caebe8b9eae648b28a314fcea609894e",
              "IPY_MODEL_446901a972de48959261822c4044ca72",
              "IPY_MODEL_64a6d1a6832849a381f91f21ca82f4bd"
            ],
            "layout": "IPY_MODEL_294dd4c93d684f7dab75289f0616d5ca"
          }
        },
        "caebe8b9eae648b28a314fcea609894e": {
          "model_module": "@jupyter-widgets/controls",
          "model_name": "HTMLModel",
          "model_module_version": "1.5.0",
          "state": {
            "_dom_classes": [],
            "_model_module": "@jupyter-widgets/controls",
            "_model_module_version": "1.5.0",
            "_model_name": "HTMLModel",
            "_view_count": null,
            "_view_module": "@jupyter-widgets/controls",
            "_view_module_version": "1.5.0",
            "_view_name": "HTMLView",
            "description": "",
            "description_tooltip": null,
            "layout": "IPY_MODEL_0423a480e41c40a9950dfa8d67fae41b",
            "placeholder": "​",
            "style": "IPY_MODEL_c4ee79ba3db443f28d6586b3b0f1c502",
            "value": "Filter: 100%"
          }
        },
        "446901a972de48959261822c4044ca72": {
          "model_module": "@jupyter-widgets/controls",
          "model_name": "FloatProgressModel",
          "model_module_version": "1.5.0",
          "state": {
            "_dom_classes": [],
            "_model_module": "@jupyter-widgets/controls",
            "_model_module_version": "1.5.0",
            "_model_name": "FloatProgressModel",
            "_view_count": null,
            "_view_module": "@jupyter-widgets/controls",
            "_view_module_version": "1.5.0",
            "_view_name": "ProgressView",
            "bar_style": "success",
            "description": "",
            "description_tooltip": null,
            "layout": "IPY_MODEL_fb2c98a53592431f9cb9c1a3cec010b2",
            "max": 11569,
            "min": 0,
            "orientation": "horizontal",
            "style": "IPY_MODEL_6dd5cbfd44904529a5edb22e89e71fcb",
            "value": 11569
          }
        },
        "64a6d1a6832849a381f91f21ca82f4bd": {
          "model_module": "@jupyter-widgets/controls",
          "model_name": "HTMLModel",
          "model_module_version": "1.5.0",
          "state": {
            "_dom_classes": [],
            "_model_module": "@jupyter-widgets/controls",
            "_model_module_version": "1.5.0",
            "_model_name": "HTMLModel",
            "_view_count": null,
            "_view_module": "@jupyter-widgets/controls",
            "_view_module_version": "1.5.0",
            "_view_name": "HTMLView",
            "description": "",
            "description_tooltip": null,
            "layout": "IPY_MODEL_e8c9e815f741426ea9c3713e97e4f8b1",
            "placeholder": "​",
            "style": "IPY_MODEL_458973ba176a418bb65ce58af98b6e7d",
            "value": " 11569/11569 [00:00&lt;00:00, 28477.91 examples/s]"
          }
        },
        "294dd4c93d684f7dab75289f0616d5ca": {
          "model_module": "@jupyter-widgets/base",
          "model_name": "LayoutModel",
          "model_module_version": "1.2.0",
          "state": {
            "_model_module": "@jupyter-widgets/base",
            "_model_module_version": "1.2.0",
            "_model_name": "LayoutModel",
            "_view_count": null,
            "_view_module": "@jupyter-widgets/base",
            "_view_module_version": "1.2.0",
            "_view_name": "LayoutView",
            "align_content": null,
            "align_items": null,
            "align_self": null,
            "border": null,
            "bottom": null,
            "display": null,
            "flex": null,
            "flex_flow": null,
            "grid_area": null,
            "grid_auto_columns": null,
            "grid_auto_flow": null,
            "grid_auto_rows": null,
            "grid_column": null,
            "grid_gap": null,
            "grid_row": null,
            "grid_template_areas": null,
            "grid_template_columns": null,
            "grid_template_rows": null,
            "height": null,
            "justify_content": null,
            "justify_items": null,
            "left": null,
            "margin": null,
            "max_height": null,
            "max_width": null,
            "min_height": null,
            "min_width": null,
            "object_fit": null,
            "object_position": null,
            "order": null,
            "overflow": null,
            "overflow_x": null,
            "overflow_y": null,
            "padding": null,
            "right": null,
            "top": null,
            "visibility": null,
            "width": null
          }
        },
        "0423a480e41c40a9950dfa8d67fae41b": {
          "model_module": "@jupyter-widgets/base",
          "model_name": "LayoutModel",
          "model_module_version": "1.2.0",
          "state": {
            "_model_module": "@jupyter-widgets/base",
            "_model_module_version": "1.2.0",
            "_model_name": "LayoutModel",
            "_view_count": null,
            "_view_module": "@jupyter-widgets/base",
            "_view_module_version": "1.2.0",
            "_view_name": "LayoutView",
            "align_content": null,
            "align_items": null,
            "align_self": null,
            "border": null,
            "bottom": null,
            "display": null,
            "flex": null,
            "flex_flow": null,
            "grid_area": null,
            "grid_auto_columns": null,
            "grid_auto_flow": null,
            "grid_auto_rows": null,
            "grid_column": null,
            "grid_gap": null,
            "grid_row": null,
            "grid_template_areas": null,
            "grid_template_columns": null,
            "grid_template_rows": null,
            "height": null,
            "justify_content": null,
            "justify_items": null,
            "left": null,
            "margin": null,
            "max_height": null,
            "max_width": null,
            "min_height": null,
            "min_width": null,
            "object_fit": null,
            "object_position": null,
            "order": null,
            "overflow": null,
            "overflow_x": null,
            "overflow_y": null,
            "padding": null,
            "right": null,
            "top": null,
            "visibility": null,
            "width": null
          }
        },
        "c4ee79ba3db443f28d6586b3b0f1c502": {
          "model_module": "@jupyter-widgets/controls",
          "model_name": "DescriptionStyleModel",
          "model_module_version": "1.5.0",
          "state": {
            "_model_module": "@jupyter-widgets/controls",
            "_model_module_version": "1.5.0",
            "_model_name": "DescriptionStyleModel",
            "_view_count": null,
            "_view_module": "@jupyter-widgets/base",
            "_view_module_version": "1.2.0",
            "_view_name": "StyleView",
            "description_width": ""
          }
        },
        "fb2c98a53592431f9cb9c1a3cec010b2": {
          "model_module": "@jupyter-widgets/base",
          "model_name": "LayoutModel",
          "model_module_version": "1.2.0",
          "state": {
            "_model_module": "@jupyter-widgets/base",
            "_model_module_version": "1.2.0",
            "_model_name": "LayoutModel",
            "_view_count": null,
            "_view_module": "@jupyter-widgets/base",
            "_view_module_version": "1.2.0",
            "_view_name": "LayoutView",
            "align_content": null,
            "align_items": null,
            "align_self": null,
            "border": null,
            "bottom": null,
            "display": null,
            "flex": null,
            "flex_flow": null,
            "grid_area": null,
            "grid_auto_columns": null,
            "grid_auto_flow": null,
            "grid_auto_rows": null,
            "grid_column": null,
            "grid_gap": null,
            "grid_row": null,
            "grid_template_areas": null,
            "grid_template_columns": null,
            "grid_template_rows": null,
            "height": null,
            "justify_content": null,
            "justify_items": null,
            "left": null,
            "margin": null,
            "max_height": null,
            "max_width": null,
            "min_height": null,
            "min_width": null,
            "object_fit": null,
            "object_position": null,
            "order": null,
            "overflow": null,
            "overflow_x": null,
            "overflow_y": null,
            "padding": null,
            "right": null,
            "top": null,
            "visibility": null,
            "width": null
          }
        },
        "6dd5cbfd44904529a5edb22e89e71fcb": {
          "model_module": "@jupyter-widgets/controls",
          "model_name": "ProgressStyleModel",
          "model_module_version": "1.5.0",
          "state": {
            "_model_module": "@jupyter-widgets/controls",
            "_model_module_version": "1.5.0",
            "_model_name": "ProgressStyleModel",
            "_view_count": null,
            "_view_module": "@jupyter-widgets/base",
            "_view_module_version": "1.2.0",
            "_view_name": "StyleView",
            "bar_color": null,
            "description_width": ""
          }
        },
        "e8c9e815f741426ea9c3713e97e4f8b1": {
          "model_module": "@jupyter-widgets/base",
          "model_name": "LayoutModel",
          "model_module_version": "1.2.0",
          "state": {
            "_model_module": "@jupyter-widgets/base",
            "_model_module_version": "1.2.0",
            "_model_name": "LayoutModel",
            "_view_count": null,
            "_view_module": "@jupyter-widgets/base",
            "_view_module_version": "1.2.0",
            "_view_name": "LayoutView",
            "align_content": null,
            "align_items": null,
            "align_self": null,
            "border": null,
            "bottom": null,
            "display": null,
            "flex": null,
            "flex_flow": null,
            "grid_area": null,
            "grid_auto_columns": null,
            "grid_auto_flow": null,
            "grid_auto_rows": null,
            "grid_column": null,
            "grid_gap": null,
            "grid_row": null,
            "grid_template_areas": null,
            "grid_template_columns": null,
            "grid_template_rows": null,
            "height": null,
            "justify_content": null,
            "justify_items": null,
            "left": null,
            "margin": null,
            "max_height": null,
            "max_width": null,
            "min_height": null,
            "min_width": null,
            "object_fit": null,
            "object_position": null,
            "order": null,
            "overflow": null,
            "overflow_x": null,
            "overflow_y": null,
            "padding": null,
            "right": null,
            "top": null,
            "visibility": null,
            "width": null
          }
        },
        "458973ba176a418bb65ce58af98b6e7d": {
          "model_module": "@jupyter-widgets/controls",
          "model_name": "DescriptionStyleModel",
          "model_module_version": "1.5.0",
          "state": {
            "_model_module": "@jupyter-widgets/controls",
            "_model_module_version": "1.5.0",
            "_model_name": "DescriptionStyleModel",
            "_view_count": null,
            "_view_module": "@jupyter-widgets/base",
            "_view_module_version": "1.2.0",
            "_view_name": "StyleView",
            "description_width": ""
          }
        },
        "a0042319871044718c01d21379a3cfcd": {
          "model_module": "@jupyter-widgets/controls",
          "model_name": "HBoxModel",
          "model_module_version": "1.5.0",
          "state": {
            "_dom_classes": [],
            "_model_module": "@jupyter-widgets/controls",
            "_model_module_version": "1.5.0",
            "_model_name": "HBoxModel",
            "_view_count": null,
            "_view_module": "@jupyter-widgets/controls",
            "_view_module_version": "1.5.0",
            "_view_name": "HBoxView",
            "box_style": "",
            "children": [
              "IPY_MODEL_49ae83f542fd4861b2f51a96c8e59882",
              "IPY_MODEL_36a8b709500d4cfe88b8de893fc33899",
              "IPY_MODEL_ffdbb18eb4ad495a8bbd39d694a573fc"
            ],
            "layout": "IPY_MODEL_951aa2e6129d409d975f63f2fda8e407"
          }
        },
        "49ae83f542fd4861b2f51a96c8e59882": {
          "model_module": "@jupyter-widgets/controls",
          "model_name": "HTMLModel",
          "model_module_version": "1.5.0",
          "state": {
            "_dom_classes": [],
            "_model_module": "@jupyter-widgets/controls",
            "_model_module_version": "1.5.0",
            "_model_name": "HTMLModel",
            "_view_count": null,
            "_view_module": "@jupyter-widgets/controls",
            "_view_module_version": "1.5.0",
            "_view_name": "HTMLView",
            "description": "",
            "description_tooltip": null,
            "layout": "IPY_MODEL_7584641ca1ea40b9b79c579b3ffbfa4d",
            "placeholder": "​",
            "style": "IPY_MODEL_0a0ffd24f250457daf1fc255217ca354",
            "value": "vocab.txt: "
          }
        },
        "36a8b709500d4cfe88b8de893fc33899": {
          "model_module": "@jupyter-widgets/controls",
          "model_name": "FloatProgressModel",
          "model_module_version": "1.5.0",
          "state": {
            "_dom_classes": [],
            "_model_module": "@jupyter-widgets/controls",
            "_model_module_version": "1.5.0",
            "_model_name": "FloatProgressModel",
            "_view_count": null,
            "_view_module": "@jupyter-widgets/controls",
            "_view_module_version": "1.5.0",
            "_view_name": "ProgressView",
            "bar_style": "success",
            "description": "",
            "description_tooltip": null,
            "layout": "IPY_MODEL_05bf554e29e94331a3949daff82738c9",
            "max": 1,
            "min": 0,
            "orientation": "horizontal",
            "style": "IPY_MODEL_cd9eb2de24014b38b938276dfaf4e6bc",
            "value": 1
          }
        },
        "ffdbb18eb4ad495a8bbd39d694a573fc": {
          "model_module": "@jupyter-widgets/controls",
          "model_name": "HTMLModel",
          "model_module_version": "1.5.0",
          "state": {
            "_dom_classes": [],
            "_model_module": "@jupyter-widgets/controls",
            "_model_module_version": "1.5.0",
            "_model_name": "HTMLModel",
            "_view_count": null,
            "_view_module": "@jupyter-widgets/controls",
            "_view_module_version": "1.5.0",
            "_view_name": "HTMLView",
            "description": "",
            "description_tooltip": null,
            "layout": "IPY_MODEL_694426ec07c540898328b866edf8ddd0",
            "placeholder": "​",
            "style": "IPY_MODEL_930cacf284d54befb87a3477c13fab36",
            "value": " 895k/? [00:00&lt;00:00, 14.8MB/s]"
          }
        },
        "951aa2e6129d409d975f63f2fda8e407": {
          "model_module": "@jupyter-widgets/base",
          "model_name": "LayoutModel",
          "model_module_version": "1.2.0",
          "state": {
            "_model_module": "@jupyter-widgets/base",
            "_model_module_version": "1.2.0",
            "_model_name": "LayoutModel",
            "_view_count": null,
            "_view_module": "@jupyter-widgets/base",
            "_view_module_version": "1.2.0",
            "_view_name": "LayoutView",
            "align_content": null,
            "align_items": null,
            "align_self": null,
            "border": null,
            "bottom": null,
            "display": null,
            "flex": null,
            "flex_flow": null,
            "grid_area": null,
            "grid_auto_columns": null,
            "grid_auto_flow": null,
            "grid_auto_rows": null,
            "grid_column": null,
            "grid_gap": null,
            "grid_row": null,
            "grid_template_areas": null,
            "grid_template_columns": null,
            "grid_template_rows": null,
            "height": null,
            "justify_content": null,
            "justify_items": null,
            "left": null,
            "margin": null,
            "max_height": null,
            "max_width": null,
            "min_height": null,
            "min_width": null,
            "object_fit": null,
            "object_position": null,
            "order": null,
            "overflow": null,
            "overflow_x": null,
            "overflow_y": null,
            "padding": null,
            "right": null,
            "top": null,
            "visibility": null,
            "width": null
          }
        },
        "7584641ca1ea40b9b79c579b3ffbfa4d": {
          "model_module": "@jupyter-widgets/base",
          "model_name": "LayoutModel",
          "model_module_version": "1.2.0",
          "state": {
            "_model_module": "@jupyter-widgets/base",
            "_model_module_version": "1.2.0",
            "_model_name": "LayoutModel",
            "_view_count": null,
            "_view_module": "@jupyter-widgets/base",
            "_view_module_version": "1.2.0",
            "_view_name": "LayoutView",
            "align_content": null,
            "align_items": null,
            "align_self": null,
            "border": null,
            "bottom": null,
            "display": null,
            "flex": null,
            "flex_flow": null,
            "grid_area": null,
            "grid_auto_columns": null,
            "grid_auto_flow": null,
            "grid_auto_rows": null,
            "grid_column": null,
            "grid_gap": null,
            "grid_row": null,
            "grid_template_areas": null,
            "grid_template_columns": null,
            "grid_template_rows": null,
            "height": null,
            "justify_content": null,
            "justify_items": null,
            "left": null,
            "margin": null,
            "max_height": null,
            "max_width": null,
            "min_height": null,
            "min_width": null,
            "object_fit": null,
            "object_position": null,
            "order": null,
            "overflow": null,
            "overflow_x": null,
            "overflow_y": null,
            "padding": null,
            "right": null,
            "top": null,
            "visibility": null,
            "width": null
          }
        },
        "0a0ffd24f250457daf1fc255217ca354": {
          "model_module": "@jupyter-widgets/controls",
          "model_name": "DescriptionStyleModel",
          "model_module_version": "1.5.0",
          "state": {
            "_model_module": "@jupyter-widgets/controls",
            "_model_module_version": "1.5.0",
            "_model_name": "DescriptionStyleModel",
            "_view_count": null,
            "_view_module": "@jupyter-widgets/base",
            "_view_module_version": "1.2.0",
            "_view_name": "StyleView",
            "description_width": ""
          }
        },
        "05bf554e29e94331a3949daff82738c9": {
          "model_module": "@jupyter-widgets/base",
          "model_name": "LayoutModel",
          "model_module_version": "1.2.0",
          "state": {
            "_model_module": "@jupyter-widgets/base",
            "_model_module_version": "1.2.0",
            "_model_name": "LayoutModel",
            "_view_count": null,
            "_view_module": "@jupyter-widgets/base",
            "_view_module_version": "1.2.0",
            "_view_name": "LayoutView",
            "align_content": null,
            "align_items": null,
            "align_self": null,
            "border": null,
            "bottom": null,
            "display": null,
            "flex": null,
            "flex_flow": null,
            "grid_area": null,
            "grid_auto_columns": null,
            "grid_auto_flow": null,
            "grid_auto_rows": null,
            "grid_column": null,
            "grid_gap": null,
            "grid_row": null,
            "grid_template_areas": null,
            "grid_template_columns": null,
            "grid_template_rows": null,
            "height": null,
            "justify_content": null,
            "justify_items": null,
            "left": null,
            "margin": null,
            "max_height": null,
            "max_width": null,
            "min_height": null,
            "min_width": null,
            "object_fit": null,
            "object_position": null,
            "order": null,
            "overflow": null,
            "overflow_x": null,
            "overflow_y": null,
            "padding": null,
            "right": null,
            "top": null,
            "visibility": null,
            "width": "20px"
          }
        },
        "cd9eb2de24014b38b938276dfaf4e6bc": {
          "model_module": "@jupyter-widgets/controls",
          "model_name": "ProgressStyleModel",
          "model_module_version": "1.5.0",
          "state": {
            "_model_module": "@jupyter-widgets/controls",
            "_model_module_version": "1.5.0",
            "_model_name": "ProgressStyleModel",
            "_view_count": null,
            "_view_module": "@jupyter-widgets/base",
            "_view_module_version": "1.2.0",
            "_view_name": "StyleView",
            "bar_color": null,
            "description_width": ""
          }
        },
        "694426ec07c540898328b866edf8ddd0": {
          "model_module": "@jupyter-widgets/base",
          "model_name": "LayoutModel",
          "model_module_version": "1.2.0",
          "state": {
            "_model_module": "@jupyter-widgets/base",
            "_model_module_version": "1.2.0",
            "_model_name": "LayoutModel",
            "_view_count": null,
            "_view_module": "@jupyter-widgets/base",
            "_view_module_version": "1.2.0",
            "_view_name": "LayoutView",
            "align_content": null,
            "align_items": null,
            "align_self": null,
            "border": null,
            "bottom": null,
            "display": null,
            "flex": null,
            "flex_flow": null,
            "grid_area": null,
            "grid_auto_columns": null,
            "grid_auto_flow": null,
            "grid_auto_rows": null,
            "grid_column": null,
            "grid_gap": null,
            "grid_row": null,
            "grid_template_areas": null,
            "grid_template_columns": null,
            "grid_template_rows": null,
            "height": null,
            "justify_content": null,
            "justify_items": null,
            "left": null,
            "margin": null,
            "max_height": null,
            "max_width": null,
            "min_height": null,
            "min_width": null,
            "object_fit": null,
            "object_position": null,
            "order": null,
            "overflow": null,
            "overflow_x": null,
            "overflow_y": null,
            "padding": null,
            "right": null,
            "top": null,
            "visibility": null,
            "width": null
          }
        },
        "930cacf284d54befb87a3477c13fab36": {
          "model_module": "@jupyter-widgets/controls",
          "model_name": "DescriptionStyleModel",
          "model_module_version": "1.5.0",
          "state": {
            "_model_module": "@jupyter-widgets/controls",
            "_model_module_version": "1.5.0",
            "_model_name": "DescriptionStyleModel",
            "_view_count": null,
            "_view_module": "@jupyter-widgets/base",
            "_view_module_version": "1.2.0",
            "_view_name": "StyleView",
            "description_width": ""
          }
        },
        "5cf4e17e7c8c41799b511e97c1ae668c": {
          "model_module": "@jupyter-widgets/controls",
          "model_name": "HBoxModel",
          "model_module_version": "1.5.0",
          "state": {
            "_dom_classes": [],
            "_model_module": "@jupyter-widgets/controls",
            "_model_module_version": "1.5.0",
            "_model_name": "HBoxModel",
            "_view_count": null,
            "_view_module": "@jupyter-widgets/controls",
            "_view_module_version": "1.5.0",
            "_view_name": "HBoxView",
            "box_style": "",
            "children": [
              "IPY_MODEL_8f8c180c2fa7410cb8214d8678db8155",
              "IPY_MODEL_9a78289b015740488985224435e9e869",
              "IPY_MODEL_4d24a70270e04bfc8266eb37f8bfbbf9"
            ],
            "layout": "IPY_MODEL_68d821b6f739473599aa611524df50d4"
          }
        },
        "8f8c180c2fa7410cb8214d8678db8155": {
          "model_module": "@jupyter-widgets/controls",
          "model_name": "HTMLModel",
          "model_module_version": "1.5.0",
          "state": {
            "_dom_classes": [],
            "_model_module": "@jupyter-widgets/controls",
            "_model_module_version": "1.5.0",
            "_model_name": "HTMLModel",
            "_view_count": null,
            "_view_module": "@jupyter-widgets/controls",
            "_view_module_version": "1.5.0",
            "_view_name": "HTMLView",
            "description": "",
            "description_tooltip": null,
            "layout": "IPY_MODEL_92b5182151cd4d75970274161a24ff75",
            "placeholder": "​",
            "style": "IPY_MODEL_188cf0c0014f4e3eb3f6d694bee85d44",
            "value": "bpe.codes: "
          }
        },
        "9a78289b015740488985224435e9e869": {
          "model_module": "@jupyter-widgets/controls",
          "model_name": "FloatProgressModel",
          "model_module_version": "1.5.0",
          "state": {
            "_dom_classes": [],
            "_model_module": "@jupyter-widgets/controls",
            "_model_module_version": "1.5.0",
            "_model_name": "FloatProgressModel",
            "_view_count": null,
            "_view_module": "@jupyter-widgets/controls",
            "_view_module_version": "1.5.0",
            "_view_name": "ProgressView",
            "bar_style": "success",
            "description": "",
            "description_tooltip": null,
            "layout": "IPY_MODEL_be4c59f9d9f548509ea016d330400a27",
            "max": 1,
            "min": 0,
            "orientation": "horizontal",
            "style": "IPY_MODEL_6d75063b7f9f4ad0aeb6ea146b866c97",
            "value": 1
          }
        },
        "4d24a70270e04bfc8266eb37f8bfbbf9": {
          "model_module": "@jupyter-widgets/controls",
          "model_name": "HTMLModel",
          "model_module_version": "1.5.0",
          "state": {
            "_dom_classes": [],
            "_model_module": "@jupyter-widgets/controls",
            "_model_module_version": "1.5.0",
            "_model_name": "HTMLModel",
            "_view_count": null,
            "_view_module": "@jupyter-widgets/controls",
            "_view_module_version": "1.5.0",
            "_view_name": "HTMLView",
            "description": "",
            "description_tooltip": null,
            "layout": "IPY_MODEL_b01bcb392f684936a6dc8a931c0b8afa",
            "placeholder": "​",
            "style": "IPY_MODEL_16e0794a2cc14960819b0e978a8c1d18",
            "value": " 1.14M/? [00:00&lt;00:00, 35.9MB/s]"
          }
        },
        "68d821b6f739473599aa611524df50d4": {
          "model_module": "@jupyter-widgets/base",
          "model_name": "LayoutModel",
          "model_module_version": "1.2.0",
          "state": {
            "_model_module": "@jupyter-widgets/base",
            "_model_module_version": "1.2.0",
            "_model_name": "LayoutModel",
            "_view_count": null,
            "_view_module": "@jupyter-widgets/base",
            "_view_module_version": "1.2.0",
            "_view_name": "LayoutView",
            "align_content": null,
            "align_items": null,
            "align_self": null,
            "border": null,
            "bottom": null,
            "display": null,
            "flex": null,
            "flex_flow": null,
            "grid_area": null,
            "grid_auto_columns": null,
            "grid_auto_flow": null,
            "grid_auto_rows": null,
            "grid_column": null,
            "grid_gap": null,
            "grid_row": null,
            "grid_template_areas": null,
            "grid_template_columns": null,
            "grid_template_rows": null,
            "height": null,
            "justify_content": null,
            "justify_items": null,
            "left": null,
            "margin": null,
            "max_height": null,
            "max_width": null,
            "min_height": null,
            "min_width": null,
            "object_fit": null,
            "object_position": null,
            "order": null,
            "overflow": null,
            "overflow_x": null,
            "overflow_y": null,
            "padding": null,
            "right": null,
            "top": null,
            "visibility": null,
            "width": null
          }
        },
        "92b5182151cd4d75970274161a24ff75": {
          "model_module": "@jupyter-widgets/base",
          "model_name": "LayoutModel",
          "model_module_version": "1.2.0",
          "state": {
            "_model_module": "@jupyter-widgets/base",
            "_model_module_version": "1.2.0",
            "_model_name": "LayoutModel",
            "_view_count": null,
            "_view_module": "@jupyter-widgets/base",
            "_view_module_version": "1.2.0",
            "_view_name": "LayoutView",
            "align_content": null,
            "align_items": null,
            "align_self": null,
            "border": null,
            "bottom": null,
            "display": null,
            "flex": null,
            "flex_flow": null,
            "grid_area": null,
            "grid_auto_columns": null,
            "grid_auto_flow": null,
            "grid_auto_rows": null,
            "grid_column": null,
            "grid_gap": null,
            "grid_row": null,
            "grid_template_areas": null,
            "grid_template_columns": null,
            "grid_template_rows": null,
            "height": null,
            "justify_content": null,
            "justify_items": null,
            "left": null,
            "margin": null,
            "max_height": null,
            "max_width": null,
            "min_height": null,
            "min_width": null,
            "object_fit": null,
            "object_position": null,
            "order": null,
            "overflow": null,
            "overflow_x": null,
            "overflow_y": null,
            "padding": null,
            "right": null,
            "top": null,
            "visibility": null,
            "width": null
          }
        },
        "188cf0c0014f4e3eb3f6d694bee85d44": {
          "model_module": "@jupyter-widgets/controls",
          "model_name": "DescriptionStyleModel",
          "model_module_version": "1.5.0",
          "state": {
            "_model_module": "@jupyter-widgets/controls",
            "_model_module_version": "1.5.0",
            "_model_name": "DescriptionStyleModel",
            "_view_count": null,
            "_view_module": "@jupyter-widgets/base",
            "_view_module_version": "1.2.0",
            "_view_name": "StyleView",
            "description_width": ""
          }
        },
        "be4c59f9d9f548509ea016d330400a27": {
          "model_module": "@jupyter-widgets/base",
          "model_name": "LayoutModel",
          "model_module_version": "1.2.0",
          "state": {
            "_model_module": "@jupyter-widgets/base",
            "_model_module_version": "1.2.0",
            "_model_name": "LayoutModel",
            "_view_count": null,
            "_view_module": "@jupyter-widgets/base",
            "_view_module_version": "1.2.0",
            "_view_name": "LayoutView",
            "align_content": null,
            "align_items": null,
            "align_self": null,
            "border": null,
            "bottom": null,
            "display": null,
            "flex": null,
            "flex_flow": null,
            "grid_area": null,
            "grid_auto_columns": null,
            "grid_auto_flow": null,
            "grid_auto_rows": null,
            "grid_column": null,
            "grid_gap": null,
            "grid_row": null,
            "grid_template_areas": null,
            "grid_template_columns": null,
            "grid_template_rows": null,
            "height": null,
            "justify_content": null,
            "justify_items": null,
            "left": null,
            "margin": null,
            "max_height": null,
            "max_width": null,
            "min_height": null,
            "min_width": null,
            "object_fit": null,
            "object_position": null,
            "order": null,
            "overflow": null,
            "overflow_x": null,
            "overflow_y": null,
            "padding": null,
            "right": null,
            "top": null,
            "visibility": null,
            "width": "20px"
          }
        },
        "6d75063b7f9f4ad0aeb6ea146b866c97": {
          "model_module": "@jupyter-widgets/controls",
          "model_name": "ProgressStyleModel",
          "model_module_version": "1.5.0",
          "state": {
            "_model_module": "@jupyter-widgets/controls",
            "_model_module_version": "1.5.0",
            "_model_name": "ProgressStyleModel",
            "_view_count": null,
            "_view_module": "@jupyter-widgets/base",
            "_view_module_version": "1.2.0",
            "_view_name": "StyleView",
            "bar_color": null,
            "description_width": ""
          }
        },
        "b01bcb392f684936a6dc8a931c0b8afa": {
          "model_module": "@jupyter-widgets/base",
          "model_name": "LayoutModel",
          "model_module_version": "1.2.0",
          "state": {
            "_model_module": "@jupyter-widgets/base",
            "_model_module_version": "1.2.0",
            "_model_name": "LayoutModel",
            "_view_count": null,
            "_view_module": "@jupyter-widgets/base",
            "_view_module_version": "1.2.0",
            "_view_name": "LayoutView",
            "align_content": null,
            "align_items": null,
            "align_self": null,
            "border": null,
            "bottom": null,
            "display": null,
            "flex": null,
            "flex_flow": null,
            "grid_area": null,
            "grid_auto_columns": null,
            "grid_auto_flow": null,
            "grid_auto_rows": null,
            "grid_column": null,
            "grid_gap": null,
            "grid_row": null,
            "grid_template_areas": null,
            "grid_template_columns": null,
            "grid_template_rows": null,
            "height": null,
            "justify_content": null,
            "justify_items": null,
            "left": null,
            "margin": null,
            "max_height": null,
            "max_width": null,
            "min_height": null,
            "min_width": null,
            "object_fit": null,
            "object_position": null,
            "order": null,
            "overflow": null,
            "overflow_x": null,
            "overflow_y": null,
            "padding": null,
            "right": null,
            "top": null,
            "visibility": null,
            "width": null
          }
        },
        "16e0794a2cc14960819b0e978a8c1d18": {
          "model_module": "@jupyter-widgets/controls",
          "model_name": "DescriptionStyleModel",
          "model_module_version": "1.5.0",
          "state": {
            "_model_module": "@jupyter-widgets/controls",
            "_model_module_version": "1.5.0",
            "_model_name": "DescriptionStyleModel",
            "_view_count": null,
            "_view_module": "@jupyter-widgets/base",
            "_view_module_version": "1.2.0",
            "_view_name": "StyleView",
            "description_width": ""
          }
        },
        "95e7f91ce6804562872c1ef70c50ebe6": {
          "model_module": "@jupyter-widgets/controls",
          "model_name": "HBoxModel",
          "model_module_version": "1.5.0",
          "state": {
            "_dom_classes": [],
            "_model_module": "@jupyter-widgets/controls",
            "_model_module_version": "1.5.0",
            "_model_name": "HBoxModel",
            "_view_count": null,
            "_view_module": "@jupyter-widgets/controls",
            "_view_module_version": "1.5.0",
            "_view_name": "HBoxView",
            "box_style": "",
            "children": [
              "IPY_MODEL_e3429de7a7bd4d4b852e888fed7c9e87",
              "IPY_MODEL_796f53f7a1724a38b2cf7e90635e4836",
              "IPY_MODEL_a6b140b95f314ea592a6ce7377892c92"
            ],
            "layout": "IPY_MODEL_55f736aef9e049bf9d6331e519e3889d"
          }
        },
        "e3429de7a7bd4d4b852e888fed7c9e87": {
          "model_module": "@jupyter-widgets/controls",
          "model_name": "HTMLModel",
          "model_module_version": "1.5.0",
          "state": {
            "_dom_classes": [],
            "_model_module": "@jupyter-widgets/controls",
            "_model_module_version": "1.5.0",
            "_model_name": "HTMLModel",
            "_view_count": null,
            "_view_module": "@jupyter-widgets/controls",
            "_view_module_version": "1.5.0",
            "_view_name": "HTMLView",
            "description": "",
            "description_tooltip": null,
            "layout": "IPY_MODEL_b431189ae0484d30a3db3fe6867f5e91",
            "placeholder": "​",
            "style": "IPY_MODEL_93ccc2d669424c86bf834ba5e82caac3",
            "value": "tokenizer.json: "
          }
        },
        "796f53f7a1724a38b2cf7e90635e4836": {
          "model_module": "@jupyter-widgets/controls",
          "model_name": "FloatProgressModel",
          "model_module_version": "1.5.0",
          "state": {
            "_dom_classes": [],
            "_model_module": "@jupyter-widgets/controls",
            "_model_module_version": "1.5.0",
            "_model_name": "FloatProgressModel",
            "_view_count": null,
            "_view_module": "@jupyter-widgets/controls",
            "_view_module_version": "1.5.0",
            "_view_name": "ProgressView",
            "bar_style": "success",
            "description": "",
            "description_tooltip": null,
            "layout": "IPY_MODEL_ca36a094c99f4129a3f303ed378fdde8",
            "max": 1,
            "min": 0,
            "orientation": "horizontal",
            "style": "IPY_MODEL_212121c694cb4ef29bad63422fbdeebb",
            "value": 1
          }
        },
        "a6b140b95f314ea592a6ce7377892c92": {
          "model_module": "@jupyter-widgets/controls",
          "model_name": "HTMLModel",
          "model_module_version": "1.5.0",
          "state": {
            "_dom_classes": [],
            "_model_module": "@jupyter-widgets/controls",
            "_model_module_version": "1.5.0",
            "_model_name": "HTMLModel",
            "_view_count": null,
            "_view_module": "@jupyter-widgets/controls",
            "_view_module_version": "1.5.0",
            "_view_name": "HTMLView",
            "description": "",
            "description_tooltip": null,
            "layout": "IPY_MODEL_0d5d729d79c04a62a9c2f74a6c91d684",
            "placeholder": "​",
            "style": "IPY_MODEL_1e430422dbaf42678be44861b0477197",
            "value": " 3.13M/? [00:00&lt;00:00, 73.0MB/s]"
          }
        },
        "55f736aef9e049bf9d6331e519e3889d": {
          "model_module": "@jupyter-widgets/base",
          "model_name": "LayoutModel",
          "model_module_version": "1.2.0",
          "state": {
            "_model_module": "@jupyter-widgets/base",
            "_model_module_version": "1.2.0",
            "_model_name": "LayoutModel",
            "_view_count": null,
            "_view_module": "@jupyter-widgets/base",
            "_view_module_version": "1.2.0",
            "_view_name": "LayoutView",
            "align_content": null,
            "align_items": null,
            "align_self": null,
            "border": null,
            "bottom": null,
            "display": null,
            "flex": null,
            "flex_flow": null,
            "grid_area": null,
            "grid_auto_columns": null,
            "grid_auto_flow": null,
            "grid_auto_rows": null,
            "grid_column": null,
            "grid_gap": null,
            "grid_row": null,
            "grid_template_areas": null,
            "grid_template_columns": null,
            "grid_template_rows": null,
            "height": null,
            "justify_content": null,
            "justify_items": null,
            "left": null,
            "margin": null,
            "max_height": null,
            "max_width": null,
            "min_height": null,
            "min_width": null,
            "object_fit": null,
            "object_position": null,
            "order": null,
            "overflow": null,
            "overflow_x": null,
            "overflow_y": null,
            "padding": null,
            "right": null,
            "top": null,
            "visibility": null,
            "width": null
          }
        },
        "b431189ae0484d30a3db3fe6867f5e91": {
          "model_module": "@jupyter-widgets/base",
          "model_name": "LayoutModel",
          "model_module_version": "1.2.0",
          "state": {
            "_model_module": "@jupyter-widgets/base",
            "_model_module_version": "1.2.0",
            "_model_name": "LayoutModel",
            "_view_count": null,
            "_view_module": "@jupyter-widgets/base",
            "_view_module_version": "1.2.0",
            "_view_name": "LayoutView",
            "align_content": null,
            "align_items": null,
            "align_self": null,
            "border": null,
            "bottom": null,
            "display": null,
            "flex": null,
            "flex_flow": null,
            "grid_area": null,
            "grid_auto_columns": null,
            "grid_auto_flow": null,
            "grid_auto_rows": null,
            "grid_column": null,
            "grid_gap": null,
            "grid_row": null,
            "grid_template_areas": null,
            "grid_template_columns": null,
            "grid_template_rows": null,
            "height": null,
            "justify_content": null,
            "justify_items": null,
            "left": null,
            "margin": null,
            "max_height": null,
            "max_width": null,
            "min_height": null,
            "min_width": null,
            "object_fit": null,
            "object_position": null,
            "order": null,
            "overflow": null,
            "overflow_x": null,
            "overflow_y": null,
            "padding": null,
            "right": null,
            "top": null,
            "visibility": null,
            "width": null
          }
        },
        "93ccc2d669424c86bf834ba5e82caac3": {
          "model_module": "@jupyter-widgets/controls",
          "model_name": "DescriptionStyleModel",
          "model_module_version": "1.5.0",
          "state": {
            "_model_module": "@jupyter-widgets/controls",
            "_model_module_version": "1.5.0",
            "_model_name": "DescriptionStyleModel",
            "_view_count": null,
            "_view_module": "@jupyter-widgets/base",
            "_view_module_version": "1.2.0",
            "_view_name": "StyleView",
            "description_width": ""
          }
        },
        "ca36a094c99f4129a3f303ed378fdde8": {
          "model_module": "@jupyter-widgets/base",
          "model_name": "LayoutModel",
          "model_module_version": "1.2.0",
          "state": {
            "_model_module": "@jupyter-widgets/base",
            "_model_module_version": "1.2.0",
            "_model_name": "LayoutModel",
            "_view_count": null,
            "_view_module": "@jupyter-widgets/base",
            "_view_module_version": "1.2.0",
            "_view_name": "LayoutView",
            "align_content": null,
            "align_items": null,
            "align_self": null,
            "border": null,
            "bottom": null,
            "display": null,
            "flex": null,
            "flex_flow": null,
            "grid_area": null,
            "grid_auto_columns": null,
            "grid_auto_flow": null,
            "grid_auto_rows": null,
            "grid_column": null,
            "grid_gap": null,
            "grid_row": null,
            "grid_template_areas": null,
            "grid_template_columns": null,
            "grid_template_rows": null,
            "height": null,
            "justify_content": null,
            "justify_items": null,
            "left": null,
            "margin": null,
            "max_height": null,
            "max_width": null,
            "min_height": null,
            "min_width": null,
            "object_fit": null,
            "object_position": null,
            "order": null,
            "overflow": null,
            "overflow_x": null,
            "overflow_y": null,
            "padding": null,
            "right": null,
            "top": null,
            "visibility": null,
            "width": "20px"
          }
        },
        "212121c694cb4ef29bad63422fbdeebb": {
          "model_module": "@jupyter-widgets/controls",
          "model_name": "ProgressStyleModel",
          "model_module_version": "1.5.0",
          "state": {
            "_model_module": "@jupyter-widgets/controls",
            "_model_module_version": "1.5.0",
            "_model_name": "ProgressStyleModel",
            "_view_count": null,
            "_view_module": "@jupyter-widgets/base",
            "_view_module_version": "1.2.0",
            "_view_name": "StyleView",
            "bar_color": null,
            "description_width": ""
          }
        },
        "0d5d729d79c04a62a9c2f74a6c91d684": {
          "model_module": "@jupyter-widgets/base",
          "model_name": "LayoutModel",
          "model_module_version": "1.2.0",
          "state": {
            "_model_module": "@jupyter-widgets/base",
            "_model_module_version": "1.2.0",
            "_model_name": "LayoutModel",
            "_view_count": null,
            "_view_module": "@jupyter-widgets/base",
            "_view_module_version": "1.2.0",
            "_view_name": "LayoutView",
            "align_content": null,
            "align_items": null,
            "align_self": null,
            "border": null,
            "bottom": null,
            "display": null,
            "flex": null,
            "flex_flow": null,
            "grid_area": null,
            "grid_auto_columns": null,
            "grid_auto_flow": null,
            "grid_auto_rows": null,
            "grid_column": null,
            "grid_gap": null,
            "grid_row": null,
            "grid_template_areas": null,
            "grid_template_columns": null,
            "grid_template_rows": null,
            "height": null,
            "justify_content": null,
            "justify_items": null,
            "left": null,
            "margin": null,
            "max_height": null,
            "max_width": null,
            "min_height": null,
            "min_width": null,
            "object_fit": null,
            "object_position": null,
            "order": null,
            "overflow": null,
            "overflow_x": null,
            "overflow_y": null,
            "padding": null,
            "right": null,
            "top": null,
            "visibility": null,
            "width": null
          }
        },
        "1e430422dbaf42678be44861b0477197": {
          "model_module": "@jupyter-widgets/controls",
          "model_name": "DescriptionStyleModel",
          "model_module_version": "1.5.0",
          "state": {
            "_model_module": "@jupyter-widgets/controls",
            "_model_module_version": "1.5.0",
            "_model_name": "DescriptionStyleModel",
            "_view_count": null,
            "_view_module": "@jupyter-widgets/base",
            "_view_module_version": "1.2.0",
            "_view_name": "StyleView",
            "description_width": ""
          }
        },
        "bcf514bfd5af42ac9ab0c141d67b7de1": {
          "model_module": "@jupyter-widgets/controls",
          "model_name": "HBoxModel",
          "model_module_version": "1.5.0",
          "state": {
            "_dom_classes": [],
            "_model_module": "@jupyter-widgets/controls",
            "_model_module_version": "1.5.0",
            "_model_name": "HBoxModel",
            "_view_count": null,
            "_view_module": "@jupyter-widgets/controls",
            "_view_module_version": "1.5.0",
            "_view_name": "HBoxView",
            "box_style": "",
            "children": [
              "IPY_MODEL_4bf62da750184598b90e63467e817896",
              "IPY_MODEL_f9eb4d7e25a546a78b12106170bbbed0",
              "IPY_MODEL_d204c6a8090d4bb8a2af73c159248b96"
            ],
            "layout": "IPY_MODEL_6aa3a18d0a97497c9f319db66d5e2459"
          }
        },
        "4bf62da750184598b90e63467e817896": {
          "model_module": "@jupyter-widgets/controls",
          "model_name": "HTMLModel",
          "model_module_version": "1.5.0",
          "state": {
            "_dom_classes": [],
            "_model_module": "@jupyter-widgets/controls",
            "_model_module_version": "1.5.0",
            "_model_name": "HTMLModel",
            "_view_count": null,
            "_view_module": "@jupyter-widgets/controls",
            "_view_module_version": "1.5.0",
            "_view_name": "HTMLView",
            "description": "",
            "description_tooltip": null,
            "layout": "IPY_MODEL_0ab37247fa83457f82fc12305581695f",
            "placeholder": "​",
            "style": "IPY_MODEL_609949109cd94a5087c768d2cc7be9b7",
            "value": "Map: 100%"
          }
        },
        "f9eb4d7e25a546a78b12106170bbbed0": {
          "model_module": "@jupyter-widgets/controls",
          "model_name": "FloatProgressModel",
          "model_module_version": "1.5.0",
          "state": {
            "_dom_classes": [],
            "_model_module": "@jupyter-widgets/controls",
            "_model_module_version": "1.5.0",
            "_model_name": "FloatProgressModel",
            "_view_count": null,
            "_view_module": "@jupyter-widgets/controls",
            "_view_module_version": "1.5.0",
            "_view_name": "ProgressView",
            "bar_style": "success",
            "description": "",
            "description_tooltip": null,
            "layout": "IPY_MODEL_e8de1ed7bf1147fe8030976103473ce6",
            "max": 11030,
            "min": 0,
            "orientation": "horizontal",
            "style": "IPY_MODEL_c6d3ddd2b87b4106bea91c05982cf490",
            "value": 11030
          }
        },
        "d204c6a8090d4bb8a2af73c159248b96": {
          "model_module": "@jupyter-widgets/controls",
          "model_name": "HTMLModel",
          "model_module_version": "1.5.0",
          "state": {
            "_dom_classes": [],
            "_model_module": "@jupyter-widgets/controls",
            "_model_module_version": "1.5.0",
            "_model_name": "HTMLModel",
            "_view_count": null,
            "_view_module": "@jupyter-widgets/controls",
            "_view_module_version": "1.5.0",
            "_view_name": "HTMLView",
            "description": "",
            "description_tooltip": null,
            "layout": "IPY_MODEL_cf39ae6a760146b79b22f084ff1b2c9e",
            "placeholder": "​",
            "style": "IPY_MODEL_f6550fbc9ec34be69308dd86d322edd9",
            "value": " 11030/11030 [00:04&lt;00:00, 2356.18 examples/s]"
          }
        },
        "6aa3a18d0a97497c9f319db66d5e2459": {
          "model_module": "@jupyter-widgets/base",
          "model_name": "LayoutModel",
          "model_module_version": "1.2.0",
          "state": {
            "_model_module": "@jupyter-widgets/base",
            "_model_module_version": "1.2.0",
            "_model_name": "LayoutModel",
            "_view_count": null,
            "_view_module": "@jupyter-widgets/base",
            "_view_module_version": "1.2.0",
            "_view_name": "LayoutView",
            "align_content": null,
            "align_items": null,
            "align_self": null,
            "border": null,
            "bottom": null,
            "display": null,
            "flex": null,
            "flex_flow": null,
            "grid_area": null,
            "grid_auto_columns": null,
            "grid_auto_flow": null,
            "grid_auto_rows": null,
            "grid_column": null,
            "grid_gap": null,
            "grid_row": null,
            "grid_template_areas": null,
            "grid_template_columns": null,
            "grid_template_rows": null,
            "height": null,
            "justify_content": null,
            "justify_items": null,
            "left": null,
            "margin": null,
            "max_height": null,
            "max_width": null,
            "min_height": null,
            "min_width": null,
            "object_fit": null,
            "object_position": null,
            "order": null,
            "overflow": null,
            "overflow_x": null,
            "overflow_y": null,
            "padding": null,
            "right": null,
            "top": null,
            "visibility": null,
            "width": null
          }
        },
        "0ab37247fa83457f82fc12305581695f": {
          "model_module": "@jupyter-widgets/base",
          "model_name": "LayoutModel",
          "model_module_version": "1.2.0",
          "state": {
            "_model_module": "@jupyter-widgets/base",
            "_model_module_version": "1.2.0",
            "_model_name": "LayoutModel",
            "_view_count": null,
            "_view_module": "@jupyter-widgets/base",
            "_view_module_version": "1.2.0",
            "_view_name": "LayoutView",
            "align_content": null,
            "align_items": null,
            "align_self": null,
            "border": null,
            "bottom": null,
            "display": null,
            "flex": null,
            "flex_flow": null,
            "grid_area": null,
            "grid_auto_columns": null,
            "grid_auto_flow": null,
            "grid_auto_rows": null,
            "grid_column": null,
            "grid_gap": null,
            "grid_row": null,
            "grid_template_areas": null,
            "grid_template_columns": null,
            "grid_template_rows": null,
            "height": null,
            "justify_content": null,
            "justify_items": null,
            "left": null,
            "margin": null,
            "max_height": null,
            "max_width": null,
            "min_height": null,
            "min_width": null,
            "object_fit": null,
            "object_position": null,
            "order": null,
            "overflow": null,
            "overflow_x": null,
            "overflow_y": null,
            "padding": null,
            "right": null,
            "top": null,
            "visibility": null,
            "width": null
          }
        },
        "609949109cd94a5087c768d2cc7be9b7": {
          "model_module": "@jupyter-widgets/controls",
          "model_name": "DescriptionStyleModel",
          "model_module_version": "1.5.0",
          "state": {
            "_model_module": "@jupyter-widgets/controls",
            "_model_module_version": "1.5.0",
            "_model_name": "DescriptionStyleModel",
            "_view_count": null,
            "_view_module": "@jupyter-widgets/base",
            "_view_module_version": "1.2.0",
            "_view_name": "StyleView",
            "description_width": ""
          }
        },
        "e8de1ed7bf1147fe8030976103473ce6": {
          "model_module": "@jupyter-widgets/base",
          "model_name": "LayoutModel",
          "model_module_version": "1.2.0",
          "state": {
            "_model_module": "@jupyter-widgets/base",
            "_model_module_version": "1.2.0",
            "_model_name": "LayoutModel",
            "_view_count": null,
            "_view_module": "@jupyter-widgets/base",
            "_view_module_version": "1.2.0",
            "_view_name": "LayoutView",
            "align_content": null,
            "align_items": null,
            "align_self": null,
            "border": null,
            "bottom": null,
            "display": null,
            "flex": null,
            "flex_flow": null,
            "grid_area": null,
            "grid_auto_columns": null,
            "grid_auto_flow": null,
            "grid_auto_rows": null,
            "grid_column": null,
            "grid_gap": null,
            "grid_row": null,
            "grid_template_areas": null,
            "grid_template_columns": null,
            "grid_template_rows": null,
            "height": null,
            "justify_content": null,
            "justify_items": null,
            "left": null,
            "margin": null,
            "max_height": null,
            "max_width": null,
            "min_height": null,
            "min_width": null,
            "object_fit": null,
            "object_position": null,
            "order": null,
            "overflow": null,
            "overflow_x": null,
            "overflow_y": null,
            "padding": null,
            "right": null,
            "top": null,
            "visibility": null,
            "width": null
          }
        },
        "c6d3ddd2b87b4106bea91c05982cf490": {
          "model_module": "@jupyter-widgets/controls",
          "model_name": "ProgressStyleModel",
          "model_module_version": "1.5.0",
          "state": {
            "_model_module": "@jupyter-widgets/controls",
            "_model_module_version": "1.5.0",
            "_model_name": "ProgressStyleModel",
            "_view_count": null,
            "_view_module": "@jupyter-widgets/base",
            "_view_module_version": "1.2.0",
            "_view_name": "StyleView",
            "bar_color": null,
            "description_width": ""
          }
        },
        "cf39ae6a760146b79b22f084ff1b2c9e": {
          "model_module": "@jupyter-widgets/base",
          "model_name": "LayoutModel",
          "model_module_version": "1.2.0",
          "state": {
            "_model_module": "@jupyter-widgets/base",
            "_model_module_version": "1.2.0",
            "_model_name": "LayoutModel",
            "_view_count": null,
            "_view_module": "@jupyter-widgets/base",
            "_view_module_version": "1.2.0",
            "_view_name": "LayoutView",
            "align_content": null,
            "align_items": null,
            "align_self": null,
            "border": null,
            "bottom": null,
            "display": null,
            "flex": null,
            "flex_flow": null,
            "grid_area": null,
            "grid_auto_columns": null,
            "grid_auto_flow": null,
            "grid_auto_rows": null,
            "grid_column": null,
            "grid_gap": null,
            "grid_row": null,
            "grid_template_areas": null,
            "grid_template_columns": null,
            "grid_template_rows": null,
            "height": null,
            "justify_content": null,
            "justify_items": null,
            "left": null,
            "margin": null,
            "max_height": null,
            "max_width": null,
            "min_height": null,
            "min_width": null,
            "object_fit": null,
            "object_position": null,
            "order": null,
            "overflow": null,
            "overflow_x": null,
            "overflow_y": null,
            "padding": null,
            "right": null,
            "top": null,
            "visibility": null,
            "width": null
          }
        },
        "f6550fbc9ec34be69308dd86d322edd9": {
          "model_module": "@jupyter-widgets/controls",
          "model_name": "DescriptionStyleModel",
          "model_module_version": "1.5.0",
          "state": {
            "_model_module": "@jupyter-widgets/controls",
            "_model_module_version": "1.5.0",
            "_model_name": "DescriptionStyleModel",
            "_view_count": null,
            "_view_module": "@jupyter-widgets/base",
            "_view_module_version": "1.2.0",
            "_view_name": "StyleView",
            "description_width": ""
          }
        },
        "1c5cc23996be463fa74e7b0aa17eec5a": {
          "model_module": "@jupyter-widgets/controls",
          "model_name": "HBoxModel",
          "model_module_version": "1.5.0",
          "state": {
            "_dom_classes": [],
            "_model_module": "@jupyter-widgets/controls",
            "_model_module_version": "1.5.0",
            "_model_name": "HBoxModel",
            "_view_count": null,
            "_view_module": "@jupyter-widgets/controls",
            "_view_module_version": "1.5.0",
            "_view_name": "HBoxView",
            "box_style": "",
            "children": [
              "IPY_MODEL_1cc6cce9ee8d4786b35d9caa5f6566ea",
              "IPY_MODEL_028d43c0be3949e496ce21460e3337eb",
              "IPY_MODEL_8fc008caa65a4e33ae534be69bc70300"
            ],
            "layout": "IPY_MODEL_d06b36cb196a4cc5aefcc64e6e1fb4db"
          }
        },
        "1cc6cce9ee8d4786b35d9caa5f6566ea": {
          "model_module": "@jupyter-widgets/controls",
          "model_name": "HTMLModel",
          "model_module_version": "1.5.0",
          "state": {
            "_dom_classes": [],
            "_model_module": "@jupyter-widgets/controls",
            "_model_module_version": "1.5.0",
            "_model_name": "HTMLModel",
            "_view_count": null,
            "_view_module": "@jupyter-widgets/controls",
            "_view_module_version": "1.5.0",
            "_view_name": "HTMLView",
            "description": "",
            "description_tooltip": null,
            "layout": "IPY_MODEL_4abf85f62bd8409b93dbf4d59f4055a4",
            "placeholder": "​",
            "style": "IPY_MODEL_03dae00845314230a227da117f5255f5",
            "value": "Map: 100%"
          }
        },
        "028d43c0be3949e496ce21460e3337eb": {
          "model_module": "@jupyter-widgets/controls",
          "model_name": "FloatProgressModel",
          "model_module_version": "1.5.0",
          "state": {
            "_dom_classes": [],
            "_model_module": "@jupyter-widgets/controls",
            "_model_module_version": "1.5.0",
            "_model_name": "FloatProgressModel",
            "_view_count": null,
            "_view_module": "@jupyter-widgets/controls",
            "_view_module_version": "1.5.0",
            "_view_name": "ProgressView",
            "bar_style": "success",
            "description": "",
            "description_tooltip": null,
            "layout": "IPY_MODEL_2554784229a94b89aecb53f7d32d7a17",
            "max": 1653,
            "min": 0,
            "orientation": "horizontal",
            "style": "IPY_MODEL_3ab2b6cb75e44a048df88171b7202dd9",
            "value": 1653
          }
        },
        "8fc008caa65a4e33ae534be69bc70300": {
          "model_module": "@jupyter-widgets/controls",
          "model_name": "HTMLModel",
          "model_module_version": "1.5.0",
          "state": {
            "_dom_classes": [],
            "_model_module": "@jupyter-widgets/controls",
            "_model_module_version": "1.5.0",
            "_model_name": "HTMLModel",
            "_view_count": null,
            "_view_module": "@jupyter-widgets/controls",
            "_view_module_version": "1.5.0",
            "_view_name": "HTMLView",
            "description": "",
            "description_tooltip": null,
            "layout": "IPY_MODEL_22902904edb2499bb7c96346828af8e1",
            "placeholder": "​",
            "style": "IPY_MODEL_f59df8b7021f4aa78eec03dd68904222",
            "value": " 1653/1653 [00:00&lt;00:00, 2483.05 examples/s]"
          }
        },
        "d06b36cb196a4cc5aefcc64e6e1fb4db": {
          "model_module": "@jupyter-widgets/base",
          "model_name": "LayoutModel",
          "model_module_version": "1.2.0",
          "state": {
            "_model_module": "@jupyter-widgets/base",
            "_model_module_version": "1.2.0",
            "_model_name": "LayoutModel",
            "_view_count": null,
            "_view_module": "@jupyter-widgets/base",
            "_view_module_version": "1.2.0",
            "_view_name": "LayoutView",
            "align_content": null,
            "align_items": null,
            "align_self": null,
            "border": null,
            "bottom": null,
            "display": null,
            "flex": null,
            "flex_flow": null,
            "grid_area": null,
            "grid_auto_columns": null,
            "grid_auto_flow": null,
            "grid_auto_rows": null,
            "grid_column": null,
            "grid_gap": null,
            "grid_row": null,
            "grid_template_areas": null,
            "grid_template_columns": null,
            "grid_template_rows": null,
            "height": null,
            "justify_content": null,
            "justify_items": null,
            "left": null,
            "margin": null,
            "max_height": null,
            "max_width": null,
            "min_height": null,
            "min_width": null,
            "object_fit": null,
            "object_position": null,
            "order": null,
            "overflow": null,
            "overflow_x": null,
            "overflow_y": null,
            "padding": null,
            "right": null,
            "top": null,
            "visibility": null,
            "width": null
          }
        },
        "4abf85f62bd8409b93dbf4d59f4055a4": {
          "model_module": "@jupyter-widgets/base",
          "model_name": "LayoutModel",
          "model_module_version": "1.2.0",
          "state": {
            "_model_module": "@jupyter-widgets/base",
            "_model_module_version": "1.2.0",
            "_model_name": "LayoutModel",
            "_view_count": null,
            "_view_module": "@jupyter-widgets/base",
            "_view_module_version": "1.2.0",
            "_view_name": "LayoutView",
            "align_content": null,
            "align_items": null,
            "align_self": null,
            "border": null,
            "bottom": null,
            "display": null,
            "flex": null,
            "flex_flow": null,
            "grid_area": null,
            "grid_auto_columns": null,
            "grid_auto_flow": null,
            "grid_auto_rows": null,
            "grid_column": null,
            "grid_gap": null,
            "grid_row": null,
            "grid_template_areas": null,
            "grid_template_columns": null,
            "grid_template_rows": null,
            "height": null,
            "justify_content": null,
            "justify_items": null,
            "left": null,
            "margin": null,
            "max_height": null,
            "max_width": null,
            "min_height": null,
            "min_width": null,
            "object_fit": null,
            "object_position": null,
            "order": null,
            "overflow": null,
            "overflow_x": null,
            "overflow_y": null,
            "padding": null,
            "right": null,
            "top": null,
            "visibility": null,
            "width": null
          }
        },
        "03dae00845314230a227da117f5255f5": {
          "model_module": "@jupyter-widgets/controls",
          "model_name": "DescriptionStyleModel",
          "model_module_version": "1.5.0",
          "state": {
            "_model_module": "@jupyter-widgets/controls",
            "_model_module_version": "1.5.0",
            "_model_name": "DescriptionStyleModel",
            "_view_count": null,
            "_view_module": "@jupyter-widgets/base",
            "_view_module_version": "1.2.0",
            "_view_name": "StyleView",
            "description_width": ""
          }
        },
        "2554784229a94b89aecb53f7d32d7a17": {
          "model_module": "@jupyter-widgets/base",
          "model_name": "LayoutModel",
          "model_module_version": "1.2.0",
          "state": {
            "_model_module": "@jupyter-widgets/base",
            "_model_module_version": "1.2.0",
            "_model_name": "LayoutModel",
            "_view_count": null,
            "_view_module": "@jupyter-widgets/base",
            "_view_module_version": "1.2.0",
            "_view_name": "LayoutView",
            "align_content": null,
            "align_items": null,
            "align_self": null,
            "border": null,
            "bottom": null,
            "display": null,
            "flex": null,
            "flex_flow": null,
            "grid_area": null,
            "grid_auto_columns": null,
            "grid_auto_flow": null,
            "grid_auto_rows": null,
            "grid_column": null,
            "grid_gap": null,
            "grid_row": null,
            "grid_template_areas": null,
            "grid_template_columns": null,
            "grid_template_rows": null,
            "height": null,
            "justify_content": null,
            "justify_items": null,
            "left": null,
            "margin": null,
            "max_height": null,
            "max_width": null,
            "min_height": null,
            "min_width": null,
            "object_fit": null,
            "object_position": null,
            "order": null,
            "overflow": null,
            "overflow_x": null,
            "overflow_y": null,
            "padding": null,
            "right": null,
            "top": null,
            "visibility": null,
            "width": null
          }
        },
        "3ab2b6cb75e44a048df88171b7202dd9": {
          "model_module": "@jupyter-widgets/controls",
          "model_name": "ProgressStyleModel",
          "model_module_version": "1.5.0",
          "state": {
            "_model_module": "@jupyter-widgets/controls",
            "_model_module_version": "1.5.0",
            "_model_name": "ProgressStyleModel",
            "_view_count": null,
            "_view_module": "@jupyter-widgets/base",
            "_view_module_version": "1.2.0",
            "_view_name": "StyleView",
            "bar_color": null,
            "description_width": ""
          }
        },
        "22902904edb2499bb7c96346828af8e1": {
          "model_module": "@jupyter-widgets/base",
          "model_name": "LayoutModel",
          "model_module_version": "1.2.0",
          "state": {
            "_model_module": "@jupyter-widgets/base",
            "_model_module_version": "1.2.0",
            "_model_name": "LayoutModel",
            "_view_count": null,
            "_view_module": "@jupyter-widgets/base",
            "_view_module_version": "1.2.0",
            "_view_name": "LayoutView",
            "align_content": null,
            "align_items": null,
            "align_self": null,
            "border": null,
            "bottom": null,
            "display": null,
            "flex": null,
            "flex_flow": null,
            "grid_area": null,
            "grid_auto_columns": null,
            "grid_auto_flow": null,
            "grid_auto_rows": null,
            "grid_column": null,
            "grid_gap": null,
            "grid_row": null,
            "grid_template_areas": null,
            "grid_template_columns": null,
            "grid_template_rows": null,
            "height": null,
            "justify_content": null,
            "justify_items": null,
            "left": null,
            "margin": null,
            "max_height": null,
            "max_width": null,
            "min_height": null,
            "min_width": null,
            "object_fit": null,
            "object_position": null,
            "order": null,
            "overflow": null,
            "overflow_x": null,
            "overflow_y": null,
            "padding": null,
            "right": null,
            "top": null,
            "visibility": null,
            "width": null
          }
        },
        "f59df8b7021f4aa78eec03dd68904222": {
          "model_module": "@jupyter-widgets/controls",
          "model_name": "DescriptionStyleModel",
          "model_module_version": "1.5.0",
          "state": {
            "_model_module": "@jupyter-widgets/controls",
            "_model_module_version": "1.5.0",
            "_model_name": "DescriptionStyleModel",
            "_view_count": null,
            "_view_module": "@jupyter-widgets/base",
            "_view_module_version": "1.2.0",
            "_view_name": "StyleView",
            "description_width": ""
          }
        },
        "c0b629a2b3c64543b233396026214dbb": {
          "model_module": "@jupyter-widgets/controls",
          "model_name": "HBoxModel",
          "model_module_version": "1.5.0",
          "state": {
            "_dom_classes": [],
            "_model_module": "@jupyter-widgets/controls",
            "_model_module_version": "1.5.0",
            "_model_name": "HBoxModel",
            "_view_count": null,
            "_view_module": "@jupyter-widgets/controls",
            "_view_module_version": "1.5.0",
            "_view_name": "HBoxView",
            "box_style": "",
            "children": [
              "IPY_MODEL_73630b8aa7814ec6827ae886d2b38142",
              "IPY_MODEL_e64a0dffe36e4383af25c652b8d52cc1",
              "IPY_MODEL_8c4c7af0d7f348709cb315e0a29fb57b"
            ],
            "layout": "IPY_MODEL_b090815508ad42fa991c40de035929b8"
          }
        },
        "73630b8aa7814ec6827ae886d2b38142": {
          "model_module": "@jupyter-widgets/controls",
          "model_name": "HTMLModel",
          "model_module_version": "1.5.0",
          "state": {
            "_dom_classes": [],
            "_model_module": "@jupyter-widgets/controls",
            "_model_module_version": "1.5.0",
            "_model_name": "HTMLModel",
            "_view_count": null,
            "_view_module": "@jupyter-widgets/controls",
            "_view_module_version": "1.5.0",
            "_view_name": "HTMLView",
            "description": "",
            "description_tooltip": null,
            "layout": "IPY_MODEL_1a1c2e72fa1249a2afb6491ee4d9ebe7",
            "placeholder": "​",
            "style": "IPY_MODEL_1ac65de194e44345a550edb9b5818041",
            "value": "Map: 100%"
          }
        },
        "e64a0dffe36e4383af25c652b8d52cc1": {
          "model_module": "@jupyter-widgets/controls",
          "model_name": "FloatProgressModel",
          "model_module_version": "1.5.0",
          "state": {
            "_dom_classes": [],
            "_model_module": "@jupyter-widgets/controls",
            "_model_module_version": "1.5.0",
            "_model_name": "FloatProgressModel",
            "_view_count": null,
            "_view_module": "@jupyter-widgets/controls",
            "_view_module_version": "1.5.0",
            "_view_name": "ProgressView",
            "bar_style": "success",
            "description": "",
            "description_tooltip": null,
            "layout": "IPY_MODEL_97a191bece2e428b8a3d22e39defb992",
            "max": 119003,
            "min": 0,
            "orientation": "horizontal",
            "style": "IPY_MODEL_71b0779b441d4baab2aa351e620fbf01",
            "value": 119003
          }
        },
        "8c4c7af0d7f348709cb315e0a29fb57b": {
          "model_module": "@jupyter-widgets/controls",
          "model_name": "HTMLModel",
          "model_module_version": "1.5.0",
          "state": {
            "_dom_classes": [],
            "_model_module": "@jupyter-widgets/controls",
            "_model_module_version": "1.5.0",
            "_model_name": "HTMLModel",
            "_view_count": null,
            "_view_module": "@jupyter-widgets/controls",
            "_view_module_version": "1.5.0",
            "_view_name": "HTMLView",
            "description": "",
            "description_tooltip": null,
            "layout": "IPY_MODEL_2071e05858be4cda93405b11c53e4500",
            "placeholder": "​",
            "style": "IPY_MODEL_1b761b9ab40f43dc895e02a87e32c082",
            "value": " 119003/119003 [00:51&lt;00:00, 2311.37 examples/s]"
          }
        },
        "b090815508ad42fa991c40de035929b8": {
          "model_module": "@jupyter-widgets/base",
          "model_name": "LayoutModel",
          "model_module_version": "1.2.0",
          "state": {
            "_model_module": "@jupyter-widgets/base",
            "_model_module_version": "1.2.0",
            "_model_name": "LayoutModel",
            "_view_count": null,
            "_view_module": "@jupyter-widgets/base",
            "_view_module_version": "1.2.0",
            "_view_name": "LayoutView",
            "align_content": null,
            "align_items": null,
            "align_self": null,
            "border": null,
            "bottom": null,
            "display": null,
            "flex": null,
            "flex_flow": null,
            "grid_area": null,
            "grid_auto_columns": null,
            "grid_auto_flow": null,
            "grid_auto_rows": null,
            "grid_column": null,
            "grid_gap": null,
            "grid_row": null,
            "grid_template_areas": null,
            "grid_template_columns": null,
            "grid_template_rows": null,
            "height": null,
            "justify_content": null,
            "justify_items": null,
            "left": null,
            "margin": null,
            "max_height": null,
            "max_width": null,
            "min_height": null,
            "min_width": null,
            "object_fit": null,
            "object_position": null,
            "order": null,
            "overflow": null,
            "overflow_x": null,
            "overflow_y": null,
            "padding": null,
            "right": null,
            "top": null,
            "visibility": null,
            "width": null
          }
        },
        "1a1c2e72fa1249a2afb6491ee4d9ebe7": {
          "model_module": "@jupyter-widgets/base",
          "model_name": "LayoutModel",
          "model_module_version": "1.2.0",
          "state": {
            "_model_module": "@jupyter-widgets/base",
            "_model_module_version": "1.2.0",
            "_model_name": "LayoutModel",
            "_view_count": null,
            "_view_module": "@jupyter-widgets/base",
            "_view_module_version": "1.2.0",
            "_view_name": "LayoutView",
            "align_content": null,
            "align_items": null,
            "align_self": null,
            "border": null,
            "bottom": null,
            "display": null,
            "flex": null,
            "flex_flow": null,
            "grid_area": null,
            "grid_auto_columns": null,
            "grid_auto_flow": null,
            "grid_auto_rows": null,
            "grid_column": null,
            "grid_gap": null,
            "grid_row": null,
            "grid_template_areas": null,
            "grid_template_columns": null,
            "grid_template_rows": null,
            "height": null,
            "justify_content": null,
            "justify_items": null,
            "left": null,
            "margin": null,
            "max_height": null,
            "max_width": null,
            "min_height": null,
            "min_width": null,
            "object_fit": null,
            "object_position": null,
            "order": null,
            "overflow": null,
            "overflow_x": null,
            "overflow_y": null,
            "padding": null,
            "right": null,
            "top": null,
            "visibility": null,
            "width": null
          }
        },
        "1ac65de194e44345a550edb9b5818041": {
          "model_module": "@jupyter-widgets/controls",
          "model_name": "DescriptionStyleModel",
          "model_module_version": "1.5.0",
          "state": {
            "_model_module": "@jupyter-widgets/controls",
            "_model_module_version": "1.5.0",
            "_model_name": "DescriptionStyleModel",
            "_view_count": null,
            "_view_module": "@jupyter-widgets/base",
            "_view_module_version": "1.2.0",
            "_view_name": "StyleView",
            "description_width": ""
          }
        },
        "97a191bece2e428b8a3d22e39defb992": {
          "model_module": "@jupyter-widgets/base",
          "model_name": "LayoutModel",
          "model_module_version": "1.2.0",
          "state": {
            "_model_module": "@jupyter-widgets/base",
            "_model_module_version": "1.2.0",
            "_model_name": "LayoutModel",
            "_view_count": null,
            "_view_module": "@jupyter-widgets/base",
            "_view_module_version": "1.2.0",
            "_view_name": "LayoutView",
            "align_content": null,
            "align_items": null,
            "align_self": null,
            "border": null,
            "bottom": null,
            "display": null,
            "flex": null,
            "flex_flow": null,
            "grid_area": null,
            "grid_auto_columns": null,
            "grid_auto_flow": null,
            "grid_auto_rows": null,
            "grid_column": null,
            "grid_gap": null,
            "grid_row": null,
            "grid_template_areas": null,
            "grid_template_columns": null,
            "grid_template_rows": null,
            "height": null,
            "justify_content": null,
            "justify_items": null,
            "left": null,
            "margin": null,
            "max_height": null,
            "max_width": null,
            "min_height": null,
            "min_width": null,
            "object_fit": null,
            "object_position": null,
            "order": null,
            "overflow": null,
            "overflow_x": null,
            "overflow_y": null,
            "padding": null,
            "right": null,
            "top": null,
            "visibility": null,
            "width": null
          }
        },
        "71b0779b441d4baab2aa351e620fbf01": {
          "model_module": "@jupyter-widgets/controls",
          "model_name": "ProgressStyleModel",
          "model_module_version": "1.5.0",
          "state": {
            "_model_module": "@jupyter-widgets/controls",
            "_model_module_version": "1.5.0",
            "_model_name": "ProgressStyleModel",
            "_view_count": null,
            "_view_module": "@jupyter-widgets/base",
            "_view_module_version": "1.2.0",
            "_view_name": "StyleView",
            "bar_color": null,
            "description_width": ""
          }
        },
        "2071e05858be4cda93405b11c53e4500": {
          "model_module": "@jupyter-widgets/base",
          "model_name": "LayoutModel",
          "model_module_version": "1.2.0",
          "state": {
            "_model_module": "@jupyter-widgets/base",
            "_model_module_version": "1.2.0",
            "_model_name": "LayoutModel",
            "_view_count": null,
            "_view_module": "@jupyter-widgets/base",
            "_view_module_version": "1.2.0",
            "_view_name": "LayoutView",
            "align_content": null,
            "align_items": null,
            "align_self": null,
            "border": null,
            "bottom": null,
            "display": null,
            "flex": null,
            "flex_flow": null,
            "grid_area": null,
            "grid_auto_columns": null,
            "grid_auto_flow": null,
            "grid_auto_rows": null,
            "grid_column": null,
            "grid_gap": null,
            "grid_row": null,
            "grid_template_areas": null,
            "grid_template_columns": null,
            "grid_template_rows": null,
            "height": null,
            "justify_content": null,
            "justify_items": null,
            "left": null,
            "margin": null,
            "max_height": null,
            "max_width": null,
            "min_height": null,
            "min_width": null,
            "object_fit": null,
            "object_position": null,
            "order": null,
            "overflow": null,
            "overflow_x": null,
            "overflow_y": null,
            "padding": null,
            "right": null,
            "top": null,
            "visibility": null,
            "width": null
          }
        },
        "1b761b9ab40f43dc895e02a87e32c082": {
          "model_module": "@jupyter-widgets/controls",
          "model_name": "DescriptionStyleModel",
          "model_module_version": "1.5.0",
          "state": {
            "_model_module": "@jupyter-widgets/controls",
            "_model_module_version": "1.5.0",
            "_model_name": "DescriptionStyleModel",
            "_view_count": null,
            "_view_module": "@jupyter-widgets/base",
            "_view_module_version": "1.2.0",
            "_view_name": "StyleView",
            "description_width": ""
          }
        }
      }
    }
  },
  "nbformat": 4,
  "nbformat_minor": 0
}